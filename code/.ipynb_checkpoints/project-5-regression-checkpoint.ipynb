{
 "cells": [
  {
   "cell_type": "markdown",
   "metadata": {},
   "source": [
    "### Problem Statement\n",
    "**Problem statement:** Can we predict the number of deaths due to covid for one month with a 90% R-squared and within X points of the RMSE?\n",
    "\n",
    "**Background:**\n",
    "COVID-19 is an emergent disease that had no historical data to guide predicting/forecasting over time.\n",
    "\n",
    "**Context/situation:**\n",
    "The ability to predict the progress of the disease is crucial to decision making aimed at controlling the spread\n",
    "\n",
    "**Objectives:**\n",
    "To forecast the number of deaths due to covid-19 with a 90% prediction accuracy (p-values and uncertainty come into play here, and we’ll have to adjust our objective once we know more the importance of these statistical metrics with regards to time series modeling)\n",
    "\n",
    "**Models (potentially):**\n",
    "-      Autoregressive integrated moving average (ARIMA)\n",
    "-      Autoregressive Poision model (ARPOIS)\n",
    "-      cubic smoothing spline\n",
    "-      NAIVE\n",
    "-      Holt model – linear trend method, and winter seasonal method\n",
    "-      Trigonometric Exponential smoothing state space model with Box-Cox transformation (TBATS)"
   ]
  },
  {
   "cell_type": "markdown",
   "metadata": {},
   "source": [
    "### References\n",
    "https://git.generalassemb.ly/DSIR-Lancelot/7.07-lesson-missing-data-/blob/master/solution-code/imputation-solution-code.ipynb"
   ]
  },
  {
   "cell_type": "code",
   "execution_count": 46,
   "metadata": {},
   "outputs": [],
   "source": [
    "# Imports\n",
    "import pandas as pd\n",
    "import numpy as np\n",
    "import missingno as msno\n",
    "from sklearn.impute import KNNImputer\n",
    "from sklearn.model_selection import train_test_split\n",
    "from sklearn import metrics"
   ]
  },
  {
   "cell_type": "code",
   "execution_count": 2,
   "metadata": {},
   "outputs": [
    {
     "data": {
      "text/html": [
       "<div>\n",
       "<style scoped>\n",
       "    .dataframe tbody tr th:only-of-type {\n",
       "        vertical-align: middle;\n",
       "    }\n",
       "\n",
       "    .dataframe tbody tr th {\n",
       "        vertical-align: top;\n",
       "    }\n",
       "\n",
       "    .dataframe thead th {\n",
       "        text-align: right;\n",
       "    }\n",
       "</style>\n",
       "<table border=\"1\" class=\"dataframe\">\n",
       "  <thead>\n",
       "    <tr style=\"text-align: right;\">\n",
       "      <th></th>\n",
       "      <th>Province_State</th>\n",
       "      <th>Country_Region</th>\n",
       "      <th>Last_Update</th>\n",
       "      <th>Lat</th>\n",
       "      <th>Long_</th>\n",
       "      <th>Confirmed</th>\n",
       "      <th>Deaths</th>\n",
       "      <th>Recovered</th>\n",
       "      <th>Active</th>\n",
       "      <th>FIPS</th>\n",
       "      <th>Incident_Rate</th>\n",
       "      <th>Total_Test_Results</th>\n",
       "      <th>People_Hospitalized</th>\n",
       "      <th>Case_Fatality_Ratio</th>\n",
       "      <th>UID</th>\n",
       "      <th>ISO3</th>\n",
       "      <th>Testing_Rate</th>\n",
       "      <th>Hospitalization_Rate</th>\n",
       "    </tr>\n",
       "  </thead>\n",
       "  <tbody>\n",
       "    <tr>\n",
       "      <th>0</th>\n",
       "      <td>Alabama</td>\n",
       "      <td>US</td>\n",
       "      <td>2021-01-02 05:30:44</td>\n",
       "      <td>32.3182</td>\n",
       "      <td>-86.9023</td>\n",
       "      <td>365747</td>\n",
       "      <td>4872</td>\n",
       "      <td>202137.0</td>\n",
       "      <td>158738.0</td>\n",
       "      <td>1.0</td>\n",
       "      <td>7459.375895</td>\n",
       "      <td>1885216.0</td>\n",
       "      <td>NaN</td>\n",
       "      <td>1.332068</td>\n",
       "      <td>84000001.0</td>\n",
       "      <td>USA</td>\n",
       "      <td>38448.804196</td>\n",
       "      <td>NaN</td>\n",
       "    </tr>\n",
       "    <tr>\n",
       "      <th>1</th>\n",
       "      <td>Alaska</td>\n",
       "      <td>US</td>\n",
       "      <td>2021-01-02 05:30:44</td>\n",
       "      <td>61.3707</td>\n",
       "      <td>-152.4044</td>\n",
       "      <td>46986</td>\n",
       "      <td>206</td>\n",
       "      <td>7165.0</td>\n",
       "      <td>39615.0</td>\n",
       "      <td>2.0</td>\n",
       "      <td>6422.844801</td>\n",
       "      <td>1275750.0</td>\n",
       "      <td>NaN</td>\n",
       "      <td>0.438428</td>\n",
       "      <td>84000002.0</td>\n",
       "      <td>USA</td>\n",
       "      <td>174391.185778</td>\n",
       "      <td>NaN</td>\n",
       "    </tr>\n",
       "    <tr>\n",
       "      <th>2</th>\n",
       "      <td>American Samoa</td>\n",
       "      <td>US</td>\n",
       "      <td>2021-01-02 05:30:44</td>\n",
       "      <td>-14.2710</td>\n",
       "      <td>-170.1320</td>\n",
       "      <td>0</td>\n",
       "      <td>0</td>\n",
       "      <td>NaN</td>\n",
       "      <td>0.0</td>\n",
       "      <td>60.0</td>\n",
       "      <td>0.000000</td>\n",
       "      <td>2140.0</td>\n",
       "      <td>NaN</td>\n",
       "      <td>NaN</td>\n",
       "      <td>16.0</td>\n",
       "      <td>ASM</td>\n",
       "      <td>3846.084722</td>\n",
       "      <td>NaN</td>\n",
       "    </tr>\n",
       "    <tr>\n",
       "      <th>3</th>\n",
       "      <td>Arizona</td>\n",
       "      <td>US</td>\n",
       "      <td>2021-01-02 05:30:44</td>\n",
       "      <td>33.7298</td>\n",
       "      <td>-111.4312</td>\n",
       "      <td>530267</td>\n",
       "      <td>9015</td>\n",
       "      <td>76934.0</td>\n",
       "      <td>444318.0</td>\n",
       "      <td>4.0</td>\n",
       "      <td>7285.171274</td>\n",
       "      <td>5155330.0</td>\n",
       "      <td>NaN</td>\n",
       "      <td>1.700087</td>\n",
       "      <td>84000004.0</td>\n",
       "      <td>USA</td>\n",
       "      <td>39551.860582</td>\n",
       "      <td>NaN</td>\n",
       "    </tr>\n",
       "    <tr>\n",
       "      <th>4</th>\n",
       "      <td>Arkansas</td>\n",
       "      <td>US</td>\n",
       "      <td>2021-01-02 05:30:44</td>\n",
       "      <td>34.9697</td>\n",
       "      <td>-92.3731</td>\n",
       "      <td>229442</td>\n",
       "      <td>3711</td>\n",
       "      <td>199247.0</td>\n",
       "      <td>26484.0</td>\n",
       "      <td>5.0</td>\n",
       "      <td>7602.945718</td>\n",
       "      <td>2051488.0</td>\n",
       "      <td>NaN</td>\n",
       "      <td>1.617402</td>\n",
       "      <td>84000005.0</td>\n",
       "      <td>USA</td>\n",
       "      <td>67979.497674</td>\n",
       "      <td>NaN</td>\n",
       "    </tr>\n",
       "  </tbody>\n",
       "</table>\n",
       "</div>"
      ],
      "text/plain": [
       "   Province_State Country_Region          Last_Update      Lat     Long_  \\\n",
       "0         Alabama             US  2021-01-02 05:30:44  32.3182  -86.9023   \n",
       "1          Alaska             US  2021-01-02 05:30:44  61.3707 -152.4044   \n",
       "2  American Samoa             US  2021-01-02 05:30:44 -14.2710 -170.1320   \n",
       "3         Arizona             US  2021-01-02 05:30:44  33.7298 -111.4312   \n",
       "4        Arkansas             US  2021-01-02 05:30:44  34.9697  -92.3731   \n",
       "\n",
       "   Confirmed  Deaths  Recovered    Active  FIPS  Incident_Rate  \\\n",
       "0     365747    4872   202137.0  158738.0   1.0    7459.375895   \n",
       "1      46986     206     7165.0   39615.0   2.0    6422.844801   \n",
       "2          0       0        NaN       0.0  60.0       0.000000   \n",
       "3     530267    9015    76934.0  444318.0   4.0    7285.171274   \n",
       "4     229442    3711   199247.0   26484.0   5.0    7602.945718   \n",
       "\n",
       "   Total_Test_Results  People_Hospitalized  Case_Fatality_Ratio         UID  \\\n",
       "0           1885216.0                  NaN             1.332068  84000001.0   \n",
       "1           1275750.0                  NaN             0.438428  84000002.0   \n",
       "2              2140.0                  NaN                  NaN        16.0   \n",
       "3           5155330.0                  NaN             1.700087  84000004.0   \n",
       "4           2051488.0                  NaN             1.617402  84000005.0   \n",
       "\n",
       "  ISO3   Testing_Rate  Hospitalization_Rate  \n",
       "0  USA   38448.804196                   NaN  \n",
       "1  USA  174391.185778                   NaN  \n",
       "2  ASM    3846.084722                   NaN  \n",
       "3  USA   39551.860582                   NaN  \n",
       "4  USA   67979.497674                   NaN  "
      ]
     },
     "execution_count": 2,
     "metadata": {},
     "output_type": "execute_result"
    }
   ],
   "source": [
    "# Read the JHU data for 01/01/21\n",
    "jhu = pd.read_csv('../covid-19-prediction/datasets/csse_covid_19_daily_reports_us/01-01-2021.csv',\n",
    "                 na_values=[''], keep_default_na=False)\n",
    "# jhu = pd.read_csv('../datasets/csse_covid_19_daily_reports_us/01-01-2021.csv',\n",
    "#                  na_values=[''], keep_default_na=False)\n",
    "jhu.head(5)"
   ]
  },
  {
   "cell_type": "code",
   "execution_count": 3,
   "metadata": {},
   "outputs": [
    {
     "data": {
      "text/plain": [
       "(58, 18)"
      ]
     },
     "execution_count": 3,
     "metadata": {},
     "output_type": "execute_result"
    }
   ],
   "source": [
    "# Check shape\n",
    "jhu.shape"
   ]
  },
  {
   "cell_type": "markdown",
   "metadata": {},
   "source": [
    "### Create a single dataframe with 1 month's worth of data"
   ]
  },
  {
   "cell_type": "code",
   "execution_count": 4,
   "metadata": {},
   "outputs": [],
   "source": [
    "# Define a function that converts csv files from Januaray 2021 into data frames and returns a data frame\n",
    "def csv_concatenator(my_num):\n",
    "    if my_num < 10:\n",
    "        df = pd.read_csv(f'../covid-19-prediction/datasets/csse_covid_19_daily_reports_us/01-0{my_num}-2021.csv',\n",
    "                        na_values=[''], keep_default_na=False)\n",
    "    elif my_num >= 10:\n",
    "        df = pd.read_csv(f'../covid-19-prediction/datasets/csse_covid_19_daily_reports_us/01-{my_num}-2021.csv',\n",
    "                        na_values=[''], keep_default_na=False)  \n",
    "    return df"
   ]
  },
  {
   "cell_type": "code",
   "execution_count": 5,
   "metadata": {},
   "outputs": [
    {
     "name": "stdout",
     "output_type": "stream",
     "text": [
      "1798\n"
     ]
    }
   ],
   "source": [
    "# Create a for loop to concatenate all data frames into 1 data frame\n",
    "counter = jhu.shape[0]\n",
    "for i in range(2, 32):\n",
    "    jhu_i = csv_concatenator(i)\n",
    "    counter += jhu_i.shape[0]\n",
    "    jhu = pd.concat([jhu, jhu_i])\n",
    "print(counter)"
   ]
  },
  {
   "cell_type": "code",
   "execution_count": 6,
   "metadata": {},
   "outputs": [
    {
     "data": {
      "text/plain": [
       "(1798, 18)"
      ]
     },
     "execution_count": 6,
     "metadata": {},
     "output_type": "execute_result"
    }
   ],
   "source": [
    "# Check code execution\n",
    "jhu.shape"
   ]
  },
  {
   "cell_type": "code",
   "execution_count": 7,
   "metadata": {},
   "outputs": [],
   "source": [
    "# Rename column names\n",
    "jhu.columns = [column.lower() for column in jhu.columns]"
   ]
  },
  {
   "cell_type": "markdown",
   "metadata": {},
   "source": [
    "### Missing Values"
   ]
  },
  {
   "cell_type": "code",
   "execution_count": 8,
   "metadata": {},
   "outputs": [
    {
     "data": {
      "text/plain": [
       "province_state             0\n",
       "country_region             0\n",
       "last_update                0\n",
       "lat                       62\n",
       "long_                     62\n",
       "confirmed                  0\n",
       "deaths                     0\n",
       "recovered                357\n",
       "active                     0\n",
       "fips                       0\n",
       "incident_rate             62\n",
       "total_test_results        62\n",
       "people_hospitalized     1798\n",
       "case_fatality_ratio       31\n",
       "uid                        0\n",
       "iso3                       0\n",
       "testing_rate              62\n",
       "hospitalization_rate    1798\n",
       "dtype: int64"
      ]
     },
     "execution_count": 8,
     "metadata": {},
     "output_type": "execute_result"
    }
   ],
   "source": [
    "# Check missing values\n",
    "jhu.isnull().sum()"
   ]
  },
  {
   "cell_type": "code",
   "execution_count": 9,
   "metadata": {},
   "outputs": [
    {
     "data": {
      "text/plain": [
       "(1798, 16)"
      ]
     },
     "execution_count": 9,
     "metadata": {},
     "output_type": "execute_result"
    }
   ],
   "source": [
    "# Drop 2 columns with 100% missing values: people_hospitalized and hospitalization_rate\n",
    "jhu = jhu.drop(columns=['people_hospitalized', 'hospitalization_rate'])\n",
    "jhu.shape"
   ]
  },
  {
   "cell_type": "code",
   "execution_count": 10,
   "metadata": {},
   "outputs": [
    {
     "data": {
      "image/png": "[encoded data removed]",
      "text/plain": [
       "<Figure size 1800x720 with 2 Axes>"
      ]
     },
     "metadata": {
      "needs_background": "light"
     },
     "output_type": "display_data"
    }
   ],
   "source": [
    "# Examine missing data\n",
    "msno.matrix(jhu);"
   ]
  },
  {
   "cell_type": "code",
   "execution_count": 11,
   "metadata": {},
   "outputs": [
    {
     "data": {
      "text/html": [
       "<div>\n",
       "<style scoped>\n",
       "    .dataframe tbody tr th:only-of-type {\n",
       "        vertical-align: middle;\n",
       "    }\n",
       "\n",
       "    .dataframe tbody tr th {\n",
       "        vertical-align: top;\n",
       "    }\n",
       "\n",
       "    .dataframe thead th {\n",
       "        text-align: right;\n",
       "    }\n",
       "</style>\n",
       "<table border=\"1\" class=\"dataframe\">\n",
       "  <thead>\n",
       "    <tr style=\"text-align: right;\">\n",
       "      <th></th>\n",
       "      <th>lat</th>\n",
       "      <th>long_</th>\n",
       "      <th>incident_rate</th>\n",
       "      <th>total_test_results</th>\n",
       "      <th>testing_rate</th>\n",
       "    </tr>\n",
       "  </thead>\n",
       "  <tbody>\n",
       "    <tr>\n",
       "      <th>9</th>\n",
       "      <td>NaN</td>\n",
       "      <td>NaN</td>\n",
       "      <td>NaN</td>\n",
       "      <td>NaN</td>\n",
       "      <td>NaN</td>\n",
       "    </tr>\n",
       "    <tr>\n",
       "      <th>13</th>\n",
       "      <td>NaN</td>\n",
       "      <td>NaN</td>\n",
       "      <td>NaN</td>\n",
       "      <td>NaN</td>\n",
       "      <td>NaN</td>\n",
       "    </tr>\n",
       "    <tr>\n",
       "      <th>9</th>\n",
       "      <td>NaN</td>\n",
       "      <td>NaN</td>\n",
       "      <td>NaN</td>\n",
       "      <td>NaN</td>\n",
       "      <td>NaN</td>\n",
       "    </tr>\n",
       "    <tr>\n",
       "      <th>13</th>\n",
       "      <td>NaN</td>\n",
       "      <td>NaN</td>\n",
       "      <td>NaN</td>\n",
       "      <td>NaN</td>\n",
       "      <td>NaN</td>\n",
       "    </tr>\n",
       "    <tr>\n",
       "      <th>9</th>\n",
       "      <td>NaN</td>\n",
       "      <td>NaN</td>\n",
       "      <td>NaN</td>\n",
       "      <td>NaN</td>\n",
       "      <td>NaN</td>\n",
       "    </tr>\n",
       "    <tr>\n",
       "      <th>...</th>\n",
       "      <td>...</td>\n",
       "      <td>...</td>\n",
       "      <td>...</td>\n",
       "      <td>...</td>\n",
       "      <td>...</td>\n",
       "    </tr>\n",
       "    <tr>\n",
       "      <th>13</th>\n",
       "      <td>NaN</td>\n",
       "      <td>NaN</td>\n",
       "      <td>NaN</td>\n",
       "      <td>NaN</td>\n",
       "      <td>NaN</td>\n",
       "    </tr>\n",
       "    <tr>\n",
       "      <th>9</th>\n",
       "      <td>NaN</td>\n",
       "      <td>NaN</td>\n",
       "      <td>NaN</td>\n",
       "      <td>NaN</td>\n",
       "      <td>NaN</td>\n",
       "    </tr>\n",
       "    <tr>\n",
       "      <th>13</th>\n",
       "      <td>NaN</td>\n",
       "      <td>NaN</td>\n",
       "      <td>NaN</td>\n",
       "      <td>NaN</td>\n",
       "      <td>NaN</td>\n",
       "    </tr>\n",
       "    <tr>\n",
       "      <th>9</th>\n",
       "      <td>NaN</td>\n",
       "      <td>NaN</td>\n",
       "      <td>NaN</td>\n",
       "      <td>NaN</td>\n",
       "      <td>NaN</td>\n",
       "    </tr>\n",
       "    <tr>\n",
       "      <th>13</th>\n",
       "      <td>NaN</td>\n",
       "      <td>NaN</td>\n",
       "      <td>NaN</td>\n",
       "      <td>NaN</td>\n",
       "      <td>NaN</td>\n",
       "    </tr>\n",
       "  </tbody>\n",
       "</table>\n",
       "<p>62 rows × 5 columns</p>\n",
       "</div>"
      ],
      "text/plain": [
       "    lat  long_  incident_rate  total_test_results  testing_rate\n",
       "9   NaN    NaN            NaN                 NaN           NaN\n",
       "13  NaN    NaN            NaN                 NaN           NaN\n",
       "9   NaN    NaN            NaN                 NaN           NaN\n",
       "13  NaN    NaN            NaN                 NaN           NaN\n",
       "9   NaN    NaN            NaN                 NaN           NaN\n",
       "..  ...    ...            ...                 ...           ...\n",
       "13  NaN    NaN            NaN                 NaN           NaN\n",
       "9   NaN    NaN            NaN                 NaN           NaN\n",
       "13  NaN    NaN            NaN                 NaN           NaN\n",
       "9   NaN    NaN            NaN                 NaN           NaN\n",
       "13  NaN    NaN            NaN                 NaN           NaN\n",
       "\n",
       "[62 rows x 5 columns]"
      ]
     },
     "execution_count": 11,
     "metadata": {},
     "output_type": "execute_result"
    }
   ],
   "source": [
    "# Check columns with 62 missing values each\n",
    "missing_df = jhu.loc[jhu['lat'].isnull()][['lat', 'long_', \n",
    "                                           'incident_rate', 'total_test_results', \n",
    "                                           'testing_rate']]\n",
    "missing_df"
   ]
  },
  {
   "cell_type": "code",
   "execution_count": 12,
   "metadata": {},
   "outputs": [
    {
     "data": {
      "text/plain": [
       "lat                   62\n",
       "long_                 62\n",
       "incident_rate         62\n",
       "total_test_results    62\n",
       "testing_rate          62\n",
       "dtype: int64"
      ]
     },
     "execution_count": 12,
     "metadata": {},
     "output_type": "execute_result"
    }
   ],
   "source": [
    "# Confirming that all these missing values came from the same indices\n",
    "missing_df.isnull().sum()"
   ]
  },
  {
   "cell_type": "code",
   "execution_count": 13,
   "metadata": {},
   "outputs": [
    {
     "data": {
      "text/html": [
       "<div>\n",
       "<style scoped>\n",
       "    .dataframe tbody tr th:only-of-type {\n",
       "        vertical-align: middle;\n",
       "    }\n",
       "\n",
       "    .dataframe tbody tr th {\n",
       "        vertical-align: top;\n",
       "    }\n",
       "\n",
       "    .dataframe thead th {\n",
       "        text-align: right;\n",
       "    }\n",
       "</style>\n",
       "<table border=\"1\" class=\"dataframe\">\n",
       "  <thead>\n",
       "    <tr style=\"text-align: right;\">\n",
       "      <th></th>\n",
       "      <th>recovered</th>\n",
       "    </tr>\n",
       "  </thead>\n",
       "  <tbody>\n",
       "    <tr>\n",
       "      <th>0</th>\n",
       "      <td>202137.0</td>\n",
       "    </tr>\n",
       "    <tr>\n",
       "      <th>1</th>\n",
       "      <td>7165.0</td>\n",
       "    </tr>\n",
       "    <tr>\n",
       "      <th>2</th>\n",
       "      <td>NaN</td>\n",
       "    </tr>\n",
       "  </tbody>\n",
       "</table>\n",
       "</div>"
      ],
      "text/plain": [
       "   recovered\n",
       "0   202137.0\n",
       "1     7165.0\n",
       "2        NaN"
      ]
     },
     "execution_count": 13,
     "metadata": {},
     "output_type": "execute_result"
    }
   ],
   "source": [
    "# Check column 'recovered'\n",
    "jhu[['recovered']].head(3)"
   ]
  },
  {
   "cell_type": "code",
   "execution_count": 14,
   "metadata": {},
   "outputs": [
    {
     "data": {
      "text/html": [
       "<div>\n",
       "<style scoped>\n",
       "    .dataframe tbody tr th:only-of-type {\n",
       "        vertical-align: middle;\n",
       "    }\n",
       "\n",
       "    .dataframe tbody tr th {\n",
       "        vertical-align: top;\n",
       "    }\n",
       "\n",
       "    .dataframe thead th {\n",
       "        text-align: right;\n",
       "    }\n",
       "</style>\n",
       "<table border=\"1\" class=\"dataframe\">\n",
       "  <thead>\n",
       "    <tr style=\"text-align: right;\">\n",
       "      <th></th>\n",
       "      <th>case_fatality_ratio</th>\n",
       "    </tr>\n",
       "  </thead>\n",
       "  <tbody>\n",
       "    <tr>\n",
       "      <th>0</th>\n",
       "      <td>1.332068</td>\n",
       "    </tr>\n",
       "    <tr>\n",
       "      <th>1</th>\n",
       "      <td>0.438428</td>\n",
       "    </tr>\n",
       "    <tr>\n",
       "      <th>2</th>\n",
       "      <td>NaN</td>\n",
       "    </tr>\n",
       "  </tbody>\n",
       "</table>\n",
       "</div>"
      ],
      "text/plain": [
       "   case_fatality_ratio\n",
       "0             1.332068\n",
       "1             0.438428\n",
       "2                  NaN"
      ]
     },
     "execution_count": 14,
     "metadata": {},
     "output_type": "execute_result"
    }
   ],
   "source": [
    "# Check column 'case_fatality_ratio'\n",
    "jhu[['case_fatality_ratio']].head(3)"
   ]
  },
  {
   "cell_type": "markdown",
   "metadata": {},
   "source": [
    "**Interpretation of Missing Values:** \n",
    "\n",
    "It appears that the 62 missing values for 'lat', 'long_', 'incident_rate', 'total_test_results', and 'testing_rate' all came from the same source. These data can be classified as missing at random. The columns for 'recovered' and 'case_fatality_ratio' are also missing values, but the pattern is not as obvious.\n",
    "\n",
    "In the section on imputation, we will use the KNNImputer to fill in gaps with the missing values as we prefer this method over the complete case analysis, which would significantly reduce the amount of data with which we can work. Utilizing the KNN imputation method makes sense for the 5 columns with 62 missing values, since they all come from the same source. The type of missingness is not as clear for 'recovered' and 'case_fatality_ratio', so we assume that the KNNImputer will impute the best estimated values for the missing data in these two cases."
   ]
  },
  {
   "cell_type": "markdown",
   "metadata": {},
   "source": [
    "### Convert columns to the appropriate data types"
   ]
  },
  {
   "cell_type": "code",
   "execution_count": 15,
   "metadata": {},
   "outputs": [
    {
     "data": {
      "text/plain": [
       "province_state          object\n",
       "country_region          object\n",
       "last_update             object\n",
       "lat                    float64\n",
       "long_                  float64\n",
       "confirmed                int64\n",
       "deaths                   int64\n",
       "recovered              float64\n",
       "active                 float64\n",
       "fips                   float64\n",
       "incident_rate          float64\n",
       "total_test_results     float64\n",
       "case_fatality_ratio    float64\n",
       "uid                    float64\n",
       "iso3                    object\n",
       "testing_rate           float64\n",
       "dtype: object"
      ]
     },
     "execution_count": 15,
     "metadata": {},
     "output_type": "execute_result"
    }
   ],
   "source": [
    "# Check data types\n",
    "jhu.dtypes"
   ]
  },
  {
   "cell_type": "code",
   "execution_count": 16,
   "metadata": {},
   "outputs": [
    {
     "data": {
      "text/plain": [
       "array(['Alabama', 'Alaska', 'American Samoa', 'Arizona', 'Arkansas',\n",
       "       'California', 'Colorado', 'Connecticut', 'Delaware',\n",
       "       'Diamond Princess', 'District of Columbia', 'Florida', 'Georgia',\n",
       "       'Grand Princess', 'Guam', 'Hawaii', 'Idaho', 'Illinois', 'Indiana',\n",
       "       'Iowa', 'Kansas', 'Kentucky', 'Louisiana', 'Maine', 'Maryland',\n",
       "       'Massachusetts', 'Michigan', 'Minnesota', 'Mississippi',\n",
       "       'Missouri', 'Montana', 'Nebraska', 'Nevada', 'New Hampshire',\n",
       "       'New Jersey', 'New Mexico', 'New York', 'North Carolina',\n",
       "       'North Dakota', 'Northern Mariana Islands', 'Ohio', 'Oklahoma',\n",
       "       'Oregon', 'Pennsylvania', 'Puerto Rico', 'Rhode Island',\n",
       "       'South Carolina', 'South Dakota', 'Tennessee', 'Texas', 'Utah',\n",
       "       'Vermont', 'Virgin Islands', 'Virginia', 'Washington',\n",
       "       'West Virginia', 'Wisconsin', 'Wyoming'], dtype=object)"
      ]
     },
     "execution_count": 16,
     "metadata": {},
     "output_type": "execute_result"
    }
   ],
   "source": [
    "# Check unique values for 'province_state'\n",
    "# One hot encode this variable\n",
    "jhu['province_state'].unique()"
   ]
  },
  {
   "cell_type": "code",
   "execution_count": 17,
   "metadata": {},
   "outputs": [
    {
     "data": {
      "text/plain": [
       "array(['US'], dtype=object)"
      ]
     },
     "execution_count": 17,
     "metadata": {},
     "output_type": "execute_result"
    }
   ],
   "source": [
    "# Check unique values for 'country_region'\n",
    "# Leave out of analysis since there is only 1 unique value\n",
    "jhu['country_region'].unique()"
   ]
  },
  {
   "cell_type": "code",
   "execution_count": 18,
   "metadata": {},
   "outputs": [
    {
     "data": {
      "text/plain": [
       "array(['2021-01-02 05:30:44', '2021-01-03 05:30:33',\n",
       "       '2021-01-04 05:30:45', '2021-01-05 05:30:33',\n",
       "       '2021-01-06 05:30:39', '2021-01-07 05:30:38',\n",
       "       '2021-01-08 05:30:47', '2021-01-08 09:30:35',\n",
       "       '2021-01-09 05:30:45', '2021-01-10 05:30:28',\n",
       "       '2021-01-10 09:30:31', '2021-01-11 05:30:40',\n",
       "       '2021-01-11 09:30:28', '2021-01-12 05:30:28',\n",
       "       '2021-01-12 09:30:29', '2021-01-13 05:30:34',\n",
       "       '2021-01-13 09:30:45', '2021-01-14 05:30:28',\n",
       "       '2021-01-14 09:30:29', '2021-01-15 05:30:28',\n",
       "       '2021-01-15 09:30:46', '2021-01-16 05:30:49',\n",
       "       '2021-01-16 09:30:46', '2021-01-17 05:30:35',\n",
       "       '2021-01-17 09:30:45', '2021-01-18 05:30:33',\n",
       "       '2021-01-18 09:30:43', '2021-01-19 05:30:28',\n",
       "       '2021-01-19 09:30:34', '2021-01-20 05:30:46',\n",
       "       '2021-01-20 09:30:27', '2021-01-21 05:30:34',\n",
       "       '2021-01-21 08:30:39', '2021-01-22 05:30:39',\n",
       "       '2021-01-23 05:30:27', '2021-01-23 08:30:39',\n",
       "       '2021-01-24 05:30:28', '2021-01-24 08:30:39',\n",
       "       '2021-01-25 05:30:45', '2021-01-25 08:30:35',\n",
       "       '2021-01-26 05:30:28', '2021-01-26 08:30:28',\n",
       "       '2021-01-27 05:30:51', '2021-01-27 08:30:30',\n",
       "       '2021-01-28 05:30:28', '2021-01-29 05:30:28',\n",
       "       '2021-01-29 08:30:32', '2021-01-30 05:30:40',\n",
       "       '2021-01-30 08:30:40', '2021-01-31 05:30:41',\n",
       "       '2021-01-31 08:30:39', '2021-02-01 05:30:44',\n",
       "       '2021-02-01 08:30:40'], dtype=object)"
      ]
     },
     "execution_count": 18,
     "metadata": {},
     "output_type": "execute_result"
    }
   ],
   "source": [
    "# Check unique values for 'last_update'\n",
    "# Leave out of analysis until time series portion is determined\n",
    "jhu['last_update'].unique()"
   ]
  },
  {
   "cell_type": "code",
   "execution_count": 19,
   "metadata": {},
   "outputs": [
    {
     "data": {
      "text/plain": [
       "array(['USA', 'ASM', 'GUM', 'MNP', 'PRI', 'VIR'], dtype=object)"
      ]
     },
     "execution_count": 19,
     "metadata": {},
     "output_type": "execute_result"
    }
   ],
   "source": [
    "# Check unique values for 'iso3' - one hot encode this variable\n",
    "jhu['iso3'].unique()"
   ]
  },
  {
   "cell_type": "markdown",
   "metadata": {},
   "source": [
    "**Status Update:**\n",
    "- Columns with missing values: 'lat', 'long_', 'incident_rate', 'total_test_results', 'testing_rate', 'recovered' and 'case_fatality_ratio'\n",
    "- Columns that need to be dummified: 'province_state' and 'iso3'\n",
    "- Columns to leave out of analysis: 'country_region' and 'last_update' (temporary)"
   ]
  },
  {
   "cell_type": "code",
   "execution_count": 20,
   "metadata": {},
   "outputs": [],
   "source": [
    "# Drop column: 'country_region'\n",
    "jhu = jhu.drop(columns=['country_region'])"
   ]
  },
  {
   "cell_type": "code",
   "execution_count": 21,
   "metadata": {},
   "outputs": [],
   "source": [
    "# Drop column: 'last_update' (TEMPORARY)\n",
    "jhu.drop(columns=['last_update'], inplace=True)"
   ]
  },
  {
   "cell_type": "code",
   "execution_count": 22,
   "metadata": {},
   "outputs": [
    {
     "data": {
      "text/plain": [
       "Index(['province_state', 'lat', 'long_', 'confirmed', 'deaths', 'recovered',\n",
       "       'active', 'fips', 'incident_rate', 'total_test_results',\n",
       "       'case_fatality_ratio', 'uid', 'iso3', 'testing_rate'],\n",
       "      dtype='object')"
      ]
     },
     "execution_count": 22,
     "metadata": {},
     "output_type": "execute_result"
    }
   ],
   "source": [
    "# Columns prior to dummifying\n",
    "jhu.columns"
   ]
  },
  {
   "cell_type": "code",
   "execution_count": 23,
   "metadata": {},
   "outputs": [],
   "source": [
    "# Drop columns: 'lat' and 'long_'\n",
    "jhu.drop(columns=['lat', 'long_'], inplace=True)"
   ]
  },
  {
   "cell_type": "code",
   "execution_count": 24,
   "metadata": {},
   "outputs": [
    {
     "data": {
      "text/html": [
       "<div>\n",
       "<style scoped>\n",
       "    .dataframe tbody tr th:only-of-type {\n",
       "        vertical-align: middle;\n",
       "    }\n",
       "\n",
       "    .dataframe tbody tr th {\n",
       "        vertical-align: top;\n",
       "    }\n",
       "\n",
       "    .dataframe thead th {\n",
       "        text-align: right;\n",
       "    }\n",
       "</style>\n",
       "<table border=\"1\" class=\"dataframe\">\n",
       "  <thead>\n",
       "    <tr style=\"text-align: right;\">\n",
       "      <th></th>\n",
       "      <th>province_state</th>\n",
       "      <th>confirmed</th>\n",
       "      <th>deaths</th>\n",
       "      <th>recovered</th>\n",
       "      <th>active</th>\n",
       "      <th>fips</th>\n",
       "      <th>incident_rate</th>\n",
       "      <th>total_test_results</th>\n",
       "      <th>case_fatality_ratio</th>\n",
       "      <th>uid</th>\n",
       "      <th>iso3</th>\n",
       "      <th>testing_rate</th>\n",
       "    </tr>\n",
       "  </thead>\n",
       "  <tbody>\n",
       "    <tr>\n",
       "      <th>0</th>\n",
       "      <td>Alabama</td>\n",
       "      <td>365747</td>\n",
       "      <td>4872</td>\n",
       "      <td>202137.0</td>\n",
       "      <td>158738.0</td>\n",
       "      <td>1.0</td>\n",
       "      <td>7459.375895</td>\n",
       "      <td>1885216.0</td>\n",
       "      <td>1.332068</td>\n",
       "      <td>84000001.0</td>\n",
       "      <td>USA</td>\n",
       "      <td>38448.804196</td>\n",
       "    </tr>\n",
       "    <tr>\n",
       "      <th>1</th>\n",
       "      <td>Alaska</td>\n",
       "      <td>46986</td>\n",
       "      <td>206</td>\n",
       "      <td>7165.0</td>\n",
       "      <td>39615.0</td>\n",
       "      <td>2.0</td>\n",
       "      <td>6422.844801</td>\n",
       "      <td>1275750.0</td>\n",
       "      <td>0.438428</td>\n",
       "      <td>84000002.0</td>\n",
       "      <td>USA</td>\n",
       "      <td>174391.185778</td>\n",
       "    </tr>\n",
       "    <tr>\n",
       "      <th>2</th>\n",
       "      <td>American Samoa</td>\n",
       "      <td>0</td>\n",
       "      <td>0</td>\n",
       "      <td>NaN</td>\n",
       "      <td>0.0</td>\n",
       "      <td>60.0</td>\n",
       "      <td>0.000000</td>\n",
       "      <td>2140.0</td>\n",
       "      <td>NaN</td>\n",
       "      <td>16.0</td>\n",
       "      <td>ASM</td>\n",
       "      <td>3846.084722</td>\n",
       "    </tr>\n",
       "  </tbody>\n",
       "</table>\n",
       "</div>"
      ],
      "text/plain": [
       "   province_state  confirmed  deaths  recovered    active  fips  \\\n",
       "0         Alabama     365747    4872   202137.0  158738.0   1.0   \n",
       "1          Alaska      46986     206     7165.0   39615.0   2.0   \n",
       "2  American Samoa          0       0        NaN       0.0  60.0   \n",
       "\n",
       "   incident_rate  total_test_results  case_fatality_ratio         uid iso3  \\\n",
       "0    7459.375895           1885216.0             1.332068  84000001.0  USA   \n",
       "1    6422.844801           1275750.0             0.438428  84000002.0  USA   \n",
       "2       0.000000              2140.0                  NaN        16.0  ASM   \n",
       "\n",
       "    testing_rate  \n",
       "0   38448.804196  \n",
       "1  174391.185778  \n",
       "2    3846.084722  "
      ]
     },
     "execution_count": 24,
     "metadata": {},
     "output_type": "execute_result"
    }
   ],
   "source": [
    "jhu.head(3)"
   ]
  },
  {
   "cell_type": "code",
   "execution_count": 25,
   "metadata": {},
   "outputs": [],
   "source": [
    "# # Dummify two categorical columns\n",
    "# jhu = pd.get_dummies(data=jhu, columns=['iso3'], drop_first=True) # Left out 'province_state'\n",
    "\n",
    "# Drop the 'iso3' column\n",
    "jhu.drop(columns=['iso3'], inplace=True)"
   ]
  },
  {
   "cell_type": "code",
   "execution_count": 26,
   "metadata": {},
   "outputs": [
    {
     "data": {
      "text/plain": [
       "Index(['province_state', 'confirmed', 'deaths', 'recovered', 'active', 'fips',\n",
       "       'incident_rate', 'total_test_results', 'case_fatality_ratio', 'uid',\n",
       "       'testing_rate'],\n",
       "      dtype='object')"
      ]
     },
     "execution_count": 26,
     "metadata": {},
     "output_type": "execute_result"
    }
   ],
   "source": [
    "# Columns after dummifying\n",
    "jhu.columns"
   ]
  },
  {
   "cell_type": "code",
   "execution_count": 27,
   "metadata": {},
   "outputs": [
    {
     "data": {
      "image/png": "[encoded data removed]",
      "text/plain": [
       "<Figure size 432x288 with 2 Axes>"
      ]
     },
     "metadata": {
      "needs_background": "light"
     },
     "output_type": "display_data"
    }
   ],
   "source": [
    "# Plot heat map\n",
    "import seaborn as sns\n",
    "sns.heatmap(jhu.corr(), cmap='viridis');"
   ]
  },
  {
   "cell_type": "code",
   "execution_count": 28,
   "metadata": {},
   "outputs": [
    {
     "data": {
      "text/plain": [
       "deaths                 1.000000\n",
       "total_test_results     0.919641\n",
       "confirmed              0.891023\n",
       "active                 0.736420\n",
       "recovered              0.586400\n",
       "case_fatality_ratio    0.389545\n",
       "uid                    0.226918\n",
       "incident_rate          0.148440\n",
       "testing_rate           0.102788\n",
       "fips                  -0.147441\n",
       "Name: deaths, dtype: float64"
      ]
     },
     "execution_count": 28,
     "metadata": {},
     "output_type": "execute_result"
    }
   ],
   "source": [
    "# Correlation of deaths\n",
    "jhu.corr()['deaths'].sort_values(ascending=False)"
   ]
  },
  {
   "cell_type": "markdown",
   "metadata": {},
   "source": [
    "### Imputation"
   ]
  },
  {
   "cell_type": "code",
   "execution_count": 29,
   "metadata": {},
   "outputs": [
    {
     "data": {
      "text/html": [
       "<div>\n",
       "<style scoped>\n",
       "    .dataframe tbody tr th:only-of-type {\n",
       "        vertical-align: middle;\n",
       "    }\n",
       "\n",
       "    .dataframe tbody tr th {\n",
       "        vertical-align: top;\n",
       "    }\n",
       "\n",
       "    .dataframe thead th {\n",
       "        text-align: right;\n",
       "    }\n",
       "</style>\n",
       "<table border=\"1\" class=\"dataframe\">\n",
       "  <thead>\n",
       "    <tr style=\"text-align: right;\">\n",
       "      <th></th>\n",
       "      <th>province_state</th>\n",
       "      <th>confirmed</th>\n",
       "      <th>deaths</th>\n",
       "      <th>recovered</th>\n",
       "      <th>active</th>\n",
       "      <th>fips</th>\n",
       "      <th>incident_rate</th>\n",
       "      <th>total_test_results</th>\n",
       "      <th>case_fatality_ratio</th>\n",
       "      <th>uid</th>\n",
       "      <th>testing_rate</th>\n",
       "    </tr>\n",
       "  </thead>\n",
       "  <tbody>\n",
       "    <tr>\n",
       "      <th>0</th>\n",
       "      <td>Alabama</td>\n",
       "      <td>365747</td>\n",
       "      <td>4872</td>\n",
       "      <td>202137.0</td>\n",
       "      <td>158738.0</td>\n",
       "      <td>1.0</td>\n",
       "      <td>7459.375895</td>\n",
       "      <td>1885216.0</td>\n",
       "      <td>1.332068</td>\n",
       "      <td>84000001.0</td>\n",
       "      <td>38448.804196</td>\n",
       "    </tr>\n",
       "    <tr>\n",
       "      <th>1</th>\n",
       "      <td>Alaska</td>\n",
       "      <td>46986</td>\n",
       "      <td>206</td>\n",
       "      <td>7165.0</td>\n",
       "      <td>39615.0</td>\n",
       "      <td>2.0</td>\n",
       "      <td>6422.844801</td>\n",
       "      <td>1275750.0</td>\n",
       "      <td>0.438428</td>\n",
       "      <td>84000002.0</td>\n",
       "      <td>174391.185778</td>\n",
       "    </tr>\n",
       "    <tr>\n",
       "      <th>2</th>\n",
       "      <td>American Samoa</td>\n",
       "      <td>0</td>\n",
       "      <td>0</td>\n",
       "      <td>NaN</td>\n",
       "      <td>0.0</td>\n",
       "      <td>60.0</td>\n",
       "      <td>0.000000</td>\n",
       "      <td>2140.0</td>\n",
       "      <td>NaN</td>\n",
       "      <td>16.0</td>\n",
       "      <td>3846.084722</td>\n",
       "    </tr>\n",
       "    <tr>\n",
       "      <th>3</th>\n",
       "      <td>Arizona</td>\n",
       "      <td>530267</td>\n",
       "      <td>9015</td>\n",
       "      <td>76934.0</td>\n",
       "      <td>444318.0</td>\n",
       "      <td>4.0</td>\n",
       "      <td>7285.171274</td>\n",
       "      <td>5155330.0</td>\n",
       "      <td>1.700087</td>\n",
       "      <td>84000004.0</td>\n",
       "      <td>39551.860582</td>\n",
       "    </tr>\n",
       "    <tr>\n",
       "      <th>4</th>\n",
       "      <td>Arkansas</td>\n",
       "      <td>229442</td>\n",
       "      <td>3711</td>\n",
       "      <td>199247.0</td>\n",
       "      <td>26484.0</td>\n",
       "      <td>5.0</td>\n",
       "      <td>7602.945718</td>\n",
       "      <td>2051488.0</td>\n",
       "      <td>1.617402</td>\n",
       "      <td>84000005.0</td>\n",
       "      <td>67979.497674</td>\n",
       "    </tr>\n",
       "    <tr>\n",
       "      <th>...</th>\n",
       "      <td>...</td>\n",
       "      <td>...</td>\n",
       "      <td>...</td>\n",
       "      <td>...</td>\n",
       "      <td>...</td>\n",
       "      <td>...</td>\n",
       "      <td>...</td>\n",
       "      <td>...</td>\n",
       "      <td>...</td>\n",
       "      <td>...</td>\n",
       "      <td>...</td>\n",
       "    </tr>\n",
       "    <tr>\n",
       "      <th>53</th>\n",
       "      <td>Virginia</td>\n",
       "      <td>504779</td>\n",
       "      <td>6464</td>\n",
       "      <td>40322.0</td>\n",
       "      <td>457993.0</td>\n",
       "      <td>51.0</td>\n",
       "      <td>5913.864172</td>\n",
       "      <td>5234155.0</td>\n",
       "      <td>1.280560</td>\n",
       "      <td>84000051.0</td>\n",
       "      <td>61322.047318</td>\n",
       "    </tr>\n",
       "    <tr>\n",
       "      <th>54</th>\n",
       "      <td>Washington</td>\n",
       "      <td>311597</td>\n",
       "      <td>4285</td>\n",
       "      <td>NaN</td>\n",
       "      <td>307312.0</td>\n",
       "      <td>53.0</td>\n",
       "      <td>4091.941935</td>\n",
       "      <td>4548239.0</td>\n",
       "      <td>1.375174</td>\n",
       "      <td>84000053.0</td>\n",
       "      <td>59728.206293</td>\n",
       "    </tr>\n",
       "    <tr>\n",
       "      <th>55</th>\n",
       "      <td>West Virginia</td>\n",
       "      <td>121001</td>\n",
       "      <td>2024</td>\n",
       "      <td>97782.0</td>\n",
       "      <td>21195.0</td>\n",
       "      <td>54.0</td>\n",
       "      <td>6751.734093</td>\n",
       "      <td>1945579.0</td>\n",
       "      <td>1.672713</td>\n",
       "      <td>84000054.0</td>\n",
       "      <td>108561.351273</td>\n",
       "    </tr>\n",
       "    <tr>\n",
       "      <th>56</th>\n",
       "      <td>Wisconsin</td>\n",
       "      <td>592140</td>\n",
       "      <td>6434</td>\n",
       "      <td>517169.0</td>\n",
       "      <td>68537.0</td>\n",
       "      <td>55.0</td>\n",
       "      <td>10169.973588</td>\n",
       "      <td>6177575.0</td>\n",
       "      <td>1.086567</td>\n",
       "      <td>84000055.0</td>\n",
       "      <td>106099.528135</td>\n",
       "    </tr>\n",
       "    <tr>\n",
       "      <th>57</th>\n",
       "      <td>Wyoming</td>\n",
       "      <td>51912</td>\n",
       "      <td>596</td>\n",
       "      <td>50003.0</td>\n",
       "      <td>1313.0</td>\n",
       "      <td>56.0</td>\n",
       "      <td>8969.536543</td>\n",
       "      <td>634985.0</td>\n",
       "      <td>1.148097</td>\n",
       "      <td>84000056.0</td>\n",
       "      <td>109714.924520</td>\n",
       "    </tr>\n",
       "  </tbody>\n",
       "</table>\n",
       "<p>1798 rows × 11 columns</p>\n",
       "</div>"
      ],
      "text/plain": [
       "    province_state  confirmed  deaths  recovered    active  fips  \\\n",
       "0          Alabama     365747    4872   202137.0  158738.0   1.0   \n",
       "1           Alaska      46986     206     7165.0   39615.0   2.0   \n",
       "2   American Samoa          0       0        NaN       0.0  60.0   \n",
       "3          Arizona     530267    9015    76934.0  444318.0   4.0   \n",
       "4         Arkansas     229442    3711   199247.0   26484.0   5.0   \n",
       "..             ...        ...     ...        ...       ...   ...   \n",
       "53        Virginia     504779    6464    40322.0  457993.0  51.0   \n",
       "54      Washington     311597    4285        NaN  307312.0  53.0   \n",
       "55   West Virginia     121001    2024    97782.0   21195.0  54.0   \n",
       "56       Wisconsin     592140    6434   517169.0   68537.0  55.0   \n",
       "57         Wyoming      51912     596    50003.0    1313.0  56.0   \n",
       "\n",
       "    incident_rate  total_test_results  case_fatality_ratio         uid  \\\n",
       "0     7459.375895           1885216.0             1.332068  84000001.0   \n",
       "1     6422.844801           1275750.0             0.438428  84000002.0   \n",
       "2        0.000000              2140.0                  NaN        16.0   \n",
       "3     7285.171274           5155330.0             1.700087  84000004.0   \n",
       "4     7602.945718           2051488.0             1.617402  84000005.0   \n",
       "..            ...                 ...                  ...         ...   \n",
       "53    5913.864172           5234155.0             1.280560  84000051.0   \n",
       "54    4091.941935           4548239.0             1.375174  84000053.0   \n",
       "55    6751.734093           1945579.0             1.672713  84000054.0   \n",
       "56   10169.973588           6177575.0             1.086567  84000055.0   \n",
       "57    8969.536543            634985.0             1.148097  84000056.0   \n",
       "\n",
       "     testing_rate  \n",
       "0    38448.804196  \n",
       "1   174391.185778  \n",
       "2     3846.084722  \n",
       "3    39551.860582  \n",
       "4    67979.497674  \n",
       "..            ...  \n",
       "53   61322.047318  \n",
       "54   59728.206293  \n",
       "55  108561.351273  \n",
       "56  106099.528135  \n",
       "57  109714.924520  \n",
       "\n",
       "[1798 rows x 11 columns]"
      ]
     },
     "execution_count": 29,
     "metadata": {},
     "output_type": "execute_result"
    }
   ],
   "source": [
    "jhu"
   ]
  },
  {
   "cell_type": "code",
   "execution_count": 30,
   "metadata": {},
   "outputs": [
    {
     "data": {
      "text/plain": [
       "province_state          object\n",
       "confirmed                int64\n",
       "deaths                   int64\n",
       "recovered              float64\n",
       "active                 float64\n",
       "fips                   float64\n",
       "incident_rate          float64\n",
       "total_test_results     float64\n",
       "case_fatality_ratio    float64\n",
       "uid                    float64\n",
       "testing_rate           float64\n",
       "dtype: object"
      ]
     },
     "execution_count": 30,
     "metadata": {},
     "output_type": "execute_result"
    }
   ],
   "source": [
    "jhu.dtypes"
   ]
  },
  {
   "cell_type": "code",
   "execution_count": 31,
   "metadata": {},
   "outputs": [
    {
     "data": {
      "text/plain": [
       "province_state         0\n",
       "confirmed              0\n",
       "deaths                 0\n",
       "recovered              0\n",
       "active                 0\n",
       "fips                   0\n",
       "incident_rate          0\n",
       "total_test_results     0\n",
       "case_fatality_ratio    0\n",
       "uid                    0\n",
       "testing_rate           0\n",
       "dtype: int64"
      ]
     },
     "execution_count": 31,
     "metadata": {},
     "output_type": "execute_result"
    }
   ],
   "source": [
    "# Texas is the choice of state\n",
    "jhu.loc[jhu['province_state']=='Texas'].isnull().sum()"
   ]
  },
  {
   "cell_type": "code",
   "execution_count": 41,
   "metadata": {},
   "outputs": [
    {
     "data": {
      "text/html": [
       "<div>\n",
       "<style scoped>\n",
       "    .dataframe tbody tr th:only-of-type {\n",
       "        vertical-align: middle;\n",
       "    }\n",
       "\n",
       "    .dataframe tbody tr th {\n",
       "        vertical-align: top;\n",
       "    }\n",
       "\n",
       "    .dataframe thead th {\n",
       "        text-align: right;\n",
       "    }\n",
       "</style>\n",
       "<table border=\"1\" class=\"dataframe\">\n",
       "  <thead>\n",
       "    <tr style=\"text-align: right;\">\n",
       "      <th></th>\n",
       "      <th>province_state</th>\n",
       "      <th>confirmed</th>\n",
       "      <th>deaths</th>\n",
       "      <th>recovered</th>\n",
       "      <th>active</th>\n",
       "      <th>fips</th>\n",
       "      <th>incident_rate</th>\n",
       "      <th>total_test_results</th>\n",
       "      <th>case_fatality_ratio</th>\n",
       "      <th>uid</th>\n",
       "      <th>testing_rate</th>\n",
       "    </tr>\n",
       "  </thead>\n",
       "  <tbody>\n",
       "    <tr>\n",
       "      <th>49</th>\n",
       "      <td>Texas</td>\n",
       "      <td>1782956</td>\n",
       "      <td>28359</td>\n",
       "      <td>1435164.0</td>\n",
       "      <td>316178.0</td>\n",
       "      <td>48.0</td>\n",
       "      <td>6137.406206</td>\n",
       "      <td>13848790.0</td>\n",
       "      <td>1.587608</td>\n",
       "      <td>84000048.0</td>\n",
       "      <td>47761.232018</td>\n",
       "    </tr>\n",
       "    <tr>\n",
       "      <th>49</th>\n",
       "      <td>Texas</td>\n",
       "      <td>1801181</td>\n",
       "      <td>28442</td>\n",
       "      <td>1443061.0</td>\n",
       "      <td>322054.0</td>\n",
       "      <td>48.0</td>\n",
       "      <td>6185.199201</td>\n",
       "      <td>14005637.0</td>\n",
       "      <td>1.580080</td>\n",
       "      <td>84000048.0</td>\n",
       "      <td>48302.160572</td>\n",
       "    </tr>\n",
       "    <tr>\n",
       "      <th>49</th>\n",
       "      <td>Texas</td>\n",
       "      <td>1816886</td>\n",
       "      <td>28496</td>\n",
       "      <td>1451846.0</td>\n",
       "      <td>330044.0</td>\n",
       "      <td>48.0</td>\n",
       "      <td>6243.369532</td>\n",
       "      <td>14053710.0</td>\n",
       "      <td>1.570441</td>\n",
       "      <td>84000048.0</td>\n",
       "      <td>48467.953086</td>\n",
       "    </tr>\n",
       "    <tr>\n",
       "      <th>49</th>\n",
       "      <td>Texas</td>\n",
       "      <td>1831146</td>\n",
       "      <td>28570</td>\n",
       "      <td>1464746.0</td>\n",
       "      <td>335902.0</td>\n",
       "      <td>48.0</td>\n",
       "      <td>6308.478780</td>\n",
       "      <td>14189167.0</td>\n",
       "      <td>1.560847</td>\n",
       "      <td>84000048.0</td>\n",
       "      <td>48935.112542</td>\n",
       "    </tr>\n",
       "    <tr>\n",
       "      <th>49</th>\n",
       "      <td>Texas</td>\n",
       "      <td>1864173</td>\n",
       "      <td>28808</td>\n",
       "      <td>1488189.0</td>\n",
       "      <td>343777.0</td>\n",
       "      <td>48.0</td>\n",
       "      <td>6417.335621</td>\n",
       "      <td>14289877.0</td>\n",
       "      <td>1.547591</td>\n",
       "      <td>84000048.0</td>\n",
       "      <td>49282.437737</td>\n",
       "    </tr>\n",
       "    <tr>\n",
       "      <th>49</th>\n",
       "      <td>Texas</td>\n",
       "      <td>1884799</td>\n",
       "      <td>29118</td>\n",
       "      <td>1504643.0</td>\n",
       "      <td>351038.0</td>\n",
       "      <td>48.0</td>\n",
       "      <td>6500.230153</td>\n",
       "      <td>14370153.0</td>\n",
       "      <td>1.544886</td>\n",
       "      <td>84000048.0</td>\n",
       "      <td>49559.290852</td>\n",
       "    </tr>\n",
       "    <tr>\n",
       "      <th>49</th>\n",
       "      <td>Texas</td>\n",
       "      <td>1910091</td>\n",
       "      <td>29498</td>\n",
       "      <td>1522105.0</td>\n",
       "      <td>358488.0</td>\n",
       "      <td>48.0</td>\n",
       "      <td>6587.456336</td>\n",
       "      <td>14445909.0</td>\n",
       "      <td>1.544324</td>\n",
       "      <td>84000048.0</td>\n",
       "      <td>49820.555547</td>\n",
       "    </tr>\n",
       "    <tr>\n",
       "      <th>49</th>\n",
       "      <td>Texas</td>\n",
       "      <td>1932554</td>\n",
       "      <td>30128</td>\n",
       "      <td>1536690.0</td>\n",
       "      <td>357064.0</td>\n",
       "      <td>48.0</td>\n",
       "      <td>6633.352510</td>\n",
       "      <td>14532743.0</td>\n",
       "      <td>1.541282</td>\n",
       "      <td>84000048.0</td>\n",
       "      <td>50120.025668</td>\n",
       "    </tr>\n",
       "    <tr>\n",
       "      <th>49</th>\n",
       "      <td>Texas</td>\n",
       "      <td>1951915</td>\n",
       "      <td>30313</td>\n",
       "      <td>1549210.0</td>\n",
       "      <td>372392.0</td>\n",
       "      <td>48.0</td>\n",
       "      <td>6731.697512</td>\n",
       "      <td>14653811.0</td>\n",
       "      <td>1.552988</td>\n",
       "      <td>84000048.0</td>\n",
       "      <td>50537.560835</td>\n",
       "    </tr>\n",
       "    <tr>\n",
       "      <th>49</th>\n",
       "      <td>Texas</td>\n",
       "      <td>1968189</td>\n",
       "      <td>30479</td>\n",
       "      <td>1558945.0</td>\n",
       "      <td>378765.0</td>\n",
       "      <td>48.0</td>\n",
       "      <td>6787.822726</td>\n",
       "      <td>14791044.0</td>\n",
       "      <td>1.548581</td>\n",
       "      <td>84000048.0</td>\n",
       "      <td>51010.845299</td>\n",
       "    </tr>\n",
       "    <tr>\n",
       "      <th>49</th>\n",
       "      <td>Texas</td>\n",
       "      <td>1990204</td>\n",
       "      <td>30585</td>\n",
       "      <td>1568710.0</td>\n",
       "      <td>390909.0</td>\n",
       "      <td>48.0</td>\n",
       "      <td>6863.747303</td>\n",
       "      <td>14939305.0</td>\n",
       "      <td>1.536777</td>\n",
       "      <td>84000048.0</td>\n",
       "      <td>51522.162751</td>\n",
       "    </tr>\n",
       "    <tr>\n",
       "      <th>49</th>\n",
       "      <td>Texas</td>\n",
       "      <td>2014645</td>\n",
       "      <td>30895</td>\n",
       "      <td>1595600.0</td>\n",
       "      <td>388150.0</td>\n",
       "      <td>48.0</td>\n",
       "      <td>6948.038585</td>\n",
       "      <td>15031531.0</td>\n",
       "      <td>1.533521</td>\n",
       "      <td>84000048.0</td>\n",
       "      <td>51840.228617</td>\n",
       "    </tr>\n",
       "    <tr>\n",
       "      <th>49</th>\n",
       "      <td>Texas</td>\n",
       "      <td>2040751</td>\n",
       "      <td>31277</td>\n",
       "      <td>1612188.0</td>\n",
       "      <td>397286.0</td>\n",
       "      <td>48.0</td>\n",
       "      <td>7038.072063</td>\n",
       "      <td>15179088.0</td>\n",
       "      <td>1.532622</td>\n",
       "      <td>84000048.0</td>\n",
       "      <td>52349.118139</td>\n",
       "    </tr>\n",
       "    <tr>\n",
       "      <th>49</th>\n",
       "      <td>Texas</td>\n",
       "      <td>2068637</td>\n",
       "      <td>31693</td>\n",
       "      <td>1630778.0</td>\n",
       "      <td>406166.0</td>\n",
       "      <td>48.0</td>\n",
       "      <td>7134.244343</td>\n",
       "      <td>15304459.0</td>\n",
       "      <td>1.532072</td>\n",
       "      <td>84000048.0</td>\n",
       "      <td>52781.493344</td>\n",
       "    </tr>\n",
       "    <tr>\n",
       "      <th>49</th>\n",
       "      <td>Texas</td>\n",
       "      <td>2094921</td>\n",
       "      <td>32086</td>\n",
       "      <td>1649735.0</td>\n",
       "      <td>413100.0</td>\n",
       "      <td>48.0</td>\n",
       "      <td>7136.482592</td>\n",
       "      <td>15443899.0</td>\n",
       "      <td>1.531591</td>\n",
       "      <td>84000048.0</td>\n",
       "      <td>53262.389234</td>\n",
       "    </tr>\n",
       "    <tr>\n",
       "      <th>49</th>\n",
       "      <td>Texas</td>\n",
       "      <td>2112662</td>\n",
       "      <td>32428</td>\n",
       "      <td>1666745.0</td>\n",
       "      <td>413489.0</td>\n",
       "      <td>48.0</td>\n",
       "      <td>7286.076253</td>\n",
       "      <td>15584254.0</td>\n",
       "      <td>1.534936</td>\n",
       "      <td>84000048.0</td>\n",
       "      <td>53746.440744</td>\n",
       "    </tr>\n",
       "    <tr>\n",
       "      <th>49</th>\n",
       "      <td>Texas</td>\n",
       "      <td>2127111</td>\n",
       "      <td>32600</td>\n",
       "      <td>1677588.0</td>\n",
       "      <td>416923.0</td>\n",
       "      <td>48.0</td>\n",
       "      <td>7335.907469</td>\n",
       "      <td>15718021.0</td>\n",
       "      <td>1.532595</td>\n",
       "      <td>84000048.0</td>\n",
       "      <td>54207.771787</td>\n",
       "    </tr>\n",
       "    <tr>\n",
       "      <th>49</th>\n",
       "      <td>Texas</td>\n",
       "      <td>2138190</td>\n",
       "      <td>32711</td>\n",
       "      <td>1697272.0</td>\n",
       "      <td>408207.0</td>\n",
       "      <td>48.0</td>\n",
       "      <td>7374.116344</td>\n",
       "      <td>15877679.0</td>\n",
       "      <td>1.529845</td>\n",
       "      <td>84000048.0</td>\n",
       "      <td>54758.394822</td>\n",
       "    </tr>\n",
       "    <tr>\n",
       "      <th>49</th>\n",
       "      <td>Texas</td>\n",
       "      <td>2157459</td>\n",
       "      <td>33032</td>\n",
       "      <td>1711009.0</td>\n",
       "      <td>413418.0</td>\n",
       "      <td>48.0</td>\n",
       "      <td>7440.570611</td>\n",
       "      <td>15935036.0</td>\n",
       "      <td>1.531060</td>\n",
       "      <td>84000048.0</td>\n",
       "      <td>54956.205676</td>\n",
       "    </tr>\n",
       "    <tr>\n",
       "      <th>49</th>\n",
       "      <td>Texas</td>\n",
       "      <td>2185554</td>\n",
       "      <td>33491</td>\n",
       "      <td>1739136.0</td>\n",
       "      <td>412927.0</td>\n",
       "      <td>48.0</td>\n",
       "      <td>7537.463683</td>\n",
       "      <td>16076028.0</td>\n",
       "      <td>1.532380</td>\n",
       "      <td>84000048.0</td>\n",
       "      <td>55442.454051</td>\n",
       "    </tr>\n",
       "    <tr>\n",
       "      <th>49</th>\n",
       "      <td>Texas</td>\n",
       "      <td>2208871</td>\n",
       "      <td>33942</td>\n",
       "      <td>1763247.0</td>\n",
       "      <td>411682.0</td>\n",
       "      <td>48.0</td>\n",
       "      <td>7617.878553</td>\n",
       "      <td>16202370.0</td>\n",
       "      <td>1.536622</td>\n",
       "      <td>84000048.0</td>\n",
       "      <td>55878.178007</td>\n",
       "    </tr>\n",
       "    <tr>\n",
       "      <th>49</th>\n",
       "      <td>Texas</td>\n",
       "      <td>2227789</td>\n",
       "      <td>34381</td>\n",
       "      <td>1785578.0</td>\n",
       "      <td>407830.0</td>\n",
       "      <td>48.0</td>\n",
       "      <td>7683.122303</td>\n",
       "      <td>16321080.0</td>\n",
       "      <td>1.543279</td>\n",
       "      <td>84000048.0</td>\n",
       "      <td>56287.580984</td>\n",
       "    </tr>\n",
       "    <tr>\n",
       "      <th>49</th>\n",
       "      <td>Texas</td>\n",
       "      <td>2242473</td>\n",
       "      <td>34725</td>\n",
       "      <td>1797979.0</td>\n",
       "      <td>409769.0</td>\n",
       "      <td>48.0</td>\n",
       "      <td>7733.763978</td>\n",
       "      <td>16405627.0</td>\n",
       "      <td>1.548514</td>\n",
       "      <td>84000048.0</td>\n",
       "      <td>56579.163778</td>\n",
       "    </tr>\n",
       "    <tr>\n",
       "      <th>49</th>\n",
       "      <td>Texas</td>\n",
       "      <td>2250421</td>\n",
       "      <td>34911</td>\n",
       "      <td>1809067.0</td>\n",
       "      <td>406443.0</td>\n",
       "      <td>48.0</td>\n",
       "      <td>7761.174768</td>\n",
       "      <td>16561140.0</td>\n",
       "      <td>1.551310</td>\n",
       "      <td>84000048.0</td>\n",
       "      <td>57115.491680</td>\n",
       "    </tr>\n",
       "    <tr>\n",
       "      <th>49</th>\n",
       "      <td>Texas</td>\n",
       "      <td>2269424</td>\n",
       "      <td>35090</td>\n",
       "      <td>1818785.0</td>\n",
       "      <td>415549.0</td>\n",
       "      <td>48.0</td>\n",
       "      <td>7826.711663</td>\n",
       "      <td>16629666.0</td>\n",
       "      <td>1.546207</td>\n",
       "      <td>84000048.0</td>\n",
       "      <td>57351.821798</td>\n",
       "    </tr>\n",
       "    <tr>\n",
       "      <th>49</th>\n",
       "      <td>Texas</td>\n",
       "      <td>2290621</td>\n",
       "      <td>35420</td>\n",
       "      <td>1845210.0</td>\n",
       "      <td>409991.0</td>\n",
       "      <td>48.0</td>\n",
       "      <td>7899.815150</td>\n",
       "      <td>16738158.0</td>\n",
       "      <td>1.546306</td>\n",
       "      <td>84000048.0</td>\n",
       "      <td>57725.985287</td>\n",
       "    </tr>\n",
       "    <tr>\n",
       "      <th>49</th>\n",
       "      <td>Texas</td>\n",
       "      <td>2309220</td>\n",
       "      <td>35877</td>\n",
       "      <td>1867289.0</td>\n",
       "      <td>406054.0</td>\n",
       "      <td>48.0</td>\n",
       "      <td>7963.958743</td>\n",
       "      <td>16837794.0</td>\n",
       "      <td>1.553641</td>\n",
       "      <td>84000048.0</td>\n",
       "      <td>58069.606507</td>\n",
       "    </tr>\n",
       "    <tr>\n",
       "      <th>49</th>\n",
       "      <td>Texas</td>\n",
       "      <td>2330272</td>\n",
       "      <td>36292</td>\n",
       "      <td>1894564.0</td>\n",
       "      <td>399416.0</td>\n",
       "      <td>48.0</td>\n",
       "      <td>8036.562159</td>\n",
       "      <td>16949139.0</td>\n",
       "      <td>1.557415</td>\n",
       "      <td>84000048.0</td>\n",
       "      <td>58453.609325</td>\n",
       "    </tr>\n",
       "    <tr>\n",
       "      <th>49</th>\n",
       "      <td>Texas</td>\n",
       "      <td>2348188</td>\n",
       "      <td>36650</td>\n",
       "      <td>1912861.0</td>\n",
       "      <td>398677.0</td>\n",
       "      <td>48.0</td>\n",
       "      <td>8098.350245</td>\n",
       "      <td>17073934.0</td>\n",
       "      <td>1.560778</td>\n",
       "      <td>84000048.0</td>\n",
       "      <td>58883.998041</td>\n",
       "    </tr>\n",
       "    <tr>\n",
       "      <th>49</th>\n",
       "      <td>Texas</td>\n",
       "      <td>2363266</td>\n",
       "      <td>36924</td>\n",
       "      <td>1932694.0</td>\n",
       "      <td>393648.0</td>\n",
       "      <td>48.0</td>\n",
       "      <td>8150.350734</td>\n",
       "      <td>17263046.0</td>\n",
       "      <td>1.562414</td>\n",
       "      <td>84000048.0</td>\n",
       "      <td>59536.201021</td>\n",
       "    </tr>\n",
       "    <tr>\n",
       "      <th>49</th>\n",
       "      <td>Texas</td>\n",
       "      <td>2376344</td>\n",
       "      <td>37074</td>\n",
       "      <td>1947493.0</td>\n",
       "      <td>391777.0</td>\n",
       "      <td>48.0</td>\n",
       "      <td>8195.453692</td>\n",
       "      <td>17399120.0</td>\n",
       "      <td>1.560128</td>\n",
       "      <td>84000048.0</td>\n",
       "      <td>60005.488366</td>\n",
       "    </tr>\n",
       "  </tbody>\n",
       "</table>\n",
       "</div>"
      ],
      "text/plain": [
       "   province_state  confirmed  deaths  recovered    active  fips  \\\n",
       "49          Texas    1782956   28359  1435164.0  316178.0  48.0   \n",
       "49          Texas    1801181   28442  1443061.0  322054.0  48.0   \n",
       "49          Texas    1816886   28496  1451846.0  330044.0  48.0   \n",
       "49          Texas    1831146   28570  1464746.0  335902.0  48.0   \n",
       "49          Texas    1864173   28808  1488189.0  343777.0  48.0   \n",
       "49          Texas    1884799   29118  1504643.0  351038.0  48.0   \n",
       "49          Texas    1910091   29498  1522105.0  358488.0  48.0   \n",
       "49          Texas    1932554   30128  1536690.0  357064.0  48.0   \n",
       "49          Texas    1951915   30313  1549210.0  372392.0  48.0   \n",
       "49          Texas    1968189   30479  1558945.0  378765.0  48.0   \n",
       "49          Texas    1990204   30585  1568710.0  390909.0  48.0   \n",
       "49          Texas    2014645   30895  1595600.0  388150.0  48.0   \n",
       "49          Texas    2040751   31277  1612188.0  397286.0  48.0   \n",
       "49          Texas    2068637   31693  1630778.0  406166.0  48.0   \n",
       "49          Texas    2094921   32086  1649735.0  413100.0  48.0   \n",
       "49          Texas    2112662   32428  1666745.0  413489.0  48.0   \n",
       "49          Texas    2127111   32600  1677588.0  416923.0  48.0   \n",
       "49          Texas    2138190   32711  1697272.0  408207.0  48.0   \n",
       "49          Texas    2157459   33032  1711009.0  413418.0  48.0   \n",
       "49          Texas    2185554   33491  1739136.0  412927.0  48.0   \n",
       "49          Texas    2208871   33942  1763247.0  411682.0  48.0   \n",
       "49          Texas    2227789   34381  1785578.0  407830.0  48.0   \n",
       "49          Texas    2242473   34725  1797979.0  409769.0  48.0   \n",
       "49          Texas    2250421   34911  1809067.0  406443.0  48.0   \n",
       "49          Texas    2269424   35090  1818785.0  415549.0  48.0   \n",
       "49          Texas    2290621   35420  1845210.0  409991.0  48.0   \n",
       "49          Texas    2309220   35877  1867289.0  406054.0  48.0   \n",
       "49          Texas    2330272   36292  1894564.0  399416.0  48.0   \n",
       "49          Texas    2348188   36650  1912861.0  398677.0  48.0   \n",
       "49          Texas    2363266   36924  1932694.0  393648.0  48.0   \n",
       "49          Texas    2376344   37074  1947493.0  391777.0  48.0   \n",
       "\n",
       "    incident_rate  total_test_results  case_fatality_ratio         uid  \\\n",
       "49    6137.406206          13848790.0             1.587608  84000048.0   \n",
       "49    6185.199201          14005637.0             1.580080  84000048.0   \n",
       "49    6243.369532          14053710.0             1.570441  84000048.0   \n",
       "49    6308.478780          14189167.0             1.560847  84000048.0   \n",
       "49    6417.335621          14289877.0             1.547591  84000048.0   \n",
       "49    6500.230153          14370153.0             1.544886  84000048.0   \n",
       "49    6587.456336          14445909.0             1.544324  84000048.0   \n",
       "49    6633.352510          14532743.0             1.541282  84000048.0   \n",
       "49    6731.697512          14653811.0             1.552988  84000048.0   \n",
       "49    6787.822726          14791044.0             1.548581  84000048.0   \n",
       "49    6863.747303          14939305.0             1.536777  84000048.0   \n",
       "49    6948.038585          15031531.0             1.533521  84000048.0   \n",
       "49    7038.072063          15179088.0             1.532622  84000048.0   \n",
       "49    7134.244343          15304459.0             1.532072  84000048.0   \n",
       "49    7136.482592          15443899.0             1.531591  84000048.0   \n",
       "49    7286.076253          15584254.0             1.534936  84000048.0   \n",
       "49    7335.907469          15718021.0             1.532595  84000048.0   \n",
       "49    7374.116344          15877679.0             1.529845  84000048.0   \n",
       "49    7440.570611          15935036.0             1.531060  84000048.0   \n",
       "49    7537.463683          16076028.0             1.532380  84000048.0   \n",
       "49    7617.878553          16202370.0             1.536622  84000048.0   \n",
       "49    7683.122303          16321080.0             1.543279  84000048.0   \n",
       "49    7733.763978          16405627.0             1.548514  84000048.0   \n",
       "49    7761.174768          16561140.0             1.551310  84000048.0   \n",
       "49    7826.711663          16629666.0             1.546207  84000048.0   \n",
       "49    7899.815150          16738158.0             1.546306  84000048.0   \n",
       "49    7963.958743          16837794.0             1.553641  84000048.0   \n",
       "49    8036.562159          16949139.0             1.557415  84000048.0   \n",
       "49    8098.350245          17073934.0             1.560778  84000048.0   \n",
       "49    8150.350734          17263046.0             1.562414  84000048.0   \n",
       "49    8195.453692          17399120.0             1.560128  84000048.0   \n",
       "\n",
       "    testing_rate  \n",
       "49  47761.232018  \n",
       "49  48302.160572  \n",
       "49  48467.953086  \n",
       "49  48935.112542  \n",
       "49  49282.437737  \n",
       "49  49559.290852  \n",
       "49  49820.555547  \n",
       "49  50120.025668  \n",
       "49  50537.560835  \n",
       "49  51010.845299  \n",
       "49  51522.162751  \n",
       "49  51840.228617  \n",
       "49  52349.118139  \n",
       "49  52781.493344  \n",
       "49  53262.389234  \n",
       "49  53746.440744  \n",
       "49  54207.771787  \n",
       "49  54758.394822  \n",
       "49  54956.205676  \n",
       "49  55442.454051  \n",
       "49  55878.178007  \n",
       "49  56287.580984  \n",
       "49  56579.163778  \n",
       "49  57115.491680  \n",
       "49  57351.821798  \n",
       "49  57725.985287  \n",
       "49  58069.606507  \n",
       "49  58453.609325  \n",
       "49  58883.998041  \n",
       "49  59536.201021  \n",
       "49  60005.488366  "
      ]
     },
     "execution_count": 41,
     "metadata": {},
     "output_type": "execute_result"
    }
   ],
   "source": [
    "# New dataframe\n",
    "df = jhu.loc[jhu['province_state']=='Texas']\n",
    "df"
   ]
  },
  {
   "cell_type": "code",
   "execution_count": 35,
   "metadata": {},
   "outputs": [
    {
     "data": {
      "text/plain": [
       "Index(['province_state', 'confirmed', 'deaths', 'recovered', 'active', 'fips',\n",
       "       'incident_rate', 'total_test_results', 'case_fatality_ratio', 'uid',\n",
       "       'testing_rate'],\n",
       "      dtype='object')"
      ]
     },
     "execution_count": 35,
     "metadata": {},
     "output_type": "execute_result"
    }
   ],
   "source": [
    "df.columns"
   ]
  },
  {
   "cell_type": "markdown",
   "metadata": {},
   "source": [
    "### Modeling"
   ]
  },
  {
   "cell_type": "code",
   "execution_count": 40,
   "metadata": {},
   "outputs": [],
   "source": [
    "# Null model"
   ]
  },
  {
   "cell_type": "code",
   "execution_count": 42,
   "metadata": {},
   "outputs": [
    {
     "data": {
      "text/plain": [
       "32396.612903225807"
      ]
     },
     "execution_count": 42,
     "metadata": {},
     "output_type": "execute_result"
    }
   ],
   "source": [
    "# Mean deaths\n",
    "df['deaths'].mean()"
   ]
  },
  {
   "cell_type": "code",
   "execution_count": 44,
   "metadata": {},
   "outputs": [
    {
     "name": "stderr",
     "output_type": "stream",
     "text": [
      "<ipython-input-44-91c8d6be1eb8>:5: SettingWithCopyWarning: \n",
      "A value is trying to be set on a copy of a slice from a DataFrame.\n",
      "Try using .loc[row_indexer,col_indexer] = value instead\n",
      "\n",
      "See the caveats in the documentation: https://pandas.pydata.org/pandas-docs/stable/user_guide/indexing.html#returning-a-view-versus-a-copy\n",
      "  df['null_deaths'] = y.mean()\n"
     ]
    },
    {
     "data": {
      "text/plain": [
       "0.0"
      ]
     },
     "execution_count": 44,
     "metadata": {},
     "output_type": "execute_result"
    }
   ],
   "source": [
    "# Define y\n",
    "y = df['deaths']\n",
    "\n",
    "# Create a new column for the baseline target variable\n",
    "df['null_deaths'] = y.mean()\n",
    "\n",
    "# Predictions for the null model\n",
    "y_preds = df['null_deaths']\n",
    "\n",
    "# Null R-squared\n",
    "metrics.r2_score(y, y_preds)"
   ]
  },
  {
   "cell_type": "code",
   "execution_count": 47,
   "metadata": {},
   "outputs": [
    {
     "data": {
      "text/plain": [
       "2772.7739770084836"
      ]
     },
     "execution_count": 47,
     "metadata": {},
     "output_type": "execute_result"
    }
   ],
   "source": [
    "# Null RMSE\n",
    "np.sqrt(metrics.mean_squared_error(y_true=y, y_pred=y_preds))"
   ]
  },
  {
   "cell_type": "markdown",
   "metadata": {},
   "source": [
    "### Models"
   ]
  },
  {
   "cell_type": "code",
   "execution_count": 96,
   "metadata": {},
   "outputs": [
    {
     "data": {
      "text/plain": [
       "Index(['province_state', 'confirmed', 'deaths', 'recovered', 'active', 'fips',\n",
       "       'incident_rate', 'total_test_results', 'case_fatality_ratio', 'uid',\n",
       "       'testing_rate', 'null_deaths'],\n",
       "      dtype='object')"
      ]
     },
     "execution_count": 96,
     "metadata": {},
     "output_type": "execute_result"
    }
   ],
   "source": [
    "df.columns"
   ]
  },
  {
   "cell_type": "code",
   "execution_count": 97,
   "metadata": {},
   "outputs": [],
   "source": [
    "X = df.drop(columns=['deaths', 'province_state', \n",
    "                     'fips', 'uid', \n",
    "                     'case_fatality_ratio', 'null_deaths']) # Removed case_fatality_ratio, null_deaths\n",
    "y = df['deaths']"
   ]
  },
  {
   "cell_type": "code",
   "execution_count": 98,
   "metadata": {},
   "outputs": [],
   "source": [
    "X_train, X_test, y_train, y_test = train_test_split(X, y, random_state=42)"
   ]
  },
  {
   "cell_type": "code",
   "execution_count": 99,
   "metadata": {},
   "outputs": [
    {
     "data": {
      "text/plain": [
       "(0.9985898938619756, 0.9970032357653251)"
      ]
     },
     "execution_count": 99,
     "metadata": {},
     "output_type": "execute_result"
    }
   ],
   "source": [
    "from sklearn.linear_model import LinearRegression\n",
    "lr = LinearRegression()\n",
    "lr.fit(X_train, y_train)\n",
    "lr.score(X_train, y_train), lr.score(X_test, y_test)"
   ]
  },
  {
   "cell_type": "code",
   "execution_count": 100,
   "metadata": {},
   "outputs": [
    {
     "data": {
      "text/plain": [
       "129.73045908642905"
      ]
     },
     "execution_count": 100,
     "metadata": {},
     "output_type": "execute_result"
    }
   ],
   "source": [
    "lr_preds = lr.predict(X_test)\n",
    "np.sqrt(metrics.mean_squared_error(y_train, lr.predict(X_train))), \n",
    "np.sqrt(metrics.mean_squared_error(y_test, lr_preds))"
   ]
  },
  {
   "cell_type": "code",
   "execution_count": 101,
   "metadata": {},
   "outputs": [
    {
     "name": "stdout",
     "output_type": "stream",
     "text": [
      "{'confirmed': 0.041980872248214327, 'recovered': -0.021642350330237165, 'active': -0.03575855224612102, 'incident_rate': -0.915371924851039, 'total_test_results': -3.243177963053318e-05, 'testing_rate': -1.1184962212488947e-07}\n"
     ]
    }
   ],
   "source": [
    "print(dict(zip(X.columns, lr.coef_)))"
   ]
  },
  {
   "cell_type": "code",
   "execution_count": 102,
   "metadata": {},
   "outputs": [],
   "source": [
    "from sklearn.preprocessing import StandardScaler\n",
    "ss = StandardScaler()\n",
    "Z_train = ss.fit_transform(X_train)\n",
    "Z_test = ss.transform(X_test)"
   ]
  },
  {
   "cell_type": "code",
   "execution_count": 103,
   "metadata": {},
   "outputs": [],
   "source": [
    "from sklearn.decomposition import PCA\n",
    "from sklearn.model_selection import cross_val_score"
   ]
  },
  {
   "cell_type": "code",
   "execution_count": 104,
   "metadata": {},
   "outputs": [
    {
     "data": {
      "text/plain": [
       "array([[-2.18515542e-01, -5.84287527e-01],\n",
       "       [-3.78926093e+00,  6.55200121e-01],\n",
       "       [-2.63448437e+00,  2.11042430e-01],\n",
       "       [ 9.81875103e-01, -7.47850823e-01],\n",
       "       [-2.34767922e+00,  8.63585165e-02],\n",
       "       [ 1.52095719e-01, -7.29133188e-01],\n",
       "       [-5.95945001e-01, -4.35537067e-01],\n",
       "       [ 2.28229032e+00, -3.62745260e-04],\n",
       "       [-3.50872249e+00,  5.76557151e-01],\n",
       "       [-3.28677787e+00,  4.01953842e-01],\n",
       "       [ 2.88780392e+00,  2.34458953e-01],\n",
       "       [-3.00759490e+00,  3.25203062e-01],\n",
       "       [ 2.09565956e+00, -1.07997897e-02],\n",
       "       [ 3.06528902e+00,  4.32275036e-01],\n",
       "       [ 1.33913189e+00, -4.90331737e-01],\n",
       "       [ 3.86439131e+00,  1.22213362e+00],\n",
       "       [ 1.90020342e+00, -2.13881023e-01],\n",
       "       [-1.87432803e+00,  6.91793215e-02],\n",
       "       [-8.19674770e-01, -6.11190722e-01],\n",
       "       [ 4.48558629e-01, -8.26886024e-01],\n",
       "       [ 3.46630615e+00,  8.31437017e-01],\n",
       "       [ 1.64564606e+00, -3.54454732e-01],\n",
       "       [-2.04626797e+00, -4.10836879e-02]])"
      ]
     },
     "execution_count": 104,
     "metadata": {},
     "output_type": "execute_result"
    }
   ],
   "source": [
    "pca = PCA(n_components=2)\n",
    "pca.fit(Z_train)\n",
    "pca.transform(Z_train)"
   ]
  },
  {
   "cell_type": "code",
   "execution_count": 105,
   "metadata": {},
   "outputs": [
    {
     "data": {
      "text/plain": [
       "array([0.95167259, 0.04786559])"
      ]
     },
     "execution_count": 105,
     "metadata": {},
     "output_type": "execute_result"
    }
   ],
   "source": [
    "var_exp = pca.explained_variance_ratio_\n",
    "var_exp"
   ]
  },
  {
   "cell_type": "code",
   "execution_count": 106,
   "metadata": {},
   "outputs": [
    {
     "data": {
      "text/plain": [
       "array([0.95167259, 0.99953817])"
      ]
     },
     "execution_count": 106,
     "metadata": {},
     "output_type": "execute_result"
    }
   ],
   "source": [
    "cum_var_exp = np.cumsum(var_exp)\n",
    "cum_var_exp"
   ]
  },
  {
   "cell_type": "code",
   "execution_count": null,
   "metadata": {},
   "outputs": [],
   "source": []
  },
  {
   "cell_type": "code",
   "execution_count": null,
   "metadata": {},
   "outputs": [],
   "source": []
  },
  {
   "cell_type": "code",
   "execution_count": null,
   "metadata": {},
   "outputs": [],
   "source": []
  },
  {
   "cell_type": "code",
   "execution_count": null,
   "metadata": {},
   "outputs": [],
   "source": [
    "# # Define X and y\n",
    "# X = jhu.drop(columns=['confirmed']).copy()\n",
    "# y = jhu['confirmed'].copy()"
   ]
  },
  {
   "cell_type": "code",
   "execution_count": null,
   "metadata": {},
   "outputs": [],
   "source": [
    "# Instantiate and fit a KNNImputer\n",
    "knni = KNNImputer()\n",
    "X_knni = knni.fit_transform(X)\n",
    "X_knni = pd.DataFrame(X_knni, columns=X.columns)\n",
    "X_knni.head()"
   ]
  },
  {
   "cell_type": "code",
   "execution_count": null,
   "metadata": {},
   "outputs": [],
   "source": [
    "# Check missing values after KNN imputation\n",
    "X_knni.isnull().sum().sum()"
   ]
  },
  {
   "cell_type": "code",
   "execution_count": null,
   "metadata": {},
   "outputs": [],
   "source": [
    "# Check the shape after KNN imputation\n",
    "X_knni.shape"
   ]
  },
  {
   "cell_type": "code",
   "execution_count": null,
   "metadata": {},
   "outputs": [],
   "source": [
    "# Train/test split\n",
    "# X = X_knni in train/test split\n",
    "X_train, X_test, y_train, y_test = train_test_split(X_knni, y, random_state=42)"
   ]
  },
  {
   "cell_type": "code",
   "execution_count": null,
   "metadata": {},
   "outputs": [],
   "source": []
  }
 ],
 "metadata": {
  "kernelspec": {
   "display_name": "Python 3",
   "language": "python",
   "name": "python3"
  },
  "language_info": {
   "codemirror_mode": {
    "name": "ipython",
    "version": 3
   },
   "file_extension": ".py",
   "mimetype": "text/x-python",
   "name": "python",
   "nbconvert_exporter": "python",
   "pygments_lexer": "ipython3",
   "version": "3.8.5"
  }
 },
 "nbformat": 4,
 "nbformat_minor": 4
}
