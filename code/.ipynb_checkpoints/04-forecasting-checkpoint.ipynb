{
 "cells": [
  {
   "cell_type": "code",
   "execution_count": 28,
   "id": "6252eb23-3eeb-4dc0-88c5-c903253904cf",
   "metadata": {},
   "outputs": [],
   "source": [
    "# Imports\n",
    "import pandas as pd\n",
    "import numpy as np\n",
    "import matplotlib.pyplot as plt\n",
    "\n",
    "from sklearn.model_selection import GridSearchCV\n",
    "from sklearn.preprocessing import MinMaxScaler\n",
    "from sklearn.metrics import mean_squared_error, mean_absolute_error, mean_absolute_percentage_error\n",
    "\n",
    "from tensorflow.keras.utils import set_random_seed\n",
    "from tensorflow.keras.models import Sequential\n",
    "from tensorflow.keras.layers import Dense, Dropout, LSTM\n",
    "from tensorflow.keras.optimizers import Adam\n",
    "from tensorflow.keras.wrappers.scikit_learn import KerasRegressor\n",
    "\n",
    "from keras import backend as K\n",
    "\n",
    "from math import sqrt\n",
    "import time\n",
    "import os\n",
    "import joblib\n",
    "import random"
   ]
  },
  {
   "cell_type": "code",
   "execution_count": 2,
   "id": "4b12b381-ea39-46a8-902c-244ae4ee8f03",
   "metadata": {},
   "outputs": [],
   "source": [
    "# create function that sets OS `PYTHONHASHSEED` environment variable,\n",
    "# Python, NumPy, and TensorFlow seeds at a fixed value\n",
    "def reset_seeds():\n",
    "    os.environ['PYTHONHASHSEED']=str(42)\n",
    "    random.seed(42)\n",
    "    np.random.seed(42)\n",
    "    set_random_seed(42)\n",
    "    session_conf = tf.compat.v1.ConfigProto(intra_op_parallelism_threads=1, inter_op_parallelism_threads=1)\n",
    "?\n",
    "\n",
    "reset_seeds()"
   ]
  },
  {
   "cell_type": "code",
   "execution_count": 3,
   "id": "342177a0-6a93-4883-83e6-6db89773dad8",
   "metadata": {},
   "outputs": [],
   "source": [
    "# read in clean massachussets data into a pandas dataframe\n",
    "df = pd.read_csv('../data/massachusetts_vaccinations_09_04_21_clean.csv')"
   ]
  },
  {
   "cell_type": "markdown",
   "id": "138d7674-bde0-4e2d-ae0c-19a9b6a4c618",
   "metadata": {},
   "source": [
    "Using GridSearch parameters to build LSTM RNN"
   ]
  },
  {
   "cell_type": "markdown",
   "id": "ac2e9525-a3dc-4480-b7de-376bd47fb828",
   "metadata": {},
   "source": [
    "Loading in GridSearch results"
   ]
  },
  {
   "cell_type": "code",
   "execution_count": 4,
   "id": "843f597c-d8b6-429d-9843-bc88af88b962",
   "metadata": {},
   "outputs": [
    {
     "data": {
      "text/plain": [
       "{'batch_size': 1, 'epochs': 50, 'hidden_neurons': 2, 'learning_rate': 0.001}"
      ]
     },
     "execution_count": 4,
     "metadata": {},
     "output_type": "execute_result"
    }
   ],
   "source": [
    "gs_1 = joblib.load(\"../data/gs_1.pkl\")\n",
    "gs_1"
   ]
  },
  {
   "cell_type": "code",
   "execution_count": 5,
   "id": "a872e3ed-3529-4999-b5f7-b5763f707d1f",
   "metadata": {
    "tags": []
   },
   "outputs": [],
   "source": [
    "data = df[['total_vaccinations']]"
   ]
  },
  {
   "cell_type": "code",
   "execution_count": 6,
   "id": "f9807a1c-d39a-4932-9da8-5156467d871e",
   "metadata": {},
   "outputs": [],
   "source": [
    "def data_normalization(data):\n",
    "    test_window = len(data)-7\n",
    "    train_data = data[:test_window]\n",
    "    test_data = data[test_window:]\n",
    "    scaler = MinMaxScaler()\n",
    "    train_sc = scaler.fit_transform(train_data)\n",
    "    test_sc = scaler.transform(test_data)\n",
    "    joblib.dump(scaler, '../data/scaler_1.pkl')\n",
    "    data_sc = np.append(train_sc, test_sc)\n",
    "    return data_sc"
   ]
  },
  {
   "cell_type": "code",
   "execution_count": 7,
   "id": "6ad3ea48-caf2-4f09-899a-c317377b7fda",
   "metadata": {},
   "outputs": [],
   "source": [
    "data_sc = data_normalization(data)"
   ]
  },
  {
   "cell_type": "code",
   "execution_count": 8,
   "id": "5c34bd39-d615-43d2-90ed-f4d1cda74e58",
   "metadata": {},
   "outputs": [],
   "source": [
    "def sampling(sequence, n_steps):\n",
    "    \n",
    "    X, Y = list(), list()\n",
    "\n",
    "    for i in range(len(sequence)):\n",
    "        \n",
    "        sam = i + n_steps\n",
    "        if sam > len(sequence)-1:\n",
    "            break\n",
    "\n",
    "        x, y = sequence[i:sam], sequence[sam]\n",
    "\n",
    "        X.append(x)\n",
    "\n",
    "        Y.append(y)\n",
    "\n",
    "    return np.array(X), np.array(Y)"
   ]
  },
  {
   "cell_type": "code",
   "execution_count": 9,
   "id": "73a992f0-0c35-4e15-9ab7-7157958f10c4",
   "metadata": {},
   "outputs": [],
   "source": [
    "n_steps = 1\n",
    "\n",
    "X, Y = sampling(data_sc.tolist(), n_steps)"
   ]
  },
  {
   "cell_type": "code",
   "execution_count": 10,
   "id": "1be49323-a7d9-487d-948a-167a15eab55f",
   "metadata": {
    "tags": []
   },
   "outputs": [],
   "source": [
    "test_window = len(X)-7"
   ]
  },
  {
   "cell_type": "code",
   "execution_count": 11,
   "id": "b6572524-e070-46e6-9432-6248a1364413",
   "metadata": {},
   "outputs": [],
   "source": [
    "X_train, y_train = X[:test_window], Y[:test_window]\n",
    "X_test, y_test = X[test_window:], Y[test_window:]"
   ]
  },
  {
   "cell_type": "code",
   "execution_count": 12,
   "id": "5be4b8b2-0bea-4fe3-bb16-1c44169abbaf",
   "metadata": {},
   "outputs": [
    {
     "name": "stdout",
     "output_type": "stream",
     "text": [
      "(227, 1, 1) (227, 1) (7, 1, 1) (7, 1)\n"
     ]
    }
   ],
   "source": [
    "#convert data into suitable dimension for using it as input in LSTM network\n",
    "X_train = X_train.reshape((X_train.shape[0],X_train.shape[1], 1))\n",
    "X_test = X_test.reshape((X_test.shape[0], X_test.shape[1], 1))\n",
    "y_train = y_train.reshape((y_train.shape[0], 1))\n",
    "y_test = y_test.reshape((y_test.shape[0], 1))\n",
    "print(X_train.shape, y_train.shape, X_test.shape, y_test.shape)"
   ]
  },
  {
   "cell_type": "code",
   "execution_count": 13,
   "id": "8dbcb3fc-4baf-4aaf-aca4-2bc7bf8dfb3c",
   "metadata": {},
   "outputs": [],
   "source": [
    "input_shape = (X_train.shape[1], X_train.shape[2])"
   ]
  },
  {
   "cell_type": "code",
   "execution_count": 14,
   "id": "06a39171-37db-4a99-a13c-2c790a4da00e",
   "metadata": {},
   "outputs": [
    {
     "name": "stderr",
     "output_type": "stream",
     "text": [
      "2022-08-08 18:21:04.191172: I tensorflow/core/platform/cpu_feature_guard.cc:193] This TensorFlow binary is optimized with oneAPI Deep Neural Network Library (oneDNN) to use the following CPU instructions in performance-critical operations:  AVX2 FMA\n",
      "To enable them in other operations, rebuild TensorFlow with the appropriate compiler flags.\n",
      "/Users/ericrodriguez/opt/anaconda3/lib/python3.8/site-packages/keras/optimizers/optimizer_v2/adam.py:110: UserWarning: The `lr` argument is deprecated, use `learning_rate` instead.\n",
      "  super(Adam, self).__init__(name, **kwargs)\n"
     ]
    }
   ],
   "source": [
    "# creating RNN\n",
    "model = Sequential()\n",
    "model.add(LSTM(2, input_shape=input_shape))\n",
    "model.add(Dense(1))\n",
    "model.compile(loss='mse', optimizer=Adam(lr=0.001), metrics=['mae'])"
   ]
  },
  {
   "cell_type": "code",
   "execution_count": 15,
   "id": "d976aebb-bd94-4532-9dc7-0e0f5200fe0f",
   "metadata": {},
   "outputs": [
    {
     "name": "stdout",
     "output_type": "stream",
     "text": [
      "Model: \"sequential\"\n",
      "_________________________________________________________________\n",
      " Layer (type)                Output Shape              Param #   \n",
      "=================================================================\n",
      " lstm (LSTM)                 (None, 2)                 32        \n",
      "                                                                 \n",
      " dense (Dense)               (None, 1)                 3         \n",
      "                                                                 \n",
      "=================================================================\n",
      "Total params: 35\n",
      "Trainable params: 35\n",
      "Non-trainable params: 0\n",
      "_________________________________________________________________\n"
     ]
    }
   ],
   "source": [
    "model.summary()"
   ]
  },
  {
   "cell_type": "code",
   "execution_count": 16,
   "id": "37d9d351-059d-437f-a36f-f452c3c6ce92",
   "metadata": {},
   "outputs": [],
   "source": [
    "history = model.fit(X_train, y_train, epochs=50, verbose=0, shuffle=False, batch_size=1)"
   ]
  },
  {
   "cell_type": "code",
   "execution_count": 17,
   "id": "9d532a94-056a-49ee-8a3f-1a32b028300c",
   "metadata": {},
   "outputs": [
    {
     "data": {
      "image/png": "[encoded data removed]",
      "text/plain": [
       "<Figure size 720x576 with 1 Axes>"
      ]
     },
     "metadata": {
      "needs_background": "light"
     },
     "output_type": "display_data"
    }
   ],
   "source": [
    "plt.figure(figsize=(10,8))\n",
    "plt.plot(history.history['loss'], label='Train loss')\n",
    "plt.legend();"
   ]
  },
  {
   "cell_type": "code",
   "execution_count": 18,
   "id": "be5f79f6-2be5-4bc7-8d8b-c116406f8ec4",
   "metadata": {},
   "outputs": [
    {
     "name": "stdout",
     "output_type": "stream",
     "text": [
      "1/1 [==============================] - 0s 419ms/step\n"
     ]
    }
   ],
   "source": [
    "preds = model.predict(X_test)"
   ]
  },
  {
   "cell_type": "code",
   "execution_count": 19,
   "id": "3ee45204-00f0-4806-9c28-888bc92e4327",
   "metadata": {},
   "outputs": [],
   "source": [
    "scaler = joblib.load(\"../data/scaler_1.pkl\")"
   ]
  },
  {
   "cell_type": "code",
   "execution_count": 20,
   "id": "1f869451-420e-49fe-b94a-526537fe5853",
   "metadata": {},
   "outputs": [
    {
     "data": {
      "text/plain": [
       "array([[9445988.],\n",
       "       [9454329.],\n",
       "       [9464697.],\n",
       "       [9471953.],\n",
       "       [9480973.],\n",
       "       [9491626.],\n",
       "       [9502934.]], dtype=float32)"
      ]
     },
     "execution_count": 20,
     "metadata": {},
     "output_type": "execute_result"
    }
   ],
   "source": [
    "inv_preds = scaler.inverse_transform(preds)\n",
    "inv_preds"
   ]
  },
  {
   "cell_type": "code",
   "execution_count": 21,
   "id": "969b5504-e603-4e3e-a131-f20b9ed1d097",
   "metadata": {},
   "outputs": [
    {
     "data": {
      "text/plain": [
       "array([[9448906.],\n",
       "       [9462566.],\n",
       "       [9472140.],\n",
       "       [9484059.],\n",
       "       [9498168.],\n",
       "       [9513175.],\n",
       "       [9527318.]])"
      ]
     },
     "execution_count": 21,
     "metadata": {},
     "output_type": "execute_result"
    }
   ],
   "source": [
    "inv_y_test = scaler.inverse_transform(y_test)\n",
    "inv_y_test"
   ]
  },
  {
   "cell_type": "code",
   "execution_count": 22,
   "id": "3e681c73-71a6-418d-b186-c787bd28b989",
   "metadata": {},
   "outputs": [
    {
     "data": {
      "text/plain": [
       "[<matplotlib.lines.Line2D at 0x7f8b257662e0>]"
      ]
     },
     "execution_count": 22,
     "metadata": {},
     "output_type": "execute_result"
    },
    {
     "data": {
      "image/png": "[encoded data removed]",
      "text/plain": [
       "<Figure size 432x288 with 1 Axes>"
      ]
     },
     "metadata": {
      "needs_background": "light"
     },
     "output_type": "display_data"
    }
   ],
   "source": [
    "plt.plot(inv_preds)\n",
    "plt.plot(inv_y_test)"
   ]
  },
  {
   "cell_type": "code",
   "execution_count": 23,
   "id": "e2618561-4bd1-4d11-a93c-8f87f8facf7c",
   "metadata": {},
   "outputs": [
    {
     "name": "stdout",
     "output_type": "stream",
     "text": [
      "RMSE: 15273.334653197546\n"
     ]
    }
   ],
   "source": [
    "rmse = sqrt(mean_squared_error(inv_y_test, inv_preds))\n",
    "print(F'RMSE: {rmse}')"
   ]
  },
  {
   "cell_type": "markdown",
   "id": "88ee2ac7-2b5a-4bbf-93d2-0aadb7ee748c",
   "metadata": {},
   "source": [
    "Creating predictions from each prediction"
   ]
  },
  {
   "cell_type": "code",
   "execution_count": 24,
   "id": "609a49cd-1c6a-4f10-9b29-5eaf5862a646",
   "metadata": {},
   "outputs": [
    {
     "name": "stdout",
     "output_type": "stream",
     "text": [
      "1/1 [==============================] - 0s 29ms/step\n",
      "1/1 [==============================] - 0s 21ms/step\n",
      "1/1 [==============================] - 0s 19ms/step\n",
      "1/1 [==============================] - 0s 19ms/step\n",
      "1/1 [==============================] - 0s 19ms/step\n",
      "1/1 [==============================] - 0s 18ms/step\n",
      "1/1 [==============================] - 0s 18ms/step\n"
     ]
    }
   ],
   "source": [
    "# Create empty predicitions list\n",
    "test_predictions = []\n",
    "\n",
    "#Select last n_input values from the train data\n",
    "n_input = 1\n",
    "n_features = 1\n",
    "\n",
    "#reshape the data into LSTM required (#batch,#timesteps,#features)\n",
    "first_eval_batch = X_test[0]\n",
    "current_batch = first_eval_batch.reshape((1, n_input, n_features))\n",
    "\n",
    "for i in range(len(X_test)):\n",
    "# get prediction, grab the exact number using the [0]\n",
    "    current_pred = model.predict(current_batch)[0]\n",
    "# Add this prediction to the list\n",
    "    test_predictions.append(current_pred)\n",
    "# Update the (#batch,#timesteps,#features) using np.append\n",
    "    current_batch = np.append(current_batch[:,1:,:],[[current_pred]], axis= 1)"
   ]
  },
  {
   "cell_type": "code",
   "execution_count": 25,
   "id": "c1efeaeb-5cf7-4b19-bd0b-fe8989bcfda7",
   "metadata": {},
   "outputs": [
    {
     "data": {
      "text/plain": [
       "array([[9445988.31125307],\n",
       "       [9452109.5815109 ],\n",
       "       [9456762.3624413 ],\n",
       "       [9460295.09050894],\n",
       "       [9462975.96286643],\n",
       "       [9465009.4248842 ],\n",
       "       [9466552.65768039]])"
      ]
     },
     "execution_count": 25,
     "metadata": {},
     "output_type": "execute_result"
    }
   ],
   "source": [
    "test_preds = scaler.inverse_transform(test_predictions)\n",
    "test_preds"
   ]
  },
  {
   "cell_type": "code",
   "execution_count": 26,
   "id": "85b7d305-53a7-4369-99fb-5598d30cf800",
   "metadata": {},
   "outputs": [
    {
     "data": {
      "text/plain": [
       "[<matplotlib.lines.Line2D at 0x7f8b25a58610>]"
      ]
     },
     "execution_count": 26,
     "metadata": {},
     "output_type": "execute_result"
    },
    {
     "data": {
      "image/png": "[encoded data removed]",
      "text/plain": [
       "<Figure size 432x288 with 1 Axes>"
      ]
     },
     "metadata": {
      "needs_background": "light"
     },
     "output_type": "display_data"
    }
   ],
   "source": [
    "plt.plot(inv_preds)\n",
    "plt.plot(inv_y_test)"
   ]
  },
  {
   "cell_type": "code",
   "execution_count": 27,
   "id": "29684cc9-c7c6-4927-9fe8-11316a185d66",
   "metadata": {},
   "outputs": [
    {
     "name": "stdout",
     "output_type": "stream",
     "text": [
      "RMSE: 34163.208400464304\n"
     ]
    }
   ],
   "source": [
    "rmse = sqrt(mean_squared_error(inv_y_test, test_preds))\n",
    "print(F'RMSE: {rmse}')"
   ]
  },
  {
   "cell_type": "markdown",
   "id": "8d982480-2236-4212-a3a0-4aa8506c9c14",
   "metadata": {},
   "source": [
    "### Modeling with best dropout and batch size parameters"
   ]
  },
  {
   "cell_type": "code",
   "execution_count": 4,
   "id": "79146a4b-173b-4597-b6f7-35f03f9dda06",
   "metadata": {},
   "outputs": [
    {
     "name": "stderr",
     "output_type": "stream",
     "text": [
      "/var/folders/dd/873hhhj50vb62_k59_95c6t00000gn/T/ipykernel_2562/805377879.py:20: DeprecationWarning: KerasRegressor is deprecated, use Sci-Keras (https://github.com/adriangb/scikeras) instead. See https://www.adriangb.com/scikeras/stable/migration.html for help migrating.\n",
      "  nn = KerasRegressor(build_fn=model_fn_deep, batch_size=1, verbose=0, shuffle=False)\n"
     ]
    }
   ],
   "source": [
    "# Gridsearch for dropout and batch_size\n",
    "def model_fn_deep(hidden_neurons=4, dropout =.01, learning_rate=.0005):\n",
    "    model = Sequential()\n",
    "    \n",
    "    model.add(LSTM(hidden_neurons, input_shape=input_shape))\n",
    "    model.add(Dropout(.8))\n",
    "    model.add(Dense(1))\n",
    "\n",
    "    model.compile(loss='mse', optimizer=Adam(learning_rate=learning_rate), metrics=['mae'])\n",
    "    \n",
    "    return model\n",
    "\n",
    "# The params grid:\n",
    "nn_params_deep = {'hidden_neurons':[4],\n",
    "                  'epochs':[50],\n",
    "                  'dropout':[.8, .9],\n",
    "                  'learning_rate':[.0005],\n",
    "                  'batch_size': [1, 2, 5, 10]\n",
    "                 }\n",
    "nn = KerasRegressor(build_fn=model_fn_deep, batch_size=1, verbose=0, shuffle=False)\n",
    "\n",
    "gs_dropout_batch = GridSearchCV(estimator=nn, param_grid=nn_params_deep, cv=None)  "
   ]
  },
  {
   "cell_type": "code",
   "execution_count": 5,
   "id": "24f5b775-496b-4a9b-a4f4-eaaf0a7557e7",
   "metadata": {},
   "outputs": [
    {
     "name": "stderr",
     "output_type": "stream",
     "text": [
      "2022-08-03 01:40:06.692947: I tensorflow/core/platform/cpu_feature_guard.cc:193] This TensorFlow binary is optimized with oneAPI Deep Neural Network Library (oneDNN) to use the following CPU instructions in performance-critical operations:  AVX2 FMA\n",
      "To enable them in other operations, rebuild TensorFlow with the appropriate compiler flags.\n"
     ]
    }
   ],
   "source": [
    "gs_dropout_batch = joblib.load(\"../data/gs_2.pkl\")"
   ]
  },
  {
   "cell_type": "code",
   "execution_count": 6,
   "id": "334553fd-fedf-4a9a-841b-d6a6d6a568ab",
   "metadata": {},
   "outputs": [
    {
     "data": {
      "text/plain": [
       "{'batch_size': 1,\n",
       " 'dropout': 0.8,\n",
       " 'epochs': 50,\n",
       " 'hidden_neurons': 4,\n",
       " 'learning_rate': 0.0005}"
      ]
     },
     "execution_count": 6,
     "metadata": {},
     "output_type": "execute_result"
    }
   ],
   "source": [
    "gs_dropout_batch.best_params_"
   ]
  },
  {
   "cell_type": "code",
   "execution_count": 139,
   "id": "93d66131-d20e-4b9f-8955-9ed30f57d7e0",
   "metadata": {},
   "outputs": [
    {
     "name": "stderr",
     "output_type": "stream",
     "text": [
      "/Users/ericrodriguez/opt/anaconda3/lib/python3.8/site-packages/keras/optimizers/optimizer_v2/adam.py:110: UserWarning: The `lr` argument is deprecated, use `learning_rate` instead.\n",
      "  super(Adam, self).__init__(name, **kwargs)\n"
     ]
    }
   ],
   "source": [
    "# creating RNN\n",
    "model = Sequential()\n",
    "model.add(LSTM(4, input_shape=input_shape))\n",
    "model.add(Dropout(0.8))\n",
    "model.add(Dense(1))\n",
    "model.compile(loss='mse', optimizer=Adam(lr=0.0005), metrics=['mae'])"
   ]
  },
  {
   "cell_type": "code",
   "execution_count": 140,
   "id": "35904edb-c237-470d-845e-7667ebe1595b",
   "metadata": {
    "tags": []
   },
   "outputs": [
    {
     "name": "stdout",
     "output_type": "stream",
     "text": [
      "Model: \"sequential_106\"\n",
      "_________________________________________________________________\n",
      " Layer (type)                Output Shape              Param #   \n",
      "=================================================================\n",
      " lstm_106 (LSTM)             (None, 4)                 96        \n",
      "                                                                 \n",
      " dropout_41 (Dropout)        (None, 4)                 0         \n",
      "                                                                 \n",
      " dense_106 (Dense)           (None, 1)                 5         \n",
      "                                                                 \n",
      "=================================================================\n",
      "Total params: 101\n",
      "Trainable params: 101\n",
      "Non-trainable params: 0\n",
      "_________________________________________________________________\n"
     ]
    }
   ],
   "source": [
    "model.summary()"
   ]
  },
  {
   "cell_type": "code",
   "execution_count": 141,
   "id": "89c05069-edd8-4981-b36a-a868fe5a7ea4",
   "metadata": {},
   "outputs": [],
   "source": [
    "history = model.fit(X_train, y_train, epochs=50, verbose=0, shuffle=False, batch_size=1)"
   ]
  },
  {
   "cell_type": "code",
   "execution_count": 142,
   "id": "f4c32b9e-13f5-42ed-b959-55e4384b41cb",
   "metadata": {},
   "outputs": [
    {
     "data": {
      "image/png": "[encoded data removed]",
      "text/plain": [
       "<Figure size 720x576 with 1 Axes>"
      ]
     },
     "metadata": {
      "needs_background": "light"
     },
     "output_type": "display_data"
    }
   ],
   "source": [
    "plt.figure(figsize=(10,8))\n",
    "plt.plot(history.history['loss'], label='Train loss')\n",
    "plt.legend();"
   ]
  },
  {
   "cell_type": "code",
   "execution_count": 143,
   "id": "721d4526-2452-4c74-902d-5d871f1df30a",
   "metadata": {},
   "outputs": [
    {
     "name": "stdout",
     "output_type": "stream",
     "text": [
      "1/1 [==============================] - 0s 446ms/step\n"
     ]
    }
   ],
   "source": [
    "preds = model.predict(X_test)"
   ]
  },
  {
   "cell_type": "code",
   "execution_count": 144,
   "id": "987a3f6b-fff9-48f9-b7e3-458b0b931ebe",
   "metadata": {},
   "outputs": [
    {
     "data": {
      "text/plain": [
       "array([[7609541.5],\n",
       "       [7615460.5],\n",
       "       [7622834.5],\n",
       "       [7628004. ],\n",
       "       [7634442.5],\n",
       "       [7642064.5],\n",
       "       [7650175.5]], dtype=float32)"
      ]
     },
     "execution_count": 144,
     "metadata": {},
     "output_type": "execute_result"
    }
   ],
   "source": [
    "inv_preds = scaler.inverse_transform(preds)\n",
    "inv_preds"
   ]
  },
  {
   "cell_type": "code",
   "execution_count": 145,
   "id": "c60378e4-f98e-4c41-91c7-1907365556ae",
   "metadata": {},
   "outputs": [
    {
     "data": {
      "text/plain": [
       "[<matplotlib.lines.Line2D at 0x7f94e906a940>]"
      ]
     },
     "execution_count": 145,
     "metadata": {},
     "output_type": "execute_result"
    },
    {
     "data": {
      "image/png": "[encoded data removed]",
      "text/plain": [
       "<Figure size 432x288 with 1 Axes>"
      ]
     },
     "metadata": {
      "needs_background": "light"
     },
     "output_type": "display_data"
    }
   ],
   "source": [
    "plt.plot(inv_preds)\n",
    "plt.plot(inv_y_test)"
   ]
  },
  {
   "cell_type": "code",
   "execution_count": 146,
   "id": "756e04d3-8ed3-4027-94cf-e1b8e598459a",
   "metadata": {},
   "outputs": [
    {
     "name": "stdout",
     "output_type": "stream",
     "text": [
      "RMSE: 1857729.9009894726\n"
     ]
    }
   ],
   "source": [
    "rmse = sqrt(mean_squared_error(inv_y_test, inv_preds))\n",
    "print(F'RMSE: {rmse}')"
   ]
  },
  {
   "cell_type": "code",
   "execution_count": 147,
   "id": "a54ad57e-c55d-4cda-bf37-6bdb77f28598",
   "metadata": {},
   "outputs": [
    {
     "name": "stdout",
     "output_type": "stream",
     "text": [
      "1/1 [==============================] - 0s 28ms/step\n",
      "1/1 [==============================] - 0s 21ms/step\n",
      "1/1 [==============================] - 0s 20ms/step\n",
      "1/1 [==============================] - 0s 15ms/step\n",
      "1/1 [==============================] - 0s 21ms/step\n",
      "1/1 [==============================] - 0s 15ms/step\n",
      "1/1 [==============================] - 0s 25ms/step\n"
     ]
    }
   ],
   "source": [
    "# Create empty predicitions list\n",
    "test_predictions = []\n",
    "\n",
    "#Select last n_input values from the train data\n",
    "n_input = 1\n",
    "n_features = 1\n",
    "\n",
    "#reshape the data into LSTM required (#batch,#timesteps,#features)\n",
    "first_eval_batch = X_test[0]\n",
    "current_batch = first_eval_batch.reshape((1, n_input, n_features))\n",
    "\n",
    "for i in range(len(X_test)):\n",
    "# get prediction, grab the exact number using the [0]\n",
    "    current_pred = model.predict(current_batch)[0]\n",
    "# Add this prediction to the list\n",
    "    test_predictions.append(current_pred)\n",
    "# Update the (#batch,#timesteps,#features) using np.append\n",
    "    current_batch = np.append(current_batch[:,1:,:],[[current_pred]], axis= 1)"
   ]
  },
  {
   "cell_type": "code",
   "execution_count": 148,
   "id": "2d193a45-99b8-4752-a2a9-2dc9c39d1a73",
   "metadata": {},
   "outputs": [
    {
     "data": {
      "text/plain": [
       "array([[7609541.28378439],\n",
       "       [6648061.08667302],\n",
       "       [6167290.76097924],\n",
       "       [5934641.27235699],\n",
       "       [5824064.90533638],\n",
       "       [5771982.99680221],\n",
       "       [5747559.46921575]])"
      ]
     },
     "execution_count": 148,
     "metadata": {},
     "output_type": "execute_result"
    }
   ],
   "source": [
    "test_preds = scaler.inverse_transform(test_predictions)\n",
    "test_preds"
   ]
  },
  {
   "cell_type": "code",
   "execution_count": 149,
   "id": "821d65ee-100d-4967-9d10-33dc6f4e4413",
   "metadata": {},
   "outputs": [
    {
     "data": {
      "text/plain": [
       "[<matplotlib.lines.Line2D at 0x7f94d5f41d00>]"
      ]
     },
     "execution_count": 149,
     "metadata": {},
     "output_type": "execute_result"
    },
    {
     "data": {
      "image/png": "[encoded data removed]",
      "text/plain": [
       "<Figure size 432x288 with 1 Axes>"
      ]
     },
     "metadata": {
      "needs_background": "light"
     },
     "output_type": "display_data"
    }
   ],
   "source": [
    "plt.plot(inv_preds)\n",
    "plt.plot(inv_y_test)"
   ]
  },
  {
   "cell_type": "code",
   "execution_count": 150,
   "id": "1e36f7b9-4636-4c87-8912-ddbc6049f0b0",
   "metadata": {},
   "outputs": [
    {
     "name": "stdout",
     "output_type": "stream",
     "text": [
      "RMSE: 3308154.877839381\n"
     ]
    }
   ],
   "source": [
    "rmse = sqrt(mean_squared_error(inv_y_test, test_preds))\n",
    "print(F'RMSE: {rmse}')"
   ]
  }
 ],
 "metadata": {
  "kernelspec": {
   "display_name": "Python 3 (ipykernel)",
   "language": "python",
   "name": "python3"
  },
  "language_info": {
   "codemirror_mode": {
    "name": "ipython",
    "version": 3
   },
   "file_extension": ".py",
   "mimetype": "text/x-python",
   "name": "python",
   "nbconvert_exporter": "python",
   "pygments_lexer": "ipython3",
   "version": "3.8.5"
  }
 },
 "nbformat": 4,
 "nbformat_minor": 5
}
