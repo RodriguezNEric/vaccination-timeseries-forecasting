{
 "cells": [
  {
   "cell_type": "markdown",
   "id": "a0584dc2-872c-4fb2-8bfe-45455f5725a7",
   "metadata": {},
   "source": [
    "# COVID-19 Vaccine Forecast\n",
    "\n",
    "## Part 4 - Forecasting"
   ]
  },
  {
   "cell_type": "code",
   "execution_count": 1,
   "id": "6252eb23-3eeb-4dc0-88c5-c903253904cf",
   "metadata": {},
   "outputs": [],
   "source": [
    "# Imports\n",
    "import pandas as pd\n",
    "import numpy as np\n",
    "import matplotlib.pyplot as plt\n",
    "\n",
    "from sklearn.model_selection import GridSearchCV\n",
    "from sklearn.preprocessing import MinMaxScaler\n",
    "from sklearn.metrics import mean_squared_error, mean_absolute_error, mean_absolute_percentage_error\n",
    "\n",
    "from tensorflow.keras.utils import set_random_seed\n",
    "from tensorflow.keras.models import Sequential\n",
    "from tensorflow.keras.layers import Dense, Dropout, LSTM\n",
    "from tensorflow.keras.optimizers import Adam\n",
    "from tensorflow.keras.wrappers.scikit_learn import KerasRegressor\n",
    "import tensorflow as tf\n",
    "\n",
    "from keras import backend as K\n",
    "\n",
    "from math import sqrt\n",
    "import time\n",
    "import os\n",
    "import joblib\n",
    "import random"
   ]
  },
  {
   "cell_type": "code",
   "execution_count": 2,
   "id": "4b12b381-ea39-46a8-902c-244ae4ee8f03",
   "metadata": {},
   "outputs": [
    {
     "name": "stderr",
     "output_type": "stream",
     "text": [
      "2022-09-22 23:55:23.251425: I tensorflow/core/platform/cpu_feature_guard.cc:193] This TensorFlow binary is optimized with oneAPI Deep Neural Network Library (oneDNN) to use the following CPU instructions in performance-critical operations:  AVX2 FMA\n",
      "To enable them in other operations, rebuild TensorFlow with the appropriate compiler flags.\n"
     ]
    },
    {
     "name": "stdout",
     "output_type": "stream",
     "text": [
      "WARNING:tensorflow:From /var/folders/dd/873hhhj50vb62_k59_95c6t00000gn/T/ipykernel_9876/2621126486.py:10: The name tf.keras.backend.set_session is deprecated. Please use tf.compat.v1.keras.backend.set_session instead.\n",
      "\n"
     ]
    }
   ],
   "source": [
    "# create function that sets OS `PYTHONHASHSEED` environment variable,\n",
    "# Python, NumPy, and TensorFlow seeds at a fixed value\n",
    "def reset_seeds():\n",
    "    os.environ['PYTHONHASHSEED']=str(42)\n",
    "    random.seed(42)\n",
    "    np.random.seed(42)\n",
    "    set_random_seed(42)\n",
    "    session_conf = tf.compat.v1.ConfigProto(intra_op_parallelism_threads=1, inter_op_parallelism_threads=1)\n",
    "    sess = tf.compat.v1.Session(graph=tf.compat.v1.get_default_graph(), config=session_conf)\n",
    "    tf.compat.v1.keras.backend.set_session(sess)\n",
    "\n",
    "reset_seeds()"
   ]
  },
  {
   "cell_type": "code",
   "execution_count": 3,
   "id": "342177a0-6a93-4883-83e6-6db89773dad8",
   "metadata": {},
   "outputs": [],
   "source": [
    "# read in clean massachussets data into a pandas dataframe\n",
    "df = pd.read_csv('../data/massachusetts_vaccinations_09_04_21_clean.csv')"
   ]
  },
  {
   "cell_type": "markdown",
   "id": "fcc3d013-5230-4f12-9c18-d309357e3213",
   "metadata": {},
   "source": [
    "### LSTM Preprocessing"
   ]
  },
  {
   "cell_type": "code",
   "execution_count": 4,
   "id": "a872e3ed-3529-4999-b5f7-b5763f707d1f",
   "metadata": {
    "tags": []
   },
   "outputs": [],
   "source": [
    "# convert feature of interest to a single df column\n",
    "data = df[['total_vaccinations']]"
   ]
  },
  {
   "cell_type": "code",
   "execution_count": 5,
   "id": "f9807a1c-d39a-4932-9da8-5156467d871e",
   "metadata": {},
   "outputs": [],
   "source": [
    "# define function that fits minmaxscaler on train data and\n",
    "# and transforms both train and test data\n",
    "# scaler is pickled in order to inverse_transform values later\n",
    "def data_normalization(data, test_window):\n",
    "    train_data = data[:test_window]\n",
    "    test_data = data[test_window:]\n",
    "    scaler = MinMaxScaler()\n",
    "    train_sc = scaler.fit_transform(train_data)\n",
    "    test_sc = scaler.transform(test_data)\n",
    "    joblib.dump(scaler, '../data/scaler_1.pkl')\n",
    "    data_sc = np.append(train_sc, test_sc)\n",
    "    return data_sc"
   ]
  },
  {
   "cell_type": "code",
   "execution_count": 6,
   "id": "6ad3ea48-caf2-4f09-899a-c317377b7fda",
   "metadata": {},
   "outputs": [],
   "source": [
    "# set length of test window\n",
    "test_window = len(data)-7\n",
    "\n",
    "# run data through data normalization function\n",
    "data_sc = data_normalization(data, test_window)"
   ]
  },
  {
   "cell_type": "code",
   "execution_count": 7,
   "id": "5c34bd39-d615-43d2-90ed-f4d1cda74e58",
   "metadata": {},
   "outputs": [],
   "source": [
    "# create function that separates data into X and y\n",
    "# each X value is an array whose length is specified by the \"n_steps\" argument\n",
    "def sampling(sequence, n_steps):\n",
    "    X, y = list(), list()\n",
    "    for i in range(len(sequence)):     \n",
    "        sam = i + n_steps\n",
    "        if sam > len(sequence)-1:\n",
    "            break\n",
    "        x, Y = sequence[i:sam], sequence[sam]\n",
    "        X.append(x)\n",
    "        y.append(Y)\n",
    "    return np.array(X), np.array(y)"
   ]
  },
  {
   "cell_type": "code",
   "execution_count": 8,
   "id": "73a992f0-0c35-4e15-9ab7-7157958f10c4",
   "metadata": {},
   "outputs": [],
   "source": [
    "# specify number of steps\n",
    "n_steps = 1\n",
    "\n",
    "# run data through the sampling function\n",
    "X, y = sampling(data_sc, n_steps)"
   ]
  },
  {
   "cell_type": "code",
   "execution_count": 9,
   "id": "0299f786-44e8-4ef5-9033-7b9ae0bc817d",
   "metadata": {},
   "outputs": [
    {
     "data": {
      "text/plain": [
       "((234, 1), (234,))"
      ]
     },
     "execution_count": 9,
     "metadata": {},
     "output_type": "execute_result"
    }
   ],
   "source": [
    "# check shape of X and Y\n",
    "X.shape, y.shape"
   ]
  },
  {
   "cell_type": "code",
   "execution_count": 10,
   "id": "7f0bfa14-5731-4485-be15-615b87a29c52",
   "metadata": {},
   "outputs": [
    {
     "name": "stdout",
     "output_type": "stream",
     "text": [
      "(227, 1, 1) (227, 1) (7, 1, 1) (7, 1)\n"
     ]
    }
   ],
   "source": [
    "# set size of test window\n",
    "test_window = len(X)-7\n",
    "\n",
    "# split X and y into train and test\n",
    "X_train, y_train = X[:test_window], y[:test_window]\n",
    "X_test, y_test = X[test_window:], y[test_window:]\n",
    "\n",
    "#convert data into suitable dimension for using it as input in LSTM network\n",
    "X_train = X_train.reshape((X_train.shape[0],X_train.shape[1], 1))\n",
    "X_test = X_test.reshape((X_test.shape[0], X_test.shape[1], 1))\n",
    "y_train = y_train.reshape((y_train.shape[0], 1))\n",
    "y_test = y_test.reshape((y_test.shape[0], 1))\n",
    "print(X_train.shape, y_train.shape, X_test.shape, y_test.shape)"
   ]
  },
  {
   "cell_type": "code",
   "execution_count": 11,
   "id": "8dbcb3fc-4baf-4aaf-aca4-2bc7bf8dfb3c",
   "metadata": {},
   "outputs": [
    {
     "data": {
      "text/plain": [
       "(1, 1)"
      ]
     },
     "execution_count": 11,
     "metadata": {},
     "output_type": "execute_result"
    }
   ],
   "source": [
    "# assign input shape for LSTM gridsearch\n",
    "input_shape = (X_train.shape[1], X_train.shape[2])\n",
    "# check input shape\n",
    "input_shape"
   ]
  },
  {
   "cell_type": "markdown",
   "id": "138d7674-bde0-4e2d-ae0c-19a9b6a4c618",
   "metadata": {
    "tags": []
   },
   "source": [
    "### Using GridSearch parameters to build LSTM RNN\n",
    "\n",
    "#### Model 1"
   ]
  },
  {
   "cell_type": "code",
   "execution_count": 12,
   "id": "843f597c-d8b6-429d-9843-bc88af88b962",
   "metadata": {},
   "outputs": [
    {
     "data": {
      "text/plain": [
       "{'epochs': 50, 'hidden_neurons': 8, 'learning_rate': 0.0005}"
      ]
     },
     "execution_count": 12,
     "metadata": {},
     "output_type": "execute_result"
    }
   ],
   "source": [
    "# load in gridsearch 1 best paramter results\n",
    "gs_1 = joblib.load(\"../data/gs_1.pkl\")\n",
    "gs_1"
   ]
  },
  {
   "cell_type": "code",
   "execution_count": 13,
   "id": "06a39171-37db-4a99-a13c-2c790a4da00e",
   "metadata": {},
   "outputs": [
    {
     "name": "stderr",
     "output_type": "stream",
     "text": [
      "/Users/ericrodriguez/opt/anaconda3/lib/python3.8/site-packages/keras/optimizers/optimizer_v2/adam.py:110: UserWarning: The `lr` argument is deprecated, use `learning_rate` instead.\n",
      "  super(Adam, self).__init__(name, **kwargs)\n"
     ]
    }
   ],
   "source": [
    "# creating RNN using gridsearch_1 parameters\n",
    "model = Sequential()\n",
    "model.add(LSTM(8, input_shape=input_shape))\n",
    "model.add(Dense(1))\n",
    "model.compile(loss='mse', optimizer=Adam(lr=0.0005), metrics=['mae'])"
   ]
  },
  {
   "cell_type": "code",
   "execution_count": 14,
   "id": "d976aebb-bd94-4532-9dc7-0e0f5200fe0f",
   "metadata": {},
   "outputs": [
    {
     "name": "stdout",
     "output_type": "stream",
     "text": [
      "Model: \"sequential\"\n",
      "_________________________________________________________________\n",
      " Layer (type)                Output Shape              Param #   \n",
      "=================================================================\n",
      " lstm (LSTM)                 (None, 8)                 320       \n",
      "                                                                 \n",
      " dense (Dense)               (None, 1)                 9         \n",
      "                                                                 \n",
      "=================================================================\n",
      "Total params: 329\n",
      "Trainable params: 329\n",
      "Non-trainable params: 0\n",
      "_________________________________________________________________\n"
     ]
    }
   ],
   "source": [
    "# look at summary of model\n",
    "model.summary()"
   ]
  },
  {
   "cell_type": "code",
   "execution_count": 15,
   "id": "37d9d351-059d-437f-a36f-f452c3c6ce92",
   "metadata": {},
   "outputs": [],
   "source": [
    "# fit model and set results equal to history\n",
    "history = model.fit(X_train, y_train, epochs=50, verbose=0, shuffle=False, batch_size=1)"
   ]
  },
  {
   "cell_type": "code",
   "execution_count": 16,
   "id": "9d532a94-056a-49ee-8a3f-1a32b028300c",
   "metadata": {},
   "outputs": [
    {
     "data": {
      "image/png": "[encoded data removed]",
      "text/plain": [
       "<Figure size 720x576 with 1 Axes>"
      ]
     },
     "metadata": {
      "needs_background": "light"
     },
     "output_type": "display_data"
    }
   ],
   "source": [
    "# plot loss\n",
    "plt.figure(figsize=(10,8))\n",
    "plt.xlabel(\"Epochs\")\n",
    "plt.ylabel(\"Loss (mse)\")\n",
    "plt.title(\"Model 1 Loss\")\n",
    "plt.plot(history.history['loss'], label='Train loss')\n",
    "plt.legend();"
   ]
  },
  {
   "cell_type": "markdown",
   "id": "301e5779-f7fb-44af-bf5a-c08c64c1b81b",
   "metadata": {},
   "source": [
    "#### One-step Forecasting"
   ]
  },
  {
   "cell_type": "code",
   "execution_count": 17,
   "id": "be5f79f6-2be5-4bc7-8d8b-c116406f8ec4",
   "metadata": {},
   "outputs": [
    {
     "name": "stdout",
     "output_type": "stream",
     "text": [
      "1/1 [==============================] - 1s 674ms/step\n"
     ]
    }
   ],
   "source": [
    "# create predictions on X_test values using model 1\n",
    "preds = model.predict(X_test)"
   ]
  },
  {
   "cell_type": "code",
   "execution_count": 18,
   "id": "3ee45204-00f0-4806-9c28-888bc92e4327",
   "metadata": {},
   "outputs": [],
   "source": [
    "# load minmaxscaler\n",
    "scaler = joblib.load(\"../data/scaler_1.pkl\")"
   ]
  },
  {
   "cell_type": "code",
   "execution_count": 19,
   "id": "1f869451-420e-49fe-b94a-526537fe5853",
   "metadata": {},
   "outputs": [
    {
     "data": {
      "text/plain": [
       "array([[9448242.],\n",
       "       [9458716.],\n",
       "       [9471756.],\n",
       "       [9480890.],\n",
       "       [9492261.],\n",
       "       [9505714.],\n",
       "       [9520018.]], dtype=float32)"
      ]
     },
     "execution_count": 19,
     "metadata": {},
     "output_type": "execute_result"
    }
   ],
   "source": [
    "# inverse transform normalized predictions to actual predictions\n",
    "inv_test_preds = scaler.inverse_transform(preds)\n",
    "inv_test_preds"
   ]
  },
  {
   "cell_type": "code",
   "execution_count": 20,
   "id": "969b5504-e603-4e3e-a131-f20b9ed1d097",
   "metadata": {},
   "outputs": [
    {
     "data": {
      "text/plain": [
       "array([[9448906.],\n",
       "       [9462566.],\n",
       "       [9472140.],\n",
       "       [9484059.],\n",
       "       [9498168.],\n",
       "       [9513175.],\n",
       "       [9527318.]])"
      ]
     },
     "execution_count": 20,
     "metadata": {},
     "output_type": "execute_result"
    }
   ],
   "source": [
    "# inverse transform normalized y_test values to actual y_test values\n",
    "inv_y_test = scaler.inverse_transform(y_test)\n",
    "inv_y_test"
   ]
  },
  {
   "cell_type": "code",
   "execution_count": 21,
   "id": "7d37d352-b622-4f8b-8473-aefe9762bff3",
   "metadata": {},
   "outputs": [
    {
     "data": {
      "image/png": "[encoded data removed]",
      "text/plain": [
       "<Figure size 720x504 with 1 Axes>"
      ]
     },
     "metadata": {
      "needs_background": "light"
     },
     "output_type": "display_data"
    }
   ],
   "source": [
    "# plot model 1 single step predictions vs actual values\n",
    "fig, ax = plt.subplots(figsize=(10,7))\n",
    "\n",
    "ax.yaxis.get_major_formatter().set_scientific(False)\n",
    "plt.title('Model 1 y_test Values vs Predictions')\n",
    "plt.plot(inv_y_test,label=\"Actual\")\n",
    "plt.plot(inv_test_preds,label=\"Predicted\")\n",
    "plt.xlabel('Timesteps')\n",
    "plt.ylabel('Number of Vaccinations')\n",
    "plt.legend()\n",
    "plt.show()"
   ]
  },
  {
   "cell_type": "code",
   "execution_count": 22,
   "id": "e2618561-4bd1-4d11-a93c-8f87f8facf7c",
   "metadata": {},
   "outputs": [
    {
     "name": "stdout",
     "output_type": "stream",
     "text": [
      "RMSE: 4917.93485984845\n"
     ]
    }
   ],
   "source": [
    "# calculate rmse of y_test actual and one step model 1 predicted values\n",
    "rmse = sqrt(mean_squared_error(inv_y_test, inv_test_preds))\n",
    "print(F'RMSE: {rmse}')"
   ]
  },
  {
   "cell_type": "code",
   "execution_count": 23,
   "id": "ad458f32-d9e2-45a5-b6e6-d347dbbdc970",
   "metadata": {},
   "outputs": [],
   "source": [
    "# create function for MAPE\n",
    "def mape(actual, pred):\n",
    "    actual, pred = np.array(actual), np.array(pred)\n",
    "    return np.mean(np.abs((actual-pred)/actual))*100"
   ]
  },
  {
   "cell_type": "code",
   "execution_count": 24,
   "id": "b6be1f21-ec2c-4c72-bd76-560c86da5855",
   "metadata": {},
   "outputs": [
    {
     "name": "stdout",
     "output_type": "stream",
     "text": [
      "MAPE percentage: 0.04%\n"
     ]
    }
   ],
   "source": [
    "# calculate MAPE of y_test values and one step model 1 predicted values\n",
    "os_mape = mape(inv_y_test, inv_test_preds)\n",
    "print(F'MAPE percentage: {round(os_mape, 2)}%')"
   ]
  },
  {
   "cell_type": "markdown",
   "id": "88ee2ac7-2b5a-4bbf-93d2-0aadb7ee748c",
   "metadata": {},
   "source": [
    "#### Recursive Multi-step Forecasting"
   ]
  },
  {
   "cell_type": "code",
   "execution_count": 25,
   "id": "609a49cd-1c6a-4f10-9b29-5eaf5862a646",
   "metadata": {},
   "outputs": [
    {
     "name": "stdout",
     "output_type": "stream",
     "text": [
      "1/1 [==============================] - 0s 21ms/step\n",
      "1/1 [==============================] - 0s 16ms/step\n",
      "1/1 [==============================] - 0s 15ms/step\n",
      "1/1 [==============================] - 0s 21ms/step\n",
      "1/1 [==============================] - 0s 17ms/step\n",
      "1/1 [==============================] - 0s 22ms/step\n",
      "1/1 [==============================] - 0s 19ms/step\n"
     ]
    }
   ],
   "source": [
    "# create empty predicitions list\n",
    "test_predictions = []\n",
    "\n",
    "# select last n_input values from the train data\n",
    "n_input = 1\n",
    "n_features = 1\n",
    "\n",
    "# reshape the data into LSTM required (#batch,#timesteps,#features)\n",
    "# h/t stackoverflow\n",
    "first_eval_batch = X_test[0]\n",
    "current_batch = first_eval_batch.reshape((1, n_input, n_features))\n",
    "\n",
    "for i in range(len(X_test)):\n",
    "# get prediction, grab the exact number using the [0]\n",
    "    current_pred = model.predict(current_batch)[0]\n",
    "# add this prediction to the list\n",
    "    test_predictions.append(current_pred)\n",
    "# update the (#batch,#timesteps,#features) using np.append\n",
    "    current_batch = np.append(current_batch[:,1:,:],[[current_pred]], axis= 1)"
   ]
  },
  {
   "cell_type": "code",
   "execution_count": 26,
   "id": "c1efeaeb-5cf7-4b19-bd0b-fe8989bcfda7",
   "metadata": {},
   "outputs": [
    {
     "data": {
      "text/plain": [
       "array([[9448241.6070025 ],\n",
       "       [9458080.26566255],\n",
       "       [9467472.66184735],\n",
       "       [9476436.38225543],\n",
       "       [9484987.91441667],\n",
       "       [9493145.94419825],\n",
       "       [9500925.85996139]])"
      ]
     },
     "execution_count": 26,
     "metadata": {},
     "output_type": "execute_result"
    }
   ],
   "source": [
    "# inverse transform normalized multi-step predictions to actual predictions\n",
    "inv_preds = scaler.inverse_transform(test_predictions)\n",
    "inv_preds"
   ]
  },
  {
   "cell_type": "code",
   "execution_count": 27,
   "id": "8db3cfe6-c7e6-49df-b357-30d29d9f46bd",
   "metadata": {},
   "outputs": [
    {
     "data": {
      "image/png": "[encoded data removed]",
      "text/plain": [
       "<Figure size 720x504 with 1 Axes>"
      ]
     },
     "metadata": {
      "needs_background": "light"
     },
     "output_type": "display_data"
    }
   ],
   "source": [
    "# plot model 1 recursive predictions vs actual values\n",
    "fig, ax = plt.subplots(figsize=(10,7))\n",
    "\n",
    "ax.yaxis.get_major_formatter().set_scientific(False)\n",
    "plt.title('Model 1 y_test Values vs Multi-step Predictions')\n",
    "plt.plot(inv_y_test,label=\"Actual\")\n",
    "plt.plot(inv_preds,label=\"Predicted\")\n",
    "plt.xlabel('Timesteps')\n",
    "plt.ylabel('Number of Vaccinations')\n",
    "plt.legend()\n",
    "plt.show()"
   ]
  },
  {
   "cell_type": "code",
   "execution_count": 28,
   "id": "29684cc9-c7c6-4927-9fe8-11316a185d66",
   "metadata": {},
   "outputs": [
    {
     "name": "stdout",
     "output_type": "stream",
     "text": [
      "RMSE: 13999.358992586695\n"
     ]
    }
   ],
   "source": [
    "# calculate rmse of y_test actual values and recursive model 1 predicted values\n",
    "rmse = sqrt(mean_squared_error(inv_y_test, inv_preds))\n",
    "print(F'RMSE: {rmse}')"
   ]
  },
  {
   "cell_type": "code",
   "execution_count": 29,
   "id": "b3835a16-7ab8-42bd-8dd2-64624dcb4db4",
   "metadata": {},
   "outputs": [
    {
     "name": "stdout",
     "output_type": "stream",
     "text": [
      "MAPE percentage: 0.12%\n"
     ]
    }
   ],
   "source": [
    "# calculate MAPE of y_test values and recursive model 1 predicted values\n",
    "rec_mape = mape(inv_y_test, inv_preds)\n",
    "print(F'MAPE percentage: {round(rec_mape, 2)}%')"
   ]
  },
  {
   "cell_type": "code",
   "execution_count": 30,
   "id": "8bdf80c1-6152-4d12-b9cd-d9a4720cb064",
   "metadata": {},
   "outputs": [],
   "source": [
    "# # save first model because results look promising\n",
    "# model.save(\"../data/model_1.h1\")"
   ]
  },
  {
   "cell_type": "markdown",
   "id": "8d982480-2236-4212-a3a0-4aa8506c9c14",
   "metadata": {},
   "source": [
    "#### Model 2 - best dropout and batch size parameters"
   ]
  },
  {
   "cell_type": "code",
   "execution_count": 31,
   "id": "24f5b775-496b-4a9b-a4f4-eaaf0a7557e7",
   "metadata": {},
   "outputs": [
    {
     "data": {
      "text/plain": [
       "{'batch_size': 1, 'dropout': 0.8, 'hidden_neurons': 32}"
      ]
     },
     "execution_count": 31,
     "metadata": {},
     "output_type": "execute_result"
    }
   ],
   "source": [
    "# load in gridsearch 2 best parameter results\n",
    "gs_2 = joblib.load(\"../data/gs_2.pkl\")\n",
    "gs_2"
   ]
  },
  {
   "cell_type": "code",
   "execution_count": 32,
   "id": "9ace7453-7252-45cf-a20f-67d68a6f6cae",
   "metadata": {},
   "outputs": [],
   "source": [
    "# reset seeds in order to preserve reproducibility\n",
    "reset_seeds()"
   ]
  },
  {
   "cell_type": "code",
   "execution_count": 33,
   "id": "93d66131-d20e-4b9f-8955-9ed30f57d7e0",
   "metadata": {},
   "outputs": [
    {
     "name": "stderr",
     "output_type": "stream",
     "text": [
      "/Users/ericrodriguez/opt/anaconda3/lib/python3.8/site-packages/keras/optimizers/optimizer_v2/adam.py:110: UserWarning: The `lr` argument is deprecated, use `learning_rate` instead.\n",
      "  super(Adam, self).__init__(name, **kwargs)\n"
     ]
    }
   ],
   "source": [
    "# creating RNN using gridsearch_2 parameters\n",
    "model = Sequential()\n",
    "model.add(LSTM(32, input_shape=input_shape))\n",
    "model.add(Dropout(0.8))\n",
    "model.add(Dense(1))\n",
    "model.compile(loss='mse', optimizer=Adam(lr=0.0005), metrics=['mae'])"
   ]
  },
  {
   "cell_type": "code",
   "execution_count": 34,
   "id": "35904edb-c237-470d-845e-7667ebe1595b",
   "metadata": {
    "tags": []
   },
   "outputs": [
    {
     "name": "stdout",
     "output_type": "stream",
     "text": [
      "Model: \"sequential_1\"\n",
      "_________________________________________________________________\n",
      " Layer (type)                Output Shape              Param #   \n",
      "=================================================================\n",
      " lstm_1 (LSTM)               (None, 32)                4352      \n",
      "                                                                 \n",
      " dropout (Dropout)           (None, 32)                0         \n",
      "                                                                 \n",
      " dense_1 (Dense)             (None, 1)                 33        \n",
      "                                                                 \n",
      "=================================================================\n",
      "Total params: 4,385\n",
      "Trainable params: 4,385\n",
      "Non-trainable params: 0\n",
      "_________________________________________________________________\n"
     ]
    }
   ],
   "source": [
    "# look at summary of model\n",
    "model.summary()"
   ]
  },
  {
   "cell_type": "code",
   "execution_count": 35,
   "id": "89c05069-edd8-4981-b36a-a868fe5a7ea4",
   "metadata": {},
   "outputs": [],
   "source": [
    "# fit model and set results equal to history\n",
    "history = model.fit(X_train, y_train, epochs=50, verbose=0, shuffle=False, batch_size=1)"
   ]
  },
  {
   "cell_type": "code",
   "execution_count": 36,
   "id": "f4c32b9e-13f5-42ed-b959-55e4384b41cb",
   "metadata": {},
   "outputs": [
    {
     "data": {
      "image/png": "[encoded data removed]",
      "text/plain": [
       "<Figure size 720x576 with 1 Axes>"
      ]
     },
     "metadata": {
      "needs_background": "light"
     },
     "output_type": "display_data"
    }
   ],
   "source": [
    "# plot loss\n",
    "plt.figure(figsize=(10,8))\n",
    "plt.xlabel(\"Epochs\")\n",
    "plt.ylabel(\"Loss (mse)\")\n",
    "plt.title(\"Model 2 Loss\")\n",
    "plt.plot(history.history['loss'], label='Train loss')\n",
    "plt.legend();"
   ]
  },
  {
   "cell_type": "markdown",
   "id": "4515e67d-6ef5-44ef-a8fd-aa5257ad7e24",
   "metadata": {},
   "source": [
    "#### One-step Forecasting"
   ]
  },
  {
   "cell_type": "code",
   "execution_count": 37,
   "id": "721d4526-2452-4c74-902d-5d871f1df30a",
   "metadata": {},
   "outputs": [
    {
     "name": "stdout",
     "output_type": "stream",
     "text": [
      "1/1 [==============================] - 0s 406ms/step\n"
     ]
    }
   ],
   "source": [
    "# create predictions on X_test values using model 2\n",
    "preds = model.predict(X_test)"
   ]
  },
  {
   "cell_type": "code",
   "execution_count": 38,
   "id": "987a3f6b-fff9-48f9-b7e3-458b0b931ebe",
   "metadata": {},
   "outputs": [
    {
     "data": {
      "text/plain": [
       "array([[9345606.],\n",
       "       [9356501.],\n",
       "       [9370075.],\n",
       "       [9379591.],\n",
       "       [9391442.],\n",
       "       [9405473.],\n",
       "       [9420402.]], dtype=float32)"
      ]
     },
     "execution_count": 38,
     "metadata": {},
     "output_type": "execute_result"
    }
   ],
   "source": [
    "# inverse transform normalized predictions to actual predictions\n",
    "inv_test_preds = scaler.inverse_transform(preds)\n",
    "inv_test_preds"
   ]
  },
  {
   "cell_type": "code",
   "execution_count": 39,
   "id": "c60378e4-f98e-4c41-91c7-1907365556ae",
   "metadata": {},
   "outputs": [
    {
     "data": {
      "image/png": "[encoded data removed]",
      "text/plain": [
       "<Figure size 720x504 with 1 Axes>"
      ]
     },
     "metadata": {
      "needs_background": "light"
     },
     "output_type": "display_data"
    }
   ],
   "source": [
    "# plot model 2 single step predictions vs actual values\n",
    "fig, ax = plt.subplots(figsize=(10,7))\n",
    "\n",
    "ax.yaxis.get_major_formatter().set_scientific(False)\n",
    "plt.title('Model 2 y_test Values vs Predictions')\n",
    "plt.plot(inv_y_test,label=\"Actual\")\n",
    "plt.plot(inv_test_preds,label=\"Predicted\")\n",
    "plt.xlabel('Timesteps')\n",
    "plt.ylabel('Number of Vaccinations')\n",
    "plt.legend()\n",
    "plt.show()"
   ]
  },
  {
   "cell_type": "code",
   "execution_count": 40,
   "id": "756e04d3-8ed3-4027-94cf-e1b8e598459a",
   "metadata": {},
   "outputs": [
    {
     "name": "stdout",
     "output_type": "stream",
     "text": [
      "RMSE: 105338.02217487391\n"
     ]
    }
   ],
   "source": [
    "# calculate rmse of y_test actual and single step model 2 predicted values\n",
    "rmse = sqrt(mean_squared_error(inv_y_test, inv_test_preds))\n",
    "print(F'RMSE: {rmse}')"
   ]
  },
  {
   "cell_type": "code",
   "execution_count": 41,
   "id": "7ae8d0b8-518a-4e43-80f5-6f61b37ee88b",
   "metadata": {},
   "outputs": [
    {
     "name": "stdout",
     "output_type": "stream",
     "text": [
      "MAPE percentage: 1.11%\n"
     ]
    }
   ],
   "source": [
    "# calculate MAPE of y_test values and one step model 2 predicted values\n",
    "os_mape = mape(inv_y_test, inv_test_preds)\n",
    "print(F'MAPE percentage: {round(os_mape, 2)}%')"
   ]
  },
  {
   "cell_type": "markdown",
   "id": "49607238-b068-41fc-8ddf-407ce62208f5",
   "metadata": {},
   "source": [
    "#### Recursive Multi-step Forecasting "
   ]
  },
  {
   "cell_type": "code",
   "execution_count": 42,
   "id": "a54ad57e-c55d-4cda-bf37-6bdb77f28598",
   "metadata": {},
   "outputs": [
    {
     "name": "stdout",
     "output_type": "stream",
     "text": [
      "1/1 [==============================] - 0s 23ms/step\n",
      "1/1 [==============================] - 0s 17ms/step\n",
      "1/1 [==============================] - 0s 20ms/step\n",
      "1/1 [==============================] - 0s 17ms/step\n",
      "1/1 [==============================] - 0s 18ms/step\n",
      "1/1 [==============================] - 0s 17ms/step\n",
      "1/1 [==============================] - 0s 22ms/step\n"
     ]
    }
   ],
   "source": [
    "# create empty predicitions list\n",
    "test_predictions = []\n",
    "\n",
    "# select last n_input values from the train data\n",
    "n_input = 1\n",
    "n_features = 1\n",
    "\n",
    "# reshape the data into LSTM required (#batch,#timesteps,#features)\n",
    "# h/t stackoverflow\n",
    "first_eval_batch = X_test[0]\n",
    "current_batch = first_eval_batch.reshape((1, n_input, n_features))\n",
    "\n",
    "for i in range(len(X_test)):\n",
    "# get prediction, grab the exact number using the [0]\n",
    "    current_pred = model.predict(current_batch)[0]\n",
    "# add this prediction to the list\n",
    "    test_predictions.append(current_pred)\n",
    "# update the (#batch,#timesteps,#features) using np.append\n",
    "    current_batch = np.append(current_batch[:,1:,:],[[current_pred]], axis= 1)"
   ]
  },
  {
   "cell_type": "code",
   "execution_count": 43,
   "id": "2d193a45-99b8-4752-a2a9-2dc9c39d1a73",
   "metadata": {},
   "outputs": [
    {
     "data": {
      "text/plain": [
       "array([[9345605.08478481],\n",
       "       [9253984.98044449],\n",
       "       [9163259.04980767],\n",
       "       [9073604.25902832],\n",
       "       [8985192.62800145],\n",
       "       [8898186.8336885 ],\n",
       "       [8812740.75970161]])"
      ]
     },
     "execution_count": 43,
     "metadata": {},
     "output_type": "execute_result"
    }
   ],
   "source": [
    "# inverse transform normalized multi-step predictions to actual predictions\n",
    "inv_preds = scaler.inverse_transform(test_predictions)\n",
    "inv_preds"
   ]
  },
  {
   "cell_type": "code",
   "execution_count": 44,
   "id": "821d65ee-100d-4967-9d10-33dc6f4e4413",
   "metadata": {},
   "outputs": [
    {
     "data": {
      "image/png": "[encoded data removed]",
      "text/plain": [
       "<Figure size 720x504 with 1 Axes>"
      ]
     },
     "metadata": {
      "needs_background": "light"
     },
     "output_type": "display_data"
    }
   ],
   "source": [
    "# plot model 1 recursive predictions vs actual values\n",
    "fig, ax = plt.subplots(figsize=(10,7))\n",
    "\n",
    "ax.yaxis.get_major_formatter().set_scientific(False)\n",
    "plt.title('Model 2 y_test Values vs Multi-step Predictions')\n",
    "plt.plot(inv_y_test,label=\"Actual\")\n",
    "plt.plot(inv_preds,label=\"Predicted\")\n",
    "plt.xlabel('Timesteps')\n",
    "plt.ylabel('Number of Vaccinations')\n",
    "plt.legend()\n",
    "plt.show()"
   ]
  },
  {
   "cell_type": "code",
   "execution_count": 45,
   "id": "1e36f7b9-4636-4c87-8912-ddbc6049f0b0",
   "metadata": {},
   "outputs": [
    {
     "name": "stdout",
     "output_type": "stream",
     "text": [
      "RMSE: 458262.6299270599\n"
     ]
    }
   ],
   "source": [
    "# calculate rmse of y_test actual values and recursive model 2 predicted values\n",
    "rmse = sqrt(mean_squared_error(inv_y_test, inv_preds))\n",
    "print(F'RMSE: {rmse}')"
   ]
  },
  {
   "cell_type": "code",
   "execution_count": 46,
   "id": "28ac9dc0-775c-4bbd-8cca-5f95a67aba71",
   "metadata": {},
   "outputs": [
    {
     "name": "stdout",
     "output_type": "stream",
     "text": [
      "MAPE percentage: 4.32%\n"
     ]
    }
   ],
   "source": [
    "# calculate MAPE of y_test values and recursive model 2 predicted values\n",
    "rec_mape = mape(inv_y_test, inv_preds)\n",
    "print(F'MAPE percentage: {round(rec_mape, 2)}%')"
   ]
  },
  {
   "cell_type": "markdown",
   "id": "4a2c5b42-3f48-4f6b-a8a0-f8245203f4df",
   "metadata": {},
   "source": [
    "#### Model 3 - best dropout and learning rate parameters"
   ]
  },
  {
   "cell_type": "code",
   "execution_count": 47,
   "id": "07913a7d-8e49-4fc9-b3ed-5be9f71de310",
   "metadata": {},
   "outputs": [
    {
     "data": {
      "text/plain": [
       "{'dropout': 0.8, 'hidden_neurons': 128, 'learning_rate': 0.001}"
      ]
     },
     "execution_count": 47,
     "metadata": {},
     "output_type": "execute_result"
    }
   ],
   "source": [
    "# load in gridsearch 3 best paramter results\n",
    "gs_3 = joblib.load(\"../data/gs_3.pkl\")\n",
    "gs_3"
   ]
  },
  {
   "cell_type": "code",
   "execution_count": 48,
   "id": "c15250dd-143b-4680-91b7-5184b5086ee0",
   "metadata": {},
   "outputs": [],
   "source": [
    "# reset seeds in order to preserve reproducability\n",
    "reset_seeds()"
   ]
  },
  {
   "cell_type": "code",
   "execution_count": 49,
   "id": "58151422-77b1-4c66-ad14-95bdee958860",
   "metadata": {},
   "outputs": [
    {
     "name": "stderr",
     "output_type": "stream",
     "text": [
      "/Users/ericrodriguez/opt/anaconda3/lib/python3.8/site-packages/keras/optimizers/optimizer_v2/adam.py:110: UserWarning: The `lr` argument is deprecated, use `learning_rate` instead.\n",
      "  super(Adam, self).__init__(name, **kwargs)\n"
     ]
    }
   ],
   "source": [
    "# create RNN using gridsearch_3 parameters\n",
    "model = Sequential()\n",
    "model.add(LSTM(128, input_shape=input_shape))\n",
    "model.add(Dropout(0.8))\n",
    "model.add(Dense(1))\n",
    "model.compile(loss='mse', optimizer=Adam(lr=0.001), metrics=['mae'])"
   ]
  },
  {
   "cell_type": "code",
   "execution_count": 50,
   "id": "902be17d-f736-436c-ac60-5780ca16425a",
   "metadata": {
    "tags": []
   },
   "outputs": [
    {
     "name": "stdout",
     "output_type": "stream",
     "text": [
      "Model: \"sequential_2\"\n",
      "_________________________________________________________________\n",
      " Layer (type)                Output Shape              Param #   \n",
      "=================================================================\n",
      " lstm_2 (LSTM)               (None, 128)               66560     \n",
      "                                                                 \n",
      " dropout_1 (Dropout)         (None, 128)               0         \n",
      "                                                                 \n",
      " dense_2 (Dense)             (None, 1)                 129       \n",
      "                                                                 \n",
      "=================================================================\n",
      "Total params: 66,689\n",
      "Trainable params: 66,689\n",
      "Non-trainable params: 0\n",
      "_________________________________________________________________\n"
     ]
    }
   ],
   "source": [
    "# view summary of model 3\n",
    "model.summary()"
   ]
  },
  {
   "cell_type": "code",
   "execution_count": 51,
   "id": "a24e5c8d-c47e-4956-b526-ea7cc395cf9f",
   "metadata": {},
   "outputs": [],
   "source": [
    "# fit model and set results equal to history\n",
    "history = model.fit(X_train, y_train, epochs=50, verbose=0, shuffle=False, batch_size=1)"
   ]
  },
  {
   "cell_type": "code",
   "execution_count": 52,
   "id": "e00efd12-2797-4967-8205-e7752df0407f",
   "metadata": {},
   "outputs": [
    {
     "data": {
      "image/png": "[encoded data removed]",
      "text/plain": [
       "<Figure size 720x576 with 1 Axes>"
      ]
     },
     "metadata": {
      "needs_background": "light"
     },
     "output_type": "display_data"
    }
   ],
   "source": [
    "# plot loss\n",
    "plt.figure(figsize=(10,8))\n",
    "plt.xlabel(\"Epochs\")\n",
    "plt.ylabel(\"Loss (mse)\")\n",
    "plt.title(\"Model 3 Loss\")\n",
    "plt.plot(history.history['loss'], label='Train loss')\n",
    "plt.legend();"
   ]
  },
  {
   "cell_type": "markdown",
   "id": "5728629e-479b-4ab5-9dbb-4a98dc1d6402",
   "metadata": {},
   "source": [
    "#### One-step Forecasting"
   ]
  },
  {
   "cell_type": "code",
   "execution_count": 53,
   "id": "2fdd6d96-8e81-4194-acc6-6168133e2539",
   "metadata": {},
   "outputs": [
    {
     "name": "stdout",
     "output_type": "stream",
     "text": [
      "1/1 [==============================] - 0s 405ms/step\n"
     ]
    }
   ],
   "source": [
    "# create predictions on X_test values using model 3\n",
    "preds = model.predict(X_test)"
   ]
  },
  {
   "cell_type": "code",
   "execution_count": 54,
   "id": "be8eaa1d-fe99-461c-8ef1-786998f5546d",
   "metadata": {},
   "outputs": [
    {
     "data": {
      "text/plain": [
       "array([[9314808.],\n",
       "       [9325074.],\n",
       "       [9337861.],\n",
       "       [9346821.],\n",
       "       [9357977.],\n",
       "       [9371181.],\n",
       "       [9385225.]], dtype=float32)"
      ]
     },
     "execution_count": 54,
     "metadata": {},
     "output_type": "execute_result"
    }
   ],
   "source": [
    "# inverse transform normalized predictions to actual predictions\n",
    "inv_test_preds = scaler.inverse_transform(preds)\n",
    "inv_test_preds"
   ]
  },
  {
   "cell_type": "code",
   "execution_count": 55,
   "id": "1b0b6a3b-f50a-47f4-88fe-88d20471517f",
   "metadata": {},
   "outputs": [
    {
     "data": {
      "image/png": "[encoded data removed]",
      "text/plain": [
       "<Figure size 720x504 with 1 Axes>"
      ]
     },
     "metadata": {
      "needs_background": "light"
     },
     "output_type": "display_data"
    }
   ],
   "source": [
    "# plot model 3 single step predictions vs actual values\n",
    "fig, ax = plt.subplots(figsize=(10,7))\n",
    "\n",
    "ax.yaxis.get_major_formatter().set_scientific(False)\n",
    "plt.title('Model 3 y_test Values vs Predictions')\n",
    "plt.plot(inv_y_test,label=\"Actual\")\n",
    "plt.plot(inv_test_preds,label=\"Predicted\")\n",
    "plt.xlabel('Timesteps')\n",
    "plt.ylabel('Number of Vaccinations')\n",
    "plt.legend()\n",
    "plt.show()"
   ]
  },
  {
   "cell_type": "code",
   "execution_count": 56,
   "id": "dcb4d316-0985-48be-8af0-60b3eb4d0557",
   "metadata": {},
   "outputs": [
    {
     "name": "stdout",
     "output_type": "stream",
     "text": [
      "RMSE: 138232.55525123465\n"
     ]
    }
   ],
   "source": [
    "# calculate rmse of y_test actual and single step model 3 predicted values\n",
    "rmse = sqrt(mean_squared_error(inv_y_test, inv_test_preds))\n",
    "print(F'RMSE: {rmse}')"
   ]
  },
  {
   "cell_type": "code",
   "execution_count": 57,
   "id": "ddc63b7e-aa44-4b1a-be8d-c88f2ca78023",
   "metadata": {},
   "outputs": [
    {
     "name": "stdout",
     "output_type": "stream",
     "text": [
      "MAPE percentage: 1.46%\n"
     ]
    }
   ],
   "source": [
    "# calculate MAPE of y_test values and one step model 3 predicted values\n",
    "os_mape = mape(inv_y_test, inv_test_preds)\n",
    "print(F'MAPE percentage: {round(os_mape, 2)}%')"
   ]
  },
  {
   "cell_type": "markdown",
   "id": "358a156b-3008-430d-9e38-2adfd80c4346",
   "metadata": {},
   "source": [
    "#### Recursive Multi-step Forecasting"
   ]
  },
  {
   "cell_type": "code",
   "execution_count": 58,
   "id": "8c43b824-8a78-4f3a-a023-558dde9c00e4",
   "metadata": {},
   "outputs": [
    {
     "name": "stdout",
     "output_type": "stream",
     "text": [
      "1/1 [==============================] - 0s 20ms/step\n",
      "1/1 [==============================] - 0s 21ms/step\n",
      "1/1 [==============================] - 0s 18ms/step\n",
      "1/1 [==============================] - 0s 22ms/step\n",
      "1/1 [==============================] - 0s 22ms/step\n",
      "1/1 [==============================] - 0s 19ms/step\n",
      "1/1 [==============================] - 0s 16ms/step\n"
     ]
    }
   ],
   "source": [
    "# create empty predicitions list\n",
    "test_predictions = []\n",
    "\n",
    "# select last n_input values from the train data\n",
    "n_input = 1\n",
    "n_features = 1\n",
    "\n",
    "# reshape the data into LSTM required (#batch,#timesteps,#features)\n",
    "# h/t stackoverflow\n",
    "first_eval_batch = X_test[0]\n",
    "current_batch = first_eval_batch.reshape((1, n_input, n_features))\n",
    "\n",
    "for i in range(len(X_test)):\n",
    "# get prediction, grab the exact number using the [0]\n",
    "    current_pred = model.predict(current_batch)[0]\n",
    "# add this prediction to the list\n",
    "    test_predictions.append(current_pred)\n",
    "# update the (#batch,#timesteps,#features) using np.append\n",
    "    current_batch = np.append(current_batch[:,1:,:],[[current_pred]], axis= 1)"
   ]
  },
  {
   "cell_type": "code",
   "execution_count": 59,
   "id": "2b9ae4c6-d54c-4621-854e-b695f5e374c1",
   "metadata": {},
   "outputs": [
    {
     "data": {
      "text/plain": [
       "array([[9314809.1269021 ],\n",
       "       [9199523.3717652 ],\n",
       "       [9091533.8981818 ],\n",
       "       [8990334.53898478],\n",
       "       [8895462.54416901],\n",
       "       [8806491.43629509],\n",
       "       [8723027.71298337]])"
      ]
     },
     "execution_count": 59,
     "metadata": {},
     "output_type": "execute_result"
    }
   ],
   "source": [
    "# inverse transform normalized multi-step predictions to actual predictions\n",
    "inv_preds = scaler.inverse_transform(test_predictions)\n",
    "inv_preds"
   ]
  },
  {
   "cell_type": "code",
   "execution_count": 60,
   "id": "7196458d-ed5c-4a95-9436-1be491739d16",
   "metadata": {},
   "outputs": [
    {
     "data": {
      "image/png": "[encoded data removed]",
      "text/plain": [
       "<Figure size 720x504 with 1 Axes>"
      ]
     },
     "metadata": {
      "needs_background": "light"
     },
     "output_type": "display_data"
    }
   ],
   "source": [
    "# plot model 3 recursive predictions vs actual values\n",
    "fig, ax = plt.subplots(figsize=(10,7))\n",
    "\n",
    "ax.yaxis.get_major_formatter().set_scientific(False)\n",
    "plt.title('Model 3 y_test Values vs Multi-step Predictions')\n",
    "plt.plot(inv_y_test,label=\"Actual\")\n",
    "plt.plot(inv_preds,label=\"Predicted\")\n",
    "plt.xlabel('Timesteps')\n",
    "plt.ylabel('Number of Vaccinations')\n",
    "plt.legend()\n",
    "plt.show()"
   ]
  },
  {
   "cell_type": "code",
   "execution_count": 61,
   "id": "686a09ac-dc2e-4be5-ac40-0ff82279fad6",
   "metadata": {},
   "outputs": [
    {
     "name": "stdout",
     "output_type": "stream",
     "text": [
      "RMSE: 532559.4045037514\n"
     ]
    }
   ],
   "source": [
    "# calculate rmse of y_test actual values and recursive model 3 predicted values\n",
    "rmse = sqrt(mean_squared_error(inv_y_test, inv_preds))\n",
    "print(F'RMSE: {rmse}')"
   ]
  },
  {
   "cell_type": "code",
   "execution_count": 62,
   "id": "84aa3a1c-322c-452b-b4b5-82db06db4661",
   "metadata": {},
   "outputs": [
    {
     "name": "stdout",
     "output_type": "stream",
     "text": [
      "MAPE percentage: 5.09%\n"
     ]
    }
   ],
   "source": [
    "# calculate MAPE of y_test values and recursive model 3 predicted values\n",
    "rec_mape = mape(inv_y_test, inv_preds)\n",
    "print(F'MAPE percentage: {round(rec_mape, 2)}%')"
   ]
  },
  {
   "cell_type": "markdown",
   "id": "86760c6b-11a6-4836-aeba-bf300d7cd6ee",
   "metadata": {},
   "source": [
    "### Utilize Production Model to Evaluate Distribution of RMSE Scores\n",
    "\n",
    "Although seeds were initially set and reset in order to preserve reproducibility, repeat experiments will yield a distribution of different results due to the randomness of the initial weights when running keras models.\n",
    "\n",
    "Model 1 had promising results, let's check what the distribution of RMSE scores for recursive multi-step forecasting are when the model is run 30 times!"
   ]
  },
  {
   "cell_type": "code",
   "execution_count": 63,
   "id": "7b8a589b-21c4-473d-9cd7-e0bcf7d17e2c",
   "metadata": {},
   "outputs": [],
   "source": [
    "# reset seeds to preserve reproducability\n",
    "reset_seeds()"
   ]
  },
  {
   "cell_type": "code",
   "execution_count": 64,
   "id": "6ee894e3-26a7-430e-af18-c8553604f07b",
   "metadata": {},
   "outputs": [
    {
     "data": {
      "text/plain": [
       "{'epochs': 50, 'hidden_neurons': 8, 'learning_rate': 0.0005}"
      ]
     },
     "execution_count": 64,
     "metadata": {},
     "output_type": "execute_result"
    }
   ],
   "source": [
    "# view model 1 parameters\n",
    "gs_1"
   ]
  },
  {
   "cell_type": "code",
   "execution_count": 65,
   "id": "0b068d45-b905-401d-8579-24e5743785f6",
   "metadata": {},
   "outputs": [],
   "source": [
    "# create RNN function\n",
    "def fit_prod_lstm(X, y, neurons, learning_rate):\n",
    "    model = Sequential()\n",
    "    model.add(LSTM(neurons, input_shape=input_shape))\n",
    "    model.add(Dense(1))\n",
    "    model.compile(loss='mse', optimizer=Adam(lr=learning_rate), metrics=['mae'])\n",
    "    \n",
    "    model.fit(X, y, epochs=50, verbose=0, shuffle=False, batch_size=1)\n",
    "    \n",
    "    return model"
   ]
  },
  {
   "cell_type": "code",
   "execution_count": 66,
   "id": "4cff65d6-c921-4b03-830e-a590e76ee5dd",
   "metadata": {
    "collapsed": true,
    "jupyter": {
     "outputs_hidden": true
    },
    "tags": []
   },
   "outputs": [
    {
     "name": "stderr",
     "output_type": "stream",
     "text": [
      "/Users/ericrodriguez/opt/anaconda3/lib/python3.8/site-packages/keras/optimizers/optimizer_v2/adam.py:110: UserWarning: The `lr` argument is deprecated, use `learning_rate` instead.\n",
      "  super(Adam, self).__init__(name, **kwargs)\n"
     ]
    },
    {
     "name": "stdout",
     "output_type": "stream",
     "text": [
      "1/1 [==============================] - 0s 341ms/step\n",
      "1/1 [==============================] - 0s 35ms/step\n",
      "1/1 [==============================] - 0s 26ms/step\n",
      "1/1 [==============================] - 0s 20ms/step\n",
      "1/1 [==============================] - 0s 22ms/step\n",
      "1/1 [==============================] - 0s 26ms/step\n",
      "1/1 [==============================] - 0s 25ms/step\n",
      "1) Test RMSE: 13999.359\n"
     ]
    },
    {
     "name": "stderr",
     "output_type": "stream",
     "text": [
      "/Users/ericrodriguez/opt/anaconda3/lib/python3.8/site-packages/keras/optimizers/optimizer_v2/adam.py:110: UserWarning: The `lr` argument is deprecated, use `learning_rate` instead.\n",
      "  super(Adam, self).__init__(name, **kwargs)\n"
     ]
    },
    {
     "name": "stdout",
     "output_type": "stream",
     "text": [
      "1/1 [==============================] - 0s 403ms/step\n",
      "1/1 [==============================] - 0s 20ms/step\n",
      "1/1 [==============================] - 0s 21ms/step\n",
      "1/1 [==============================] - 0s 22ms/step\n",
      "1/1 [==============================] - 0s 22ms/step\n",
      "1/1 [==============================] - 0s 23ms/step\n",
      "1/1 [==============================] - 0s 20ms/step\n",
      "2) Test RMSE: 15458.468\n"
     ]
    },
    {
     "name": "stderr",
     "output_type": "stream",
     "text": [
      "/Users/ericrodriguez/opt/anaconda3/lib/python3.8/site-packages/keras/optimizers/optimizer_v2/adam.py:110: UserWarning: The `lr` argument is deprecated, use `learning_rate` instead.\n",
      "  super(Adam, self).__init__(name, **kwargs)\n"
     ]
    },
    {
     "name": "stdout",
     "output_type": "stream",
     "text": [
      "1/1 [==============================] - 0s 432ms/step\n",
      "1/1 [==============================] - 0s 30ms/step\n",
      "1/1 [==============================] - 0s 32ms/step\n",
      "1/1 [==============================] - 0s 30ms/step\n",
      "1/1 [==============================] - 0s 17ms/step\n",
      "1/1 [==============================] - 0s 19ms/step\n",
      "1/1 [==============================] - 0s 18ms/step\n",
      "3) Test RMSE: 18006.004\n"
     ]
    },
    {
     "name": "stderr",
     "output_type": "stream",
     "text": [
      "/Users/ericrodriguez/opt/anaconda3/lib/python3.8/site-packages/keras/optimizers/optimizer_v2/adam.py:110: UserWarning: The `lr` argument is deprecated, use `learning_rate` instead.\n",
      "  super(Adam, self).__init__(name, **kwargs)\n"
     ]
    },
    {
     "name": "stdout",
     "output_type": "stream",
     "text": [
      "1/1 [==============================] - 0s 315ms/step\n",
      "1/1 [==============================] - 0s 15ms/step\n",
      "1/1 [==============================] - 0s 17ms/step\n",
      "1/1 [==============================] - 0s 20ms/step\n",
      "1/1 [==============================] - 0s 22ms/step\n",
      "1/1 [==============================] - 0s 18ms/step\n",
      "1/1 [==============================] - 0s 17ms/step\n",
      "4) Test RMSE: 18823.614\n"
     ]
    },
    {
     "name": "stderr",
     "output_type": "stream",
     "text": [
      "/Users/ericrodriguez/opt/anaconda3/lib/python3.8/site-packages/keras/optimizers/optimizer_v2/adam.py:110: UserWarning: The `lr` argument is deprecated, use `learning_rate` instead.\n",
      "  super(Adam, self).__init__(name, **kwargs)\n"
     ]
    },
    {
     "name": "stdout",
     "output_type": "stream",
     "text": [
      "1/1 [==============================] - 1s 510ms/step\n",
      "1/1 [==============================] - 0s 16ms/step\n",
      "1/1 [==============================] - 0s 21ms/step\n",
      "1/1 [==============================] - 0s 20ms/step\n",
      "1/1 [==============================] - 0s 18ms/step\n",
      "1/1 [==============================] - 0s 17ms/step\n",
      "1/1 [==============================] - 0s 17ms/step\n",
      "5) Test RMSE: 15815.522\n"
     ]
    },
    {
     "name": "stderr",
     "output_type": "stream",
     "text": [
      "/Users/ericrodriguez/opt/anaconda3/lib/python3.8/site-packages/keras/optimizers/optimizer_v2/adam.py:110: UserWarning: The `lr` argument is deprecated, use `learning_rate` instead.\n",
      "  super(Adam, self).__init__(name, **kwargs)\n"
     ]
    },
    {
     "name": "stdout",
     "output_type": "stream",
     "text": [
      "1/1 [==============================] - 0s 361ms/step\n",
      "1/1 [==============================] - 0s 21ms/step\n",
      "1/1 [==============================] - 0s 18ms/step\n",
      "1/1 [==============================] - 0s 28ms/step\n",
      "1/1 [==============================] - 0s 18ms/step\n",
      "1/1 [==============================] - 0s 20ms/step\n",
      "1/1 [==============================] - 0s 20ms/step\n",
      "6) Test RMSE: 18370.318\n"
     ]
    },
    {
     "name": "stderr",
     "output_type": "stream",
     "text": [
      "/Users/ericrodriguez/opt/anaconda3/lib/python3.8/site-packages/keras/optimizers/optimizer_v2/adam.py:110: UserWarning: The `lr` argument is deprecated, use `learning_rate` instead.\n",
      "  super(Adam, self).__init__(name, **kwargs)\n"
     ]
    },
    {
     "name": "stdout",
     "output_type": "stream",
     "text": [
      "1/1 [==============================] - 1s 524ms/step\n",
      "1/1 [==============================] - 0s 21ms/step\n",
      "1/1 [==============================] - 0s 26ms/step\n",
      "1/1 [==============================] - 0s 21ms/step\n",
      "1/1 [==============================] - 0s 19ms/step\n",
      "1/1 [==============================] - 0s 18ms/step\n",
      "1/1 [==============================] - 0s 25ms/step\n",
      "7) Test RMSE: 16594.359\n"
     ]
    },
    {
     "name": "stderr",
     "output_type": "stream",
     "text": [
      "/Users/ericrodriguez/opt/anaconda3/lib/python3.8/site-packages/keras/optimizers/optimizer_v2/adam.py:110: UserWarning: The `lr` argument is deprecated, use `learning_rate` instead.\n",
      "  super(Adam, self).__init__(name, **kwargs)\n"
     ]
    },
    {
     "name": "stdout",
     "output_type": "stream",
     "text": [
      "1/1 [==============================] - 0s 492ms/step\n",
      "1/1 [==============================] - 0s 24ms/step\n",
      "1/1 [==============================] - 0s 42ms/step\n",
      "1/1 [==============================] - 0s 21ms/step\n",
      "1/1 [==============================] - 0s 18ms/step\n",
      "1/1 [==============================] - 0s 16ms/step\n",
      "1/1 [==============================] - 0s 17ms/step\n",
      "8) Test RMSE: 13934.959\n"
     ]
    },
    {
     "name": "stderr",
     "output_type": "stream",
     "text": [
      "/Users/ericrodriguez/opt/anaconda3/lib/python3.8/site-packages/keras/optimizers/optimizer_v2/adam.py:110: UserWarning: The `lr` argument is deprecated, use `learning_rate` instead.\n",
      "  super(Adam, self).__init__(name, **kwargs)\n"
     ]
    },
    {
     "name": "stdout",
     "output_type": "stream",
     "text": [
      "1/1 [==============================] - 0s 366ms/step\n",
      "1/1 [==============================] - 0s 20ms/step\n",
      "1/1 [==============================] - 0s 17ms/step\n",
      "1/1 [==============================] - 0s 18ms/step\n",
      "1/1 [==============================] - 0s 18ms/step\n",
      "1/1 [==============================] - 0s 21ms/step\n",
      "1/1 [==============================] - 0s 17ms/step\n",
      "9) Test RMSE: 14933.350\n"
     ]
    },
    {
     "name": "stderr",
     "output_type": "stream",
     "text": [
      "/Users/ericrodriguez/opt/anaconda3/lib/python3.8/site-packages/keras/optimizers/optimizer_v2/adam.py:110: UserWarning: The `lr` argument is deprecated, use `learning_rate` instead.\n",
      "  super(Adam, self).__init__(name, **kwargs)\n"
     ]
    },
    {
     "name": "stdout",
     "output_type": "stream",
     "text": [
      "1/1 [==============================] - 0s 311ms/step\n",
      "1/1 [==============================] - 0s 17ms/step\n",
      "1/1 [==============================] - 0s 18ms/step\n",
      "1/1 [==============================] - 0s 18ms/step\n",
      "1/1 [==============================] - 0s 16ms/step\n",
      "1/1 [==============================] - 0s 17ms/step\n",
      "1/1 [==============================] - 0s 16ms/step\n",
      "10) Test RMSE: 12116.393\n"
     ]
    },
    {
     "name": "stderr",
     "output_type": "stream",
     "text": [
      "/Users/ericrodriguez/opt/anaconda3/lib/python3.8/site-packages/keras/optimizers/optimizer_v2/adam.py:110: UserWarning: The `lr` argument is deprecated, use `learning_rate` instead.\n",
      "  super(Adam, self).__init__(name, **kwargs)\n"
     ]
    },
    {
     "name": "stdout",
     "output_type": "stream",
     "text": [
      "1/1 [==============================] - 1s 660ms/step\n",
      "1/1 [==============================] - 0s 16ms/step\n",
      "1/1 [==============================] - 0s 17ms/step\n",
      "1/1 [==============================] - 0s 17ms/step\n",
      "1/1 [==============================] - 0s 17ms/step\n",
      "1/1 [==============================] - 0s 16ms/step\n",
      "1/1 [==============================] - 0s 17ms/step\n",
      "11) Test RMSE: 19363.472\n"
     ]
    },
    {
     "name": "stderr",
     "output_type": "stream",
     "text": [
      "/Users/ericrodriguez/opt/anaconda3/lib/python3.8/site-packages/keras/optimizers/optimizer_v2/adam.py:110: UserWarning: The `lr` argument is deprecated, use `learning_rate` instead.\n",
      "  super(Adam, self).__init__(name, **kwargs)\n"
     ]
    },
    {
     "name": "stdout",
     "output_type": "stream",
     "text": [
      "1/1 [==============================] - 0s 427ms/step\n",
      "1/1 [==============================] - 0s 17ms/step\n",
      "1/1 [==============================] - 0s 24ms/step\n",
      "1/1 [==============================] - 0s 19ms/step\n",
      "1/1 [==============================] - 0s 20ms/step\n",
      "1/1 [==============================] - 0s 17ms/step\n",
      "1/1 [==============================] - 0s 21ms/step\n",
      "12) Test RMSE: 13475.983\n"
     ]
    },
    {
     "name": "stderr",
     "output_type": "stream",
     "text": [
      "/Users/ericrodriguez/opt/anaconda3/lib/python3.8/site-packages/keras/optimizers/optimizer_v2/adam.py:110: UserWarning: The `lr` argument is deprecated, use `learning_rate` instead.\n",
      "  super(Adam, self).__init__(name, **kwargs)\n"
     ]
    },
    {
     "name": "stdout",
     "output_type": "stream",
     "text": [
      "1/1 [==============================] - 0s 341ms/step\n",
      "1/1 [==============================] - 0s 22ms/step\n",
      "1/1 [==============================] - 0s 23ms/step\n",
      "1/1 [==============================] - 0s 21ms/step\n",
      "1/1 [==============================] - 0s 21ms/step\n",
      "1/1 [==============================] - 0s 19ms/step\n",
      "1/1 [==============================] - 0s 21ms/step\n",
      "13) Test RMSE: 18167.553\n"
     ]
    },
    {
     "name": "stderr",
     "output_type": "stream",
     "text": [
      "/Users/ericrodriguez/opt/anaconda3/lib/python3.8/site-packages/keras/optimizers/optimizer_v2/adam.py:110: UserWarning: The `lr` argument is deprecated, use `learning_rate` instead.\n",
      "  super(Adam, self).__init__(name, **kwargs)\n"
     ]
    },
    {
     "name": "stdout",
     "output_type": "stream",
     "text": [
      "1/1 [==============================] - 1s 624ms/step\n",
      "1/1 [==============================] - 0s 17ms/step\n",
      "1/1 [==============================] - 0s 17ms/step\n",
      "1/1 [==============================] - 0s 18ms/step\n",
      "1/1 [==============================] - 0s 20ms/step\n",
      "1/1 [==============================] - 0s 32ms/step\n",
      "1/1 [==============================] - 0s 44ms/step\n",
      "14) Test RMSE: 14703.070\n"
     ]
    },
    {
     "name": "stderr",
     "output_type": "stream",
     "text": [
      "/Users/ericrodriguez/opt/anaconda3/lib/python3.8/site-packages/keras/optimizers/optimizer_v2/adam.py:110: UserWarning: The `lr` argument is deprecated, use `learning_rate` instead.\n",
      "  super(Adam, self).__init__(name, **kwargs)\n"
     ]
    },
    {
     "name": "stdout",
     "output_type": "stream",
     "text": [
      "1/1 [==============================] - 0s 306ms/step\n",
      "1/1 [==============================] - 0s 22ms/step\n",
      "1/1 [==============================] - 0s 18ms/step\n",
      "1/1 [==============================] - 0s 18ms/step\n",
      "1/1 [==============================] - 0s 18ms/step\n",
      "1/1 [==============================] - 0s 23ms/step\n",
      "1/1 [==============================] - 0s 17ms/step\n",
      "15) Test RMSE: 8366.281\n"
     ]
    },
    {
     "name": "stderr",
     "output_type": "stream",
     "text": [
      "/Users/ericrodriguez/opt/anaconda3/lib/python3.8/site-packages/keras/optimizers/optimizer_v2/adam.py:110: UserWarning: The `lr` argument is deprecated, use `learning_rate` instead.\n",
      "  super(Adam, self).__init__(name, **kwargs)\n"
     ]
    },
    {
     "name": "stdout",
     "output_type": "stream",
     "text": [
      "1/1 [==============================] - 0s 369ms/step\n",
      "1/1 [==============================] - 0s 25ms/step\n",
      "1/1 [==============================] - 0s 21ms/step\n",
      "1/1 [==============================] - 0s 22ms/step\n",
      "1/1 [==============================] - 0s 20ms/step\n",
      "1/1 [==============================] - 0s 20ms/step\n",
      "1/1 [==============================] - 0s 19ms/step\n",
      "16) Test RMSE: 15233.448\n"
     ]
    },
    {
     "name": "stderr",
     "output_type": "stream",
     "text": [
      "/Users/ericrodriguez/opt/anaconda3/lib/python3.8/site-packages/keras/optimizers/optimizer_v2/adam.py:110: UserWarning: The `lr` argument is deprecated, use `learning_rate` instead.\n",
      "  super(Adam, self).__init__(name, **kwargs)\n"
     ]
    },
    {
     "name": "stdout",
     "output_type": "stream",
     "text": [
      "1/1 [==============================] - 0s 405ms/step\n",
      "1/1 [==============================] - 0s 15ms/step\n",
      "1/1 [==============================] - 0s 28ms/step\n",
      "1/1 [==============================] - 0s 23ms/step\n",
      "1/1 [==============================] - 0s 19ms/step\n",
      "1/1 [==============================] - 0s 17ms/step\n",
      "1/1 [==============================] - 0s 19ms/step\n",
      "17) Test RMSE: 14565.629\n"
     ]
    },
    {
     "name": "stderr",
     "output_type": "stream",
     "text": [
      "/Users/ericrodriguez/opt/anaconda3/lib/python3.8/site-packages/keras/optimizers/optimizer_v2/adam.py:110: UserWarning: The `lr` argument is deprecated, use `learning_rate` instead.\n",
      "  super(Adam, self).__init__(name, **kwargs)\n"
     ]
    },
    {
     "name": "stdout",
     "output_type": "stream",
     "text": [
      "1/1 [==============================] - 0s 336ms/step\n",
      "1/1 [==============================] - 0s 23ms/step\n",
      "1/1 [==============================] - 0s 20ms/step\n",
      "1/1 [==============================] - 0s 22ms/step\n",
      "1/1 [==============================] - 0s 18ms/step\n",
      "1/1 [==============================] - 0s 19ms/step\n",
      "1/1 [==============================] - 0s 19ms/step\n",
      "18) Test RMSE: 15607.505\n"
     ]
    },
    {
     "name": "stderr",
     "output_type": "stream",
     "text": [
      "/Users/ericrodriguez/opt/anaconda3/lib/python3.8/site-packages/keras/optimizers/optimizer_v2/adam.py:110: UserWarning: The `lr` argument is deprecated, use `learning_rate` instead.\n",
      "  super(Adam, self).__init__(name, **kwargs)\n"
     ]
    },
    {
     "name": "stdout",
     "output_type": "stream",
     "text": [
      "1/1 [==============================] - 0s 312ms/step\n",
      "1/1 [==============================] - 0s 21ms/step\n",
      "1/1 [==============================] - 0s 22ms/step\n",
      "1/1 [==============================] - 0s 18ms/step\n",
      "1/1 [==============================] - 0s 18ms/step\n",
      "1/1 [==============================] - 0s 21ms/step\n",
      "1/1 [==============================] - 0s 18ms/step\n",
      "19) Test RMSE: 18013.245\n"
     ]
    },
    {
     "name": "stderr",
     "output_type": "stream",
     "text": [
      "/Users/ericrodriguez/opt/anaconda3/lib/python3.8/site-packages/keras/optimizers/optimizer_v2/adam.py:110: UserWarning: The `lr` argument is deprecated, use `learning_rate` instead.\n",
      "  super(Adam, self).__init__(name, **kwargs)\n"
     ]
    },
    {
     "name": "stdout",
     "output_type": "stream",
     "text": [
      "1/1 [==============================] - 0s 324ms/step\n",
      "1/1 [==============================] - 0s 17ms/step\n",
      "1/1 [==============================] - 0s 19ms/step\n",
      "1/1 [==============================] - 0s 20ms/step\n",
      "1/1 [==============================] - 0s 19ms/step\n",
      "1/1 [==============================] - 0s 18ms/step\n",
      "1/1 [==============================] - 0s 16ms/step\n",
      "20) Test RMSE: 12505.320\n"
     ]
    },
    {
     "name": "stderr",
     "output_type": "stream",
     "text": [
      "/Users/ericrodriguez/opt/anaconda3/lib/python3.8/site-packages/keras/optimizers/optimizer_v2/adam.py:110: UserWarning: The `lr` argument is deprecated, use `learning_rate` instead.\n",
      "  super(Adam, self).__init__(name, **kwargs)\n"
     ]
    },
    {
     "name": "stdout",
     "output_type": "stream",
     "text": [
      "1/1 [==============================] - 0s 334ms/step\n",
      "1/1 [==============================] - 0s 18ms/step\n",
      "1/1 [==============================] - 0s 21ms/step\n",
      "1/1 [==============================] - 0s 19ms/step\n",
      "1/1 [==============================] - 0s 20ms/step\n",
      "1/1 [==============================] - 0s 18ms/step\n",
      "1/1 [==============================] - 0s 19ms/step\n",
      "21) Test RMSE: 13882.206\n"
     ]
    },
    {
     "name": "stderr",
     "output_type": "stream",
     "text": [
      "/Users/ericrodriguez/opt/anaconda3/lib/python3.8/site-packages/keras/optimizers/optimizer_v2/adam.py:110: UserWarning: The `lr` argument is deprecated, use `learning_rate` instead.\n",
      "  super(Adam, self).__init__(name, **kwargs)\n"
     ]
    },
    {
     "name": "stdout",
     "output_type": "stream",
     "text": [
      "1/1 [==============================] - 0s 367ms/step\n",
      "1/1 [==============================] - 0s 20ms/step\n",
      "1/1 [==============================] - 0s 17ms/step\n",
      "1/1 [==============================] - 0s 19ms/step\n",
      "1/1 [==============================] - 0s 18ms/step\n",
      "1/1 [==============================] - 0s 19ms/step\n",
      "1/1 [==============================] - 0s 20ms/step\n",
      "22) Test RMSE: 20011.661\n"
     ]
    },
    {
     "name": "stderr",
     "output_type": "stream",
     "text": [
      "/Users/ericrodriguez/opt/anaconda3/lib/python3.8/site-packages/keras/optimizers/optimizer_v2/adam.py:110: UserWarning: The `lr` argument is deprecated, use `learning_rate` instead.\n",
      "  super(Adam, self).__init__(name, **kwargs)\n"
     ]
    },
    {
     "name": "stdout",
     "output_type": "stream",
     "text": [
      "1/1 [==============================] - 0s 305ms/step\n",
      "1/1 [==============================] - 0s 19ms/step\n",
      "1/1 [==============================] - 0s 20ms/step\n",
      "1/1 [==============================] - 0s 19ms/step\n",
      "1/1 [==============================] - 0s 20ms/step\n",
      "1/1 [==============================] - 0s 20ms/step\n",
      "1/1 [==============================] - 0s 19ms/step\n",
      "23) Test RMSE: 14642.363\n"
     ]
    },
    {
     "name": "stderr",
     "output_type": "stream",
     "text": [
      "/Users/ericrodriguez/opt/anaconda3/lib/python3.8/site-packages/keras/optimizers/optimizer_v2/adam.py:110: UserWarning: The `lr` argument is deprecated, use `learning_rate` instead.\n",
      "  super(Adam, self).__init__(name, **kwargs)\n"
     ]
    },
    {
     "name": "stdout",
     "output_type": "stream",
     "text": [
      "1/1 [==============================] - 1s 522ms/step\n",
      "1/1 [==============================] - 0s 19ms/step\n",
      "1/1 [==============================] - 0s 20ms/step\n",
      "1/1 [==============================] - 0s 23ms/step\n",
      "1/1 [==============================] - 0s 20ms/step\n",
      "1/1 [==============================] - 0s 18ms/step\n",
      "1/1 [==============================] - 0s 18ms/step\n",
      "24) Test RMSE: 16807.517\n"
     ]
    },
    {
     "name": "stderr",
     "output_type": "stream",
     "text": [
      "/Users/ericrodriguez/opt/anaconda3/lib/python3.8/site-packages/keras/optimizers/optimizer_v2/adam.py:110: UserWarning: The `lr` argument is deprecated, use `learning_rate` instead.\n",
      "  super(Adam, self).__init__(name, **kwargs)\n"
     ]
    },
    {
     "name": "stdout",
     "output_type": "stream",
     "text": [
      "1/1 [==============================] - 0s 365ms/step\n",
      "1/1 [==============================] - 0s 19ms/step\n",
      "1/1 [==============================] - 0s 19ms/step\n",
      "1/1 [==============================] - 0s 20ms/step\n",
      "1/1 [==============================] - 0s 19ms/step\n",
      "1/1 [==============================] - 0s 18ms/step\n",
      "1/1 [==============================] - 0s 18ms/step\n",
      "25) Test RMSE: 17265.859\n"
     ]
    },
    {
     "name": "stderr",
     "output_type": "stream",
     "text": [
      "/Users/ericrodriguez/opt/anaconda3/lib/python3.8/site-packages/keras/optimizers/optimizer_v2/adam.py:110: UserWarning: The `lr` argument is deprecated, use `learning_rate` instead.\n",
      "  super(Adam, self).__init__(name, **kwargs)\n"
     ]
    },
    {
     "name": "stdout",
     "output_type": "stream",
     "text": [
      "1/1 [==============================] - 0s 311ms/step\n",
      "1/1 [==============================] - 0s 13ms/step\n",
      "1/1 [==============================] - 0s 14ms/step\n",
      "1/1 [==============================] - 0s 14ms/step\n",
      "1/1 [==============================] - 0s 16ms/step\n",
      "1/1 [==============================] - 0s 17ms/step\n",
      "1/1 [==============================] - 0s 16ms/step\n",
      "26) Test RMSE: 10909.058\n"
     ]
    },
    {
     "name": "stderr",
     "output_type": "stream",
     "text": [
      "/Users/ericrodriguez/opt/anaconda3/lib/python3.8/site-packages/keras/optimizers/optimizer_v2/adam.py:110: UserWarning: The `lr` argument is deprecated, use `learning_rate` instead.\n",
      "  super(Adam, self).__init__(name, **kwargs)\n"
     ]
    },
    {
     "name": "stdout",
     "output_type": "stream",
     "text": [
      "1/1 [==============================] - 0s 385ms/step\n",
      "1/1 [==============================] - 0s 15ms/step\n",
      "1/1 [==============================] - 0s 15ms/step\n",
      "1/1 [==============================] - 0s 14ms/step\n",
      "1/1 [==============================] - 0s 35ms/step\n",
      "1/1 [==============================] - 0s 18ms/step\n",
      "1/1 [==============================] - 0s 16ms/step\n",
      "27) Test RMSE: 19088.311\n"
     ]
    },
    {
     "name": "stderr",
     "output_type": "stream",
     "text": [
      "/Users/ericrodriguez/opt/anaconda3/lib/python3.8/site-packages/keras/optimizers/optimizer_v2/adam.py:110: UserWarning: The `lr` argument is deprecated, use `learning_rate` instead.\n",
      "  super(Adam, self).__init__(name, **kwargs)\n"
     ]
    },
    {
     "name": "stdout",
     "output_type": "stream",
     "text": [
      "1/1 [==============================] - 0s 332ms/step\n",
      "1/1 [==============================] - 0s 17ms/step\n",
      "1/1 [==============================] - 0s 14ms/step\n",
      "1/1 [==============================] - 0s 19ms/step\n",
      "1/1 [==============================] - 0s 16ms/step\n",
      "1/1 [==============================] - 0s 17ms/step\n",
      "1/1 [==============================] - 0s 15ms/step\n",
      "28) Test RMSE: 16351.531\n"
     ]
    },
    {
     "name": "stderr",
     "output_type": "stream",
     "text": [
      "/Users/ericrodriguez/opt/anaconda3/lib/python3.8/site-packages/keras/optimizers/optimizer_v2/adam.py:110: UserWarning: The `lr` argument is deprecated, use `learning_rate` instead.\n",
      "  super(Adam, self).__init__(name, **kwargs)\n"
     ]
    },
    {
     "name": "stdout",
     "output_type": "stream",
     "text": [
      "1/1 [==============================] - 0s 334ms/step\n",
      "1/1 [==============================] - 0s 14ms/step\n",
      "1/1 [==============================] - 0s 13ms/step\n",
      "1/1 [==============================] - 0s 14ms/step\n",
      "1/1 [==============================] - 0s 14ms/step\n",
      "1/1 [==============================] - 0s 15ms/step\n",
      "1/1 [==============================] - 0s 14ms/step\n",
      "29) Test RMSE: 17853.061\n"
     ]
    },
    {
     "name": "stderr",
     "output_type": "stream",
     "text": [
      "/Users/ericrodriguez/opt/anaconda3/lib/python3.8/site-packages/keras/optimizers/optimizer_v2/adam.py:110: UserWarning: The `lr` argument is deprecated, use `learning_rate` instead.\n",
      "  super(Adam, self).__init__(name, **kwargs)\n"
     ]
    },
    {
     "name": "stdout",
     "output_type": "stream",
     "text": [
      "1/1 [==============================] - 0s 353ms/step\n",
      "1/1 [==============================] - 0s 17ms/step\n",
      "1/1 [==============================] - 0s 17ms/step\n",
      "1/1 [==============================] - 0s 17ms/step\n",
      "1/1 [==============================] - 0s 15ms/step\n",
      "1/1 [==============================] - 0s 14ms/step\n",
      "1/1 [==============================] - 0s 14ms/step\n",
      "30) Test RMSE: 18790.663\n"
     ]
    }
   ],
   "source": [
    "# repeat experiment 30 times\n",
    "repeats = 30\n",
    "error_scores = list()\n",
    "for r in range(repeats):\n",
    "\t# fit the model\n",
    "    lstm_model = fit_prod_lstm(X_train, y_train, 8, 0.0005)\n",
    "    # Create empty predicitions list\n",
    "    test_predictions=[]\n",
    "    #Select last n_input values from the train data\n",
    "    n_input = 1\n",
    "    n_features = 1\n",
    "    #reshape the data into LSTM required (#batch,#timesteps,#features)\n",
    "    first_eval_batch = X_test[0]\n",
    "    current_batch = first_eval_batch.reshape((1, n_input, n_features))\n",
    "    for i in range(len(X_test)):\n",
    "    # get prediction, grab the exact number using the [0]\n",
    "        current_pred = lstm_model.predict(current_batch)[0]\n",
    "    # Add this prediction to the list\n",
    "        test_predictions.append(current_pred)\n",
    "    # Update the (#batch,#timesteps,#features) using np.append\n",
    "        current_batch = np.append(current_batch[:,1:,:],[[current_pred]], axis= 1)\n",
    "\t# report performance\n",
    "    inv_preds = scaler.inverse_transform(test_predictions)\n",
    "    rmse = sqrt(mean_squared_error(inv_y_test, inv_preds))\n",
    "    print('%d) Test RMSE: %.3f' % (r+1, rmse))\n",
    "    error_scores.append(rmse)"
   ]
  },
  {
   "cell_type": "code",
   "execution_count": 67,
   "id": "c2df350d-db59-4f4f-8f59-f2d1b6ff3b95",
   "metadata": {},
   "outputs": [
    {
     "name": "stdout",
     "output_type": "stream",
     "text": [
      "               rmse\n",
      "count     30.000000\n",
      "mean   15788.536060\n",
      "std     2718.523333\n",
      "min     8366.280653\n",
      "25%    14140.926512\n",
      "50%    15711.513365\n",
      "75%    18011.434928\n",
      "max    20011.660992\n"
     ]
    },
    {
     "data": {
      "image/png": "[encoded data removed]",
      "text/plain": [
       "<Figure size 432x288 with 1 Axes>"
      ]
     },
     "metadata": {
      "needs_background": "light"
     },
     "output_type": "display_data"
    }
   ],
   "source": [
    "# summarize results\n",
    "results = pd.DataFrame()\n",
    "results['rmse'] = error_scores\n",
    "print(results.describe())\n",
    "results.boxplot()\n",
    "plt.xlabel(\"Model 1 Experiments\")\n",
    "plt.ylabel(\"RMSE Score\")\n",
    "plt.title(\"Distribution of Repeat Model 1 Experiment RMSEs\")\n",
    "plt.show()"
   ]
  }
 ],
 "metadata": {
  "kernelspec": {
   "display_name": "Python 3 (ipykernel)",
   "language": "python",
   "name": "python3"
  },
  "language_info": {
   "codemirror_mode": {
    "name": "ipython",
    "version": 3
   },
   "file_extension": ".py",
   "mimetype": "text/x-python",
   "name": "python",
   "nbconvert_exporter": "python",
   "pygments_lexer": "ipython3",
   "version": "3.8.5"
  }
 },
 "nbformat": 4,
 "nbformat_minor": 5
}
