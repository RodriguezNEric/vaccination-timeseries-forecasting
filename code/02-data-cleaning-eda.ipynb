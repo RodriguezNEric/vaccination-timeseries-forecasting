{
 "cells": [
  {
   "cell_type": "markdown",
   "id": "326833e5-97db-498c-8edf-bea31f0e87d3",
   "metadata": {},
   "source": [
    "# COVID-19 Vaccine Forecasting\n",
    "\n",
    "## Part 2 - Data Cleaning"
   ]
  },
  {
   "cell_type": "code",
   "execution_count": 1,
   "id": "8d207af1-c304-459d-8699-4d1bcbafb1c9",
   "metadata": {},
   "outputs": [],
   "source": [
    "# Imports\n",
    "import pandas as pd\n",
    "import numpy as np\n",
    "import seaborn as sns\n",
    "import matplotlib.pyplot as plt\n",
    "\n",
    "from tensorflow.keras.utils import set_random_seed\n",
    "\n",
    "from statsmodels.graphics.tsaplots import plot_acf, plot_pacf\n",
    "from statsmodels.tsa.stattools import adfuller\n",
    "from statsmodels.tsa.seasonal import seasonal_decompose\n",
    "from statsmodels.tsa.vector_ar.vecm import coint_johansen\n",
    "\n",
    "import os\n",
    "import random"
   ]
  },
  {
   "cell_type": "code",
   "execution_count": 2,
   "id": "b7f02404-848e-43f3-904a-d719e636ed63",
   "metadata": {},
   "outputs": [],
   "source": [
    "# create function that sets OS `PYTHONHASHSEED` environment variable,\n",
    "# Python, NumPy, and TensorFlow seeds at a fixed value\n",
    "def reset_seeds():\n",
    "    os.environ['PYTHONHASHSEED']=str(42)\n",
    "    random.seed(42)\n",
    "    np.random.seed(42)\n",
    "    set_random_seed(42)\n",
    "\n",
    "reset_seeds()"
   ]
  },
  {
   "cell_type": "code",
   "execution_count": 3,
   "id": "5201e268-63b7-4f03-b541-5d70facbe2be",
   "metadata": {},
   "outputs": [],
   "source": [
    "# read in data into a pandas dataframe\n",
    "# for reproducibility, a CSV was saved of the data that was available at the time this project was completed\n",
    "df = pd.read_csv('../data/us_state_vaccinations_09_04_21.csv')"
   ]
  },
  {
   "cell_type": "code",
   "execution_count": 4,
   "id": "fbe02347-9510-4f61-b2f3-614cbeced862",
   "metadata": {
    "tags": []
   },
   "outputs": [
    {
     "data": {
      "text/html": [
       "<div>\n",
       "<style scoped>\n",
       "    .dataframe tbody tr th:only-of-type {\n",
       "        vertical-align: middle;\n",
       "    }\n",
       "\n",
       "    .dataframe tbody tr th {\n",
       "        vertical-align: top;\n",
       "    }\n",
       "\n",
       "    .dataframe thead th {\n",
       "        text-align: right;\n",
       "    }\n",
       "</style>\n",
       "<table border=\"1\" class=\"dataframe\">\n",
       "  <thead>\n",
       "    <tr style=\"text-align: right;\">\n",
       "      <th></th>\n",
       "      <th>date</th>\n",
       "      <th>location</th>\n",
       "      <th>total_vaccinations</th>\n",
       "      <th>total_distributed</th>\n",
       "      <th>people_vaccinated</th>\n",
       "      <th>people_fully_vaccinated_per_hundred</th>\n",
       "      <th>total_vaccinations_per_hundred</th>\n",
       "      <th>people_fully_vaccinated</th>\n",
       "      <th>people_vaccinated_per_hundred</th>\n",
       "      <th>distributed_per_hundred</th>\n",
       "      <th>daily_vaccinations_raw</th>\n",
       "      <th>daily_vaccinations</th>\n",
       "      <th>daily_vaccinations_per_million</th>\n",
       "      <th>share_doses_used</th>\n",
       "      <th>total_boosters</th>\n",
       "      <th>total_boosters_per_hundred</th>\n",
       "    </tr>\n",
       "  </thead>\n",
       "  <tbody>\n",
       "    <tr>\n",
       "      <th>0</th>\n",
       "      <td>2021-01-12</td>\n",
       "      <td>Alabama</td>\n",
       "      <td>78134.0</td>\n",
       "      <td>377025.0</td>\n",
       "      <td>70861.0</td>\n",
       "      <td>0.15</td>\n",
       "      <td>1.59</td>\n",
       "      <td>7270.0</td>\n",
       "      <td>1.45</td>\n",
       "      <td>7.69</td>\n",
       "      <td>NaN</td>\n",
       "      <td>NaN</td>\n",
       "      <td>NaN</td>\n",
       "      <td>0.207</td>\n",
       "      <td>NaN</td>\n",
       "      <td>NaN</td>\n",
       "    </tr>\n",
       "    <tr>\n",
       "      <th>1</th>\n",
       "      <td>2021-01-13</td>\n",
       "      <td>Alabama</td>\n",
       "      <td>84040.0</td>\n",
       "      <td>378975.0</td>\n",
       "      <td>74792.0</td>\n",
       "      <td>0.19</td>\n",
       "      <td>1.71</td>\n",
       "      <td>9245.0</td>\n",
       "      <td>1.53</td>\n",
       "      <td>7.73</td>\n",
       "      <td>5906.0</td>\n",
       "      <td>5906.0</td>\n",
       "      <td>1205.0</td>\n",
       "      <td>0.222</td>\n",
       "      <td>NaN</td>\n",
       "      <td>NaN</td>\n",
       "    </tr>\n",
       "    <tr>\n",
       "      <th>2</th>\n",
       "      <td>2021-01-14</td>\n",
       "      <td>Alabama</td>\n",
       "      <td>92300.0</td>\n",
       "      <td>435350.0</td>\n",
       "      <td>80480.0</td>\n",
       "      <td>NaN</td>\n",
       "      <td>1.88</td>\n",
       "      <td>NaN</td>\n",
       "      <td>1.64</td>\n",
       "      <td>8.88</td>\n",
       "      <td>8260.0</td>\n",
       "      <td>7083.0</td>\n",
       "      <td>1445.0</td>\n",
       "      <td>0.212</td>\n",
       "      <td>NaN</td>\n",
       "      <td>NaN</td>\n",
       "    </tr>\n",
       "    <tr>\n",
       "      <th>3</th>\n",
       "      <td>2021-01-15</td>\n",
       "      <td>Alabama</td>\n",
       "      <td>100567.0</td>\n",
       "      <td>444650.0</td>\n",
       "      <td>86956.0</td>\n",
       "      <td>0.28</td>\n",
       "      <td>2.05</td>\n",
       "      <td>13488.0</td>\n",
       "      <td>1.77</td>\n",
       "      <td>9.07</td>\n",
       "      <td>8267.0</td>\n",
       "      <td>7478.0</td>\n",
       "      <td>1525.0</td>\n",
       "      <td>0.226</td>\n",
       "      <td>NaN</td>\n",
       "      <td>NaN</td>\n",
       "    </tr>\n",
       "    <tr>\n",
       "      <th>4</th>\n",
       "      <td>2021-01-16</td>\n",
       "      <td>Alabama</td>\n",
       "      <td>NaN</td>\n",
       "      <td>NaN</td>\n",
       "      <td>NaN</td>\n",
       "      <td>NaN</td>\n",
       "      <td>NaN</td>\n",
       "      <td>NaN</td>\n",
       "      <td>NaN</td>\n",
       "      <td>NaN</td>\n",
       "      <td>NaN</td>\n",
       "      <td>7498.0</td>\n",
       "      <td>1529.0</td>\n",
       "      <td>NaN</td>\n",
       "      <td>NaN</td>\n",
       "      <td>NaN</td>\n",
       "    </tr>\n",
       "  </tbody>\n",
       "</table>\n",
       "</div>"
      ],
      "text/plain": [
       "         date location  total_vaccinations  total_distributed  \\\n",
       "0  2021-01-12  Alabama             78134.0           377025.0   \n",
       "1  2021-01-13  Alabama             84040.0           378975.0   \n",
       "2  2021-01-14  Alabama             92300.0           435350.0   \n",
       "3  2021-01-15  Alabama            100567.0           444650.0   \n",
       "4  2021-01-16  Alabama                 NaN                NaN   \n",
       "\n",
       "   people_vaccinated  people_fully_vaccinated_per_hundred  \\\n",
       "0            70861.0                                 0.15   \n",
       "1            74792.0                                 0.19   \n",
       "2            80480.0                                  NaN   \n",
       "3            86956.0                                 0.28   \n",
       "4                NaN                                  NaN   \n",
       "\n",
       "   total_vaccinations_per_hundred  people_fully_vaccinated  \\\n",
       "0                            1.59                   7270.0   \n",
       "1                            1.71                   9245.0   \n",
       "2                            1.88                      NaN   \n",
       "3                            2.05                  13488.0   \n",
       "4                             NaN                      NaN   \n",
       "\n",
       "   people_vaccinated_per_hundred  distributed_per_hundred  \\\n",
       "0                           1.45                     7.69   \n",
       "1                           1.53                     7.73   \n",
       "2                           1.64                     8.88   \n",
       "3                           1.77                     9.07   \n",
       "4                            NaN                      NaN   \n",
       "\n",
       "   daily_vaccinations_raw  daily_vaccinations  daily_vaccinations_per_million  \\\n",
       "0                     NaN                 NaN                             NaN   \n",
       "1                  5906.0              5906.0                          1205.0   \n",
       "2                  8260.0              7083.0                          1445.0   \n",
       "3                  8267.0              7478.0                          1525.0   \n",
       "4                     NaN              7498.0                          1529.0   \n",
       "\n",
       "   share_doses_used  total_boosters  total_boosters_per_hundred  \n",
       "0             0.207             NaN                         NaN  \n",
       "1             0.222             NaN                         NaN  \n",
       "2             0.212             NaN                         NaN  \n",
       "3             0.226             NaN                         NaN  \n",
       "4               NaN             NaN                         NaN  "
      ]
     },
     "execution_count": 4,
     "metadata": {},
     "output_type": "execute_result"
    }
   ],
   "source": [
    "# first look at the data\n",
    "df.head()"
   ]
  },
  {
   "cell_type": "code",
   "execution_count": 5,
   "id": "7e746524-d4b7-41f9-9311-98af25cd7b76",
   "metadata": {},
   "outputs": [
    {
     "data": {
      "text/html": [
       "<div>\n",
       "<style scoped>\n",
       "    .dataframe tbody tr th:only-of-type {\n",
       "        vertical-align: middle;\n",
       "    }\n",
       "\n",
       "    .dataframe tbody tr th {\n",
       "        vertical-align: top;\n",
       "    }\n",
       "\n",
       "    .dataframe thead th {\n",
       "        text-align: right;\n",
       "    }\n",
       "</style>\n",
       "<table border=\"1\" class=\"dataframe\">\n",
       "  <thead>\n",
       "    <tr style=\"text-align: right;\">\n",
       "      <th></th>\n",
       "      <th>daily_vaccinations</th>\n",
       "      <th>daily_vaccinations_per_million</th>\n",
       "      <th>daily_vaccinations_raw</th>\n",
       "      <th>date</th>\n",
       "      <th>distributed_per_hundred</th>\n",
       "      <th>location</th>\n",
       "      <th>people_fully_vaccinated</th>\n",
       "      <th>people_fully_vaccinated_per_hundred</th>\n",
       "      <th>people_vaccinated</th>\n",
       "      <th>people_vaccinated_per_hundred</th>\n",
       "      <th>share_doses_used</th>\n",
       "      <th>total_boosters</th>\n",
       "      <th>total_boosters_per_hundred</th>\n",
       "      <th>total_distributed</th>\n",
       "      <th>total_vaccinations</th>\n",
       "      <th>total_vaccinations_per_hundred</th>\n",
       "    </tr>\n",
       "    <tr>\n",
       "      <th>date</th>\n",
       "      <th></th>\n",
       "      <th></th>\n",
       "      <th></th>\n",
       "      <th></th>\n",
       "      <th></th>\n",
       "      <th></th>\n",
       "      <th></th>\n",
       "      <th></th>\n",
       "      <th></th>\n",
       "      <th></th>\n",
       "      <th></th>\n",
       "      <th></th>\n",
       "      <th></th>\n",
       "      <th></th>\n",
       "      <th></th>\n",
       "      <th></th>\n",
       "    </tr>\n",
       "  </thead>\n",
       "  <tbody>\n",
       "    <tr>\n",
       "      <th>2021-01-12</th>\n",
       "      <td>NaN</td>\n",
       "      <td>NaN</td>\n",
       "      <td>NaN</td>\n",
       "      <td>2021-01-12</td>\n",
       "      <td>7.69</td>\n",
       "      <td>Alabama</td>\n",
       "      <td>7270.0</td>\n",
       "      <td>0.15</td>\n",
       "      <td>70861.0</td>\n",
       "      <td>1.45</td>\n",
       "      <td>0.207</td>\n",
       "      <td>NaN</td>\n",
       "      <td>NaN</td>\n",
       "      <td>377025.0</td>\n",
       "      <td>78134.0</td>\n",
       "      <td>1.59</td>\n",
       "    </tr>\n",
       "    <tr>\n",
       "      <th>2021-01-13</th>\n",
       "      <td>5906.0</td>\n",
       "      <td>1205.0</td>\n",
       "      <td>5906.0</td>\n",
       "      <td>2021-01-13</td>\n",
       "      <td>7.73</td>\n",
       "      <td>Alabama</td>\n",
       "      <td>9245.0</td>\n",
       "      <td>0.19</td>\n",
       "      <td>74792.0</td>\n",
       "      <td>1.53</td>\n",
       "      <td>0.222</td>\n",
       "      <td>NaN</td>\n",
       "      <td>NaN</td>\n",
       "      <td>378975.0</td>\n",
       "      <td>84040.0</td>\n",
       "      <td>1.71</td>\n",
       "    </tr>\n",
       "    <tr>\n",
       "      <th>2021-01-14</th>\n",
       "      <td>7083.0</td>\n",
       "      <td>1445.0</td>\n",
       "      <td>8260.0</td>\n",
       "      <td>2021-01-14</td>\n",
       "      <td>8.88</td>\n",
       "      <td>Alabama</td>\n",
       "      <td>NaN</td>\n",
       "      <td>NaN</td>\n",
       "      <td>80480.0</td>\n",
       "      <td>1.64</td>\n",
       "      <td>0.212</td>\n",
       "      <td>NaN</td>\n",
       "      <td>NaN</td>\n",
       "      <td>435350.0</td>\n",
       "      <td>92300.0</td>\n",
       "      <td>1.88</td>\n",
       "    </tr>\n",
       "    <tr>\n",
       "      <th>2021-01-15</th>\n",
       "      <td>7478.0</td>\n",
       "      <td>1525.0</td>\n",
       "      <td>8267.0</td>\n",
       "      <td>2021-01-15</td>\n",
       "      <td>9.07</td>\n",
       "      <td>Alabama</td>\n",
       "      <td>13488.0</td>\n",
       "      <td>0.28</td>\n",
       "      <td>86956.0</td>\n",
       "      <td>1.77</td>\n",
       "      <td>0.226</td>\n",
       "      <td>NaN</td>\n",
       "      <td>NaN</td>\n",
       "      <td>444650.0</td>\n",
       "      <td>100567.0</td>\n",
       "      <td>2.05</td>\n",
       "    </tr>\n",
       "    <tr>\n",
       "      <th>2021-01-16</th>\n",
       "      <td>7498.0</td>\n",
       "      <td>1529.0</td>\n",
       "      <td>NaN</td>\n",
       "      <td>2021-01-16</td>\n",
       "      <td>NaN</td>\n",
       "      <td>Alabama</td>\n",
       "      <td>NaN</td>\n",
       "      <td>NaN</td>\n",
       "      <td>NaN</td>\n",
       "      <td>NaN</td>\n",
       "      <td>NaN</td>\n",
       "      <td>NaN</td>\n",
       "      <td>NaN</td>\n",
       "      <td>NaN</td>\n",
       "      <td>NaN</td>\n",
       "      <td>NaN</td>\n",
       "    </tr>\n",
       "  </tbody>\n",
       "</table>\n",
       "</div>"
      ],
      "text/plain": [
       "            daily_vaccinations  daily_vaccinations_per_million  \\\n",
       "date                                                             \n",
       "2021-01-12                 NaN                             NaN   \n",
       "2021-01-13              5906.0                          1205.0   \n",
       "2021-01-14              7083.0                          1445.0   \n",
       "2021-01-15              7478.0                          1525.0   \n",
       "2021-01-16              7498.0                          1529.0   \n",
       "\n",
       "            daily_vaccinations_raw        date  distributed_per_hundred  \\\n",
       "date                                                                      \n",
       "2021-01-12                     NaN  2021-01-12                     7.69   \n",
       "2021-01-13                  5906.0  2021-01-13                     7.73   \n",
       "2021-01-14                  8260.0  2021-01-14                     8.88   \n",
       "2021-01-15                  8267.0  2021-01-15                     9.07   \n",
       "2021-01-16                     NaN  2021-01-16                      NaN   \n",
       "\n",
       "           location  people_fully_vaccinated  \\\n",
       "date                                           \n",
       "2021-01-12  Alabama                   7270.0   \n",
       "2021-01-13  Alabama                   9245.0   \n",
       "2021-01-14  Alabama                      NaN   \n",
       "2021-01-15  Alabama                  13488.0   \n",
       "2021-01-16  Alabama                      NaN   \n",
       "\n",
       "            people_fully_vaccinated_per_hundred  people_vaccinated  \\\n",
       "date                                                                 \n",
       "2021-01-12                                 0.15            70861.0   \n",
       "2021-01-13                                 0.19            74792.0   \n",
       "2021-01-14                                  NaN            80480.0   \n",
       "2021-01-15                                 0.28            86956.0   \n",
       "2021-01-16                                  NaN                NaN   \n",
       "\n",
       "            people_vaccinated_per_hundred  share_doses_used  total_boosters  \\\n",
       "date                                                                          \n",
       "2021-01-12                           1.45             0.207             NaN   \n",
       "2021-01-13                           1.53             0.222             NaN   \n",
       "2021-01-14                           1.64             0.212             NaN   \n",
       "2021-01-15                           1.77             0.226             NaN   \n",
       "2021-01-16                            NaN               NaN             NaN   \n",
       "\n",
       "            total_boosters_per_hundred  total_distributed  total_vaccinations  \\\n",
       "date                                                                            \n",
       "2021-01-12                         NaN           377025.0             78134.0   \n",
       "2021-01-13                         NaN           378975.0             84040.0   \n",
       "2021-01-14                         NaN           435350.0             92300.0   \n",
       "2021-01-15                         NaN           444650.0            100567.0   \n",
       "2021-01-16                         NaN                NaN                 NaN   \n",
       "\n",
       "            total_vaccinations_per_hundred  \n",
       "date                                        \n",
       "2021-01-12                            1.59  \n",
       "2021-01-13                            1.71  \n",
       "2021-01-14                            1.88  \n",
       "2021-01-15                            2.05  \n",
       "2021-01-16                             NaN  "
      ]
     },
     "execution_count": 5,
     "metadata": {},
     "output_type": "execute_result"
    }
   ],
   "source": [
    "# set the index\n",
    "df.set_index(df['date'], inplace=True)\n",
    "\n",
    "# sort the index\n",
    "df.sort_index(axis=1, inplace=True)\n",
    "\n",
    "# check dataframe \n",
    "df.head()"
   ]
  },
  {
   "cell_type": "code",
   "execution_count": 6,
   "id": "be7df946-8347-4c08-a7e1-7db734148101",
   "metadata": {},
   "outputs": [],
   "source": [
    "# set the index to datetime\n",
    "df.index = pd.to_datetime(df.index)"
   ]
  },
  {
   "cell_type": "code",
   "execution_count": 7,
   "id": "471755dd-91ac-4097-87c0-4bfaeee7c7e4",
   "metadata": {},
   "outputs": [
    {
     "name": "stdout",
     "output_type": "stream",
     "text": [
      "<class 'pandas.core.frame.DataFrame'>\n",
      "DatetimeIndex: 15363 entries, 2021-01-12 to 2021-09-04\n",
      "Data columns (total 16 columns):\n",
      " #   Column                               Non-Null Count  Dtype  \n",
      "---  ------                               --------------  -----  \n",
      " 0   daily_vaccinations                   15298 non-null  float64\n",
      " 1   daily_vaccinations_per_million       14323 non-null  float64\n",
      " 2   daily_vaccinations_raw               14275 non-null  float64\n",
      " 3   date                                 15363 non-null  object \n",
      " 4   distributed_per_hundred              13745 non-null  float64\n",
      " 5   location                             15363 non-null  object \n",
      " 6   people_fully_vaccinated              14361 non-null  float64\n",
      " 7   people_fully_vaccinated_per_hundred  13659 non-null  float64\n",
      " 8   people_vaccinated                    14441 non-null  float64\n",
      " 9   people_vaccinated_per_hundred        13734 non-null  float64\n",
      " 10  share_doses_used                     14452 non-null  float64\n",
      " 11  total_boosters                       10 non-null     float64\n",
      " 12  total_boosters_per_hundred           10 non-null     float64\n",
      " 13  total_distributed                    14452 non-null  float64\n",
      " 14  total_vaccinations                   14674 non-null  float64\n",
      " 15  total_vaccinations_per_hundred       13758 non-null  float64\n",
      "dtypes: float64(14), object(2)\n",
      "memory usage: 2.0+ MB\n"
     ]
    }
   ],
   "source": [
    "# confirm that the index is in datetime format\n",
    "df.info()"
   ]
  },
  {
   "cell_type": "code",
   "execution_count": 8,
   "id": "57a6db2f-c6e5-41a8-843b-96d59c314e84",
   "metadata": {},
   "outputs": [],
   "source": [
    "# create a mask to set the dataframe equal to the state of massachusetts\n",
    "mask = df['location'] == 'Massachusetts'\n",
    "df = df[mask]"
   ]
  },
  {
   "cell_type": "code",
   "execution_count": 9,
   "id": "c981e4bc-84a4-401d-9d86-9a0068c2190d",
   "metadata": {},
   "outputs": [
    {
     "data": {
      "text/plain": [
       "daily_vaccinations                       1\n",
       "daily_vaccinations_per_million           1\n",
       "daily_vaccinations_raw                  11\n",
       "date                                     0\n",
       "distributed_per_hundred                  6\n",
       "location                                 0\n",
       "people_fully_vaccinated                  7\n",
       "people_fully_vaccinated_per_hundred      7\n",
       "people_vaccinated                        6\n",
       "people_vaccinated_per_hundred            6\n",
       "share_doses_used                         6\n",
       "total_boosters                         236\n",
       "total_boosters_per_hundred             236\n",
       "total_distributed                        6\n",
       "total_vaccinations                       6\n",
       "total_vaccinations_per_hundred           6\n",
       "dtype: int64"
      ]
     },
     "execution_count": 9,
     "metadata": {},
     "output_type": "execute_result"
    }
   ],
   "source": [
    "# check for null values\n",
    "df.isnull().sum()"
   ]
  },
  {
   "cell_type": "code",
   "execution_count": 10,
   "id": "4e820290-5fc4-4cc9-b5a8-41c29d4c5dab",
   "metadata": {},
   "outputs": [
    {
     "data": {
      "text/html": [
       "<div>\n",
       "<style scoped>\n",
       "    .dataframe tbody tr th:only-of-type {\n",
       "        vertical-align: middle;\n",
       "    }\n",
       "\n",
       "    .dataframe tbody tr th {\n",
       "        vertical-align: top;\n",
       "    }\n",
       "\n",
       "    .dataframe thead th {\n",
       "        text-align: right;\n",
       "    }\n",
       "</style>\n",
       "<table border=\"1\" class=\"dataframe\">\n",
       "  <thead>\n",
       "    <tr style=\"text-align: right;\">\n",
       "      <th></th>\n",
       "      <th>daily_vaccinations</th>\n",
       "      <th>daily_vaccinations_per_million</th>\n",
       "      <th>daily_vaccinations_raw</th>\n",
       "      <th>date</th>\n",
       "      <th>distributed_per_hundred</th>\n",
       "      <th>location</th>\n",
       "      <th>people_fully_vaccinated</th>\n",
       "      <th>people_fully_vaccinated_per_hundred</th>\n",
       "      <th>people_vaccinated</th>\n",
       "      <th>people_vaccinated_per_hundred</th>\n",
       "      <th>share_doses_used</th>\n",
       "      <th>total_boosters</th>\n",
       "      <th>total_boosters_per_hundred</th>\n",
       "      <th>total_distributed</th>\n",
       "      <th>total_vaccinations</th>\n",
       "      <th>total_vaccinations_per_hundred</th>\n",
       "    </tr>\n",
       "    <tr>\n",
       "      <th>date</th>\n",
       "      <th></th>\n",
       "      <th></th>\n",
       "      <th></th>\n",
       "      <th></th>\n",
       "      <th></th>\n",
       "      <th></th>\n",
       "      <th></th>\n",
       "      <th></th>\n",
       "      <th></th>\n",
       "      <th></th>\n",
       "      <th></th>\n",
       "      <th></th>\n",
       "      <th></th>\n",
       "      <th></th>\n",
       "      <th></th>\n",
       "      <th></th>\n",
       "    </tr>\n",
       "  </thead>\n",
       "  <tbody>\n",
       "    <tr>\n",
       "      <th>2021-01-12</th>\n",
       "      <td>NaN</td>\n",
       "      <td>NaN</td>\n",
       "      <td>NaN</td>\n",
       "      <td>2021-01-12</td>\n",
       "      <td>6.91</td>\n",
       "      <td>Massachusetts</td>\n",
       "      <td>19073.0</td>\n",
       "      <td>0.28</td>\n",
       "      <td>184984.0</td>\n",
       "      <td>2.68</td>\n",
       "      <td>0.429</td>\n",
       "      <td>NaN</td>\n",
       "      <td>NaN</td>\n",
       "      <td>476025.0</td>\n",
       "      <td>204082.0</td>\n",
       "      <td>2.96</td>\n",
       "    </tr>\n",
       "    <tr>\n",
       "      <th>2021-01-13</th>\n",
       "      <td>13361.0</td>\n",
       "      <td>1938.0</td>\n",
       "      <td>13361.0</td>\n",
       "      <td>2021-01-13</td>\n",
       "      <td>9.53</td>\n",
       "      <td>Massachusetts</td>\n",
       "      <td>24789.0</td>\n",
       "      <td>0.36</td>\n",
       "      <td>192619.0</td>\n",
       "      <td>2.79</td>\n",
       "      <td>0.331</td>\n",
       "      <td>NaN</td>\n",
       "      <td>NaN</td>\n",
       "      <td>656850.0</td>\n",
       "      <td>217443.0</td>\n",
       "      <td>3.15</td>\n",
       "    </tr>\n",
       "    <tr>\n",
       "      <th>2021-01-14</th>\n",
       "      <td>14697.0</td>\n",
       "      <td>2132.0</td>\n",
       "      <td>16033.0</td>\n",
       "      <td>2021-01-14</td>\n",
       "      <td>9.71</td>\n",
       "      <td>Massachusetts</td>\n",
       "      <td>NaN</td>\n",
       "      <td>NaN</td>\n",
       "      <td>204481.0</td>\n",
       "      <td>2.97</td>\n",
       "      <td>0.349</td>\n",
       "      <td>NaN</td>\n",
       "      <td>NaN</td>\n",
       "      <td>669225.0</td>\n",
       "      <td>233476.0</td>\n",
       "      <td>3.39</td>\n",
       "    </tr>\n",
       "    <tr>\n",
       "      <th>2021-01-15</th>\n",
       "      <td>17698.0</td>\n",
       "      <td>2568.0</td>\n",
       "      <td>23699.0</td>\n",
       "      <td>2021-01-15</td>\n",
       "      <td>9.71</td>\n",
       "      <td>Massachusetts</td>\n",
       "      <td>34885.0</td>\n",
       "      <td>0.51</td>\n",
       "      <td>222109.0</td>\n",
       "      <td>3.22</td>\n",
       "      <td>0.384</td>\n",
       "      <td>NaN</td>\n",
       "      <td>NaN</td>\n",
       "      <td>669325.0</td>\n",
       "      <td>257175.0</td>\n",
       "      <td>3.73</td>\n",
       "    </tr>\n",
       "    <tr>\n",
       "      <th>2021-01-16</th>\n",
       "      <td>17130.0</td>\n",
       "      <td>2485.0</td>\n",
       "      <td>NaN</td>\n",
       "      <td>2021-01-16</td>\n",
       "      <td>NaN</td>\n",
       "      <td>Massachusetts</td>\n",
       "      <td>NaN</td>\n",
       "      <td>NaN</td>\n",
       "      <td>NaN</td>\n",
       "      <td>NaN</td>\n",
       "      <td>NaN</td>\n",
       "      <td>NaN</td>\n",
       "      <td>NaN</td>\n",
       "      <td>NaN</td>\n",
       "      <td>NaN</td>\n",
       "      <td>NaN</td>\n",
       "    </tr>\n",
       "  </tbody>\n",
       "</table>\n",
       "</div>"
      ],
      "text/plain": [
       "            daily_vaccinations  daily_vaccinations_per_million  \\\n",
       "date                                                             \n",
       "2021-01-12                 NaN                             NaN   \n",
       "2021-01-13             13361.0                          1938.0   \n",
       "2021-01-14             14697.0                          2132.0   \n",
       "2021-01-15             17698.0                          2568.0   \n",
       "2021-01-16             17130.0                          2485.0   \n",
       "\n",
       "            daily_vaccinations_raw        date  distributed_per_hundred  \\\n",
       "date                                                                      \n",
       "2021-01-12                     NaN  2021-01-12                     6.91   \n",
       "2021-01-13                 13361.0  2021-01-13                     9.53   \n",
       "2021-01-14                 16033.0  2021-01-14                     9.71   \n",
       "2021-01-15                 23699.0  2021-01-15                     9.71   \n",
       "2021-01-16                     NaN  2021-01-16                      NaN   \n",
       "\n",
       "                 location  people_fully_vaccinated  \\\n",
       "date                                                 \n",
       "2021-01-12  Massachusetts                  19073.0   \n",
       "2021-01-13  Massachusetts                  24789.0   \n",
       "2021-01-14  Massachusetts                      NaN   \n",
       "2021-01-15  Massachusetts                  34885.0   \n",
       "2021-01-16  Massachusetts                      NaN   \n",
       "\n",
       "            people_fully_vaccinated_per_hundred  people_vaccinated  \\\n",
       "date                                                                 \n",
       "2021-01-12                                 0.28           184984.0   \n",
       "2021-01-13                                 0.36           192619.0   \n",
       "2021-01-14                                  NaN           204481.0   \n",
       "2021-01-15                                 0.51           222109.0   \n",
       "2021-01-16                                  NaN                NaN   \n",
       "\n",
       "            people_vaccinated_per_hundred  share_doses_used  total_boosters  \\\n",
       "date                                                                          \n",
       "2021-01-12                           2.68             0.429             NaN   \n",
       "2021-01-13                           2.79             0.331             NaN   \n",
       "2021-01-14                           2.97             0.349             NaN   \n",
       "2021-01-15                           3.22             0.384             NaN   \n",
       "2021-01-16                            NaN               NaN             NaN   \n",
       "\n",
       "            total_boosters_per_hundred  total_distributed  total_vaccinations  \\\n",
       "date                                                                            \n",
       "2021-01-12                         NaN           476025.0            204082.0   \n",
       "2021-01-13                         NaN           656850.0            217443.0   \n",
       "2021-01-14                         NaN           669225.0            233476.0   \n",
       "2021-01-15                         NaN           669325.0            257175.0   \n",
       "2021-01-16                         NaN                NaN                 NaN   \n",
       "\n",
       "            total_vaccinations_per_hundred  \n",
       "date                                        \n",
       "2021-01-12                            2.96  \n",
       "2021-01-13                            3.15  \n",
       "2021-01-14                            3.39  \n",
       "2021-01-15                            3.73  \n",
       "2021-01-16                             NaN  "
      ]
     },
     "execution_count": 10,
     "metadata": {},
     "output_type": "execute_result"
    }
   ],
   "source": [
    "df.head()"
   ]
  },
  {
   "cell_type": "code",
   "execution_count": 11,
   "id": "3d444ca3-ae3f-48e8-8332-0e34f6401313",
   "metadata": {},
   "outputs": [
    {
     "name": "stdout",
     "output_type": "stream",
     "text": [
      "(array([  4,   5,   6,  34, 139, 174]),)\n"
     ]
    }
   ],
   "source": [
    "# check indexes of missing values\n",
    "missingv = df[\"total_vaccinations\"].isnull().to_numpy().nonzero()\n",
    "print(missingv)"
   ]
  },
  {
   "cell_type": "code",
   "execution_count": 12,
   "id": "e11c1d5c-5cbe-415b-a6d1-6bbdaca70e45",
   "metadata": {},
   "outputs": [],
   "source": [
    "# interpolate missing values\n",
    "# since missing values are all float objects, I can interpolate on the whole dataframe\n",
    "df.interpolate(inplace=True)"
   ]
  },
  {
   "cell_type": "code",
   "execution_count": 13,
   "id": "1bdb254a-6a7f-4102-b4b1-6b0f917bfe03",
   "metadata": {},
   "outputs": [
    {
     "data": {
      "text/plain": [
       "daily_vaccinations                       1\n",
       "daily_vaccinations_per_million           1\n",
       "daily_vaccinations_raw                   1\n",
       "date                                     0\n",
       "distributed_per_hundred                  0\n",
       "location                                 0\n",
       "people_fully_vaccinated                  0\n",
       "people_fully_vaccinated_per_hundred      0\n",
       "people_vaccinated                        0\n",
       "people_vaccinated_per_hundred            0\n",
       "share_doses_used                         0\n",
       "total_boosters                         236\n",
       "total_boosters_per_hundred             236\n",
       "total_distributed                        0\n",
       "total_vaccinations                       0\n",
       "total_vaccinations_per_hundred           0\n",
       "dtype: int64"
      ]
     },
     "execution_count": 13,
     "metadata": {},
     "output_type": "execute_result"
    }
   ],
   "source": [
    "# check for remaining missing values\n",
    "df.isnull().sum()"
   ]
  },
  {
   "cell_type": "code",
   "execution_count": 14,
   "id": "205c25fd-5761-44a5-8e77-03dd907588f4",
   "metadata": {},
   "outputs": [
    {
     "data": {
      "text/plain": [
       "(235, 14)"
      ]
     },
     "execution_count": 14,
     "metadata": {},
     "output_type": "execute_result"
    }
   ],
   "source": [
    "# drop booster-related columns\n",
    "df.drop(columns = ['total_boosters', 'total_boosters_per_hundred'], axis = 1, inplace=True)\n",
    "\n",
    "# drop first row\n",
    "df.dropna(inplace=True)\n",
    "\n",
    "# check shape\n",
    "df.shape"
   ]
  },
  {
   "cell_type": "code",
   "execution_count": 15,
   "id": "06741051-88c5-4ee9-916f-36dbca8c594f",
   "metadata": {},
   "outputs": [
    {
     "data": {
      "text/html": [
       "<div>\n",
       "<style scoped>\n",
       "    .dataframe tbody tr th:only-of-type {\n",
       "        vertical-align: middle;\n",
       "    }\n",
       "\n",
       "    .dataframe tbody tr th {\n",
       "        vertical-align: top;\n",
       "    }\n",
       "\n",
       "    .dataframe thead th {\n",
       "        text-align: right;\n",
       "    }\n",
       "</style>\n",
       "<table border=\"1\" class=\"dataframe\">\n",
       "  <thead>\n",
       "    <tr style=\"text-align: right;\">\n",
       "      <th></th>\n",
       "      <th>daily_vaccinations</th>\n",
       "      <th>daily_vaccinations_per_million</th>\n",
       "      <th>daily_vaccinations_raw</th>\n",
       "      <th>date</th>\n",
       "      <th>distributed_per_hundred</th>\n",
       "      <th>people_fully_vaccinated</th>\n",
       "      <th>people_fully_vaccinated_per_hundred</th>\n",
       "      <th>people_vaccinated</th>\n",
       "      <th>people_vaccinated_per_hundred</th>\n",
       "      <th>share_doses_used</th>\n",
       "      <th>total_distributed</th>\n",
       "      <th>total_vaccinations</th>\n",
       "      <th>total_vaccinations_per_hundred</th>\n",
       "    </tr>\n",
       "    <tr>\n",
       "      <th>date</th>\n",
       "      <th></th>\n",
       "      <th></th>\n",
       "      <th></th>\n",
       "      <th></th>\n",
       "      <th></th>\n",
       "      <th></th>\n",
       "      <th></th>\n",
       "      <th></th>\n",
       "      <th></th>\n",
       "      <th></th>\n",
       "      <th></th>\n",
       "      <th></th>\n",
       "      <th></th>\n",
       "    </tr>\n",
       "  </thead>\n",
       "  <tbody>\n",
       "    <tr>\n",
       "      <th>2021-01-13</th>\n",
       "      <td>13361.0</td>\n",
       "      <td>1938.0</td>\n",
       "      <td>13361.0</td>\n",
       "      <td>2021-01-13</td>\n",
       "      <td>9.53</td>\n",
       "      <td>24789.0</td>\n",
       "      <td>0.3600</td>\n",
       "      <td>192619.00</td>\n",
       "      <td>2.7900</td>\n",
       "      <td>0.331</td>\n",
       "      <td>656850.0</td>\n",
       "      <td>217443.0</td>\n",
       "      <td>3.150</td>\n",
       "    </tr>\n",
       "    <tr>\n",
       "      <th>2021-01-14</th>\n",
       "      <td>14697.0</td>\n",
       "      <td>2132.0</td>\n",
       "      <td>16033.0</td>\n",
       "      <td>2021-01-14</td>\n",
       "      <td>9.71</td>\n",
       "      <td>29837.0</td>\n",
       "      <td>0.4350</td>\n",
       "      <td>204481.00</td>\n",
       "      <td>2.9700</td>\n",
       "      <td>0.349</td>\n",
       "      <td>669225.0</td>\n",
       "      <td>233476.0</td>\n",
       "      <td>3.390</td>\n",
       "    </tr>\n",
       "    <tr>\n",
       "      <th>2021-01-15</th>\n",
       "      <td>17698.0</td>\n",
       "      <td>2568.0</td>\n",
       "      <td>23699.0</td>\n",
       "      <td>2021-01-15</td>\n",
       "      <td>9.71</td>\n",
       "      <td>34885.0</td>\n",
       "      <td>0.5100</td>\n",
       "      <td>222109.00</td>\n",
       "      <td>3.2200</td>\n",
       "      <td>0.384</td>\n",
       "      <td>669325.0</td>\n",
       "      <td>257175.0</td>\n",
       "      <td>3.730</td>\n",
       "    </tr>\n",
       "    <tr>\n",
       "      <th>2021-01-16</th>\n",
       "      <td>17130.0</td>\n",
       "      <td>2485.0</td>\n",
       "      <td>21281.8</td>\n",
       "      <td>2021-01-16</td>\n",
       "      <td>9.71</td>\n",
       "      <td>36427.0</td>\n",
       "      <td>0.5325</td>\n",
       "      <td>235984.75</td>\n",
       "      <td>3.4225</td>\n",
       "      <td>0.407</td>\n",
       "      <td>669325.0</td>\n",
       "      <td>272600.5</td>\n",
       "      <td>3.955</td>\n",
       "    </tr>\n",
       "    <tr>\n",
       "      <th>2021-01-17</th>\n",
       "      <td>16789.0</td>\n",
       "      <td>2436.0</td>\n",
       "      <td>18864.6</td>\n",
       "      <td>2021-01-17</td>\n",
       "      <td>9.71</td>\n",
       "      <td>37969.0</td>\n",
       "      <td>0.5550</td>\n",
       "      <td>249860.50</td>\n",
       "      <td>3.6250</td>\n",
       "      <td>0.430</td>\n",
       "      <td>669325.0</td>\n",
       "      <td>288026.0</td>\n",
       "      <td>4.180</td>\n",
       "    </tr>\n",
       "  </tbody>\n",
       "</table>\n",
       "</div>"
      ],
      "text/plain": [
       "            daily_vaccinations  daily_vaccinations_per_million  \\\n",
       "date                                                             \n",
       "2021-01-13             13361.0                          1938.0   \n",
       "2021-01-14             14697.0                          2132.0   \n",
       "2021-01-15             17698.0                          2568.0   \n",
       "2021-01-16             17130.0                          2485.0   \n",
       "2021-01-17             16789.0                          2436.0   \n",
       "\n",
       "            daily_vaccinations_raw        date  distributed_per_hundred  \\\n",
       "date                                                                      \n",
       "2021-01-13                 13361.0  2021-01-13                     9.53   \n",
       "2021-01-14                 16033.0  2021-01-14                     9.71   \n",
       "2021-01-15                 23699.0  2021-01-15                     9.71   \n",
       "2021-01-16                 21281.8  2021-01-16                     9.71   \n",
       "2021-01-17                 18864.6  2021-01-17                     9.71   \n",
       "\n",
       "            people_fully_vaccinated  people_fully_vaccinated_per_hundred  \\\n",
       "date                                                                       \n",
       "2021-01-13                  24789.0                               0.3600   \n",
       "2021-01-14                  29837.0                               0.4350   \n",
       "2021-01-15                  34885.0                               0.5100   \n",
       "2021-01-16                  36427.0                               0.5325   \n",
       "2021-01-17                  37969.0                               0.5550   \n",
       "\n",
       "            people_vaccinated  people_vaccinated_per_hundred  \\\n",
       "date                                                           \n",
       "2021-01-13          192619.00                         2.7900   \n",
       "2021-01-14          204481.00                         2.9700   \n",
       "2021-01-15          222109.00                         3.2200   \n",
       "2021-01-16          235984.75                         3.4225   \n",
       "2021-01-17          249860.50                         3.6250   \n",
       "\n",
       "            share_doses_used  total_distributed  total_vaccinations  \\\n",
       "date                                                                  \n",
       "2021-01-13             0.331           656850.0            217443.0   \n",
       "2021-01-14             0.349           669225.0            233476.0   \n",
       "2021-01-15             0.384           669325.0            257175.0   \n",
       "2021-01-16             0.407           669325.0            272600.5   \n",
       "2021-01-17             0.430           669325.0            288026.0   \n",
       "\n",
       "            total_vaccinations_per_hundred  \n",
       "date                                        \n",
       "2021-01-13                           3.150  \n",
       "2021-01-14                           3.390  \n",
       "2021-01-15                           3.730  \n",
       "2021-01-16                           3.955  \n",
       "2021-01-17                           4.180  "
      ]
     },
     "execution_count": 15,
     "metadata": {},
     "output_type": "execute_result"
    }
   ],
   "source": [
    "# drop the location column\n",
    "df.drop('location', axis=1, inplace=True)\n",
    "\n",
    "# check dataframe\n",
    "df.head()"
   ]
  },
  {
   "cell_type": "code",
   "execution_count": 16,
   "id": "b2df64e0-943b-479f-9bd9-e1674d1690d3",
   "metadata": {},
   "outputs": [
    {
     "data": {
      "text/plain": [
       "DatetimeIndex([], dtype='datetime64[ns]', freq='D')"
      ]
     },
     "execution_count": 16,
     "metadata": {},
     "output_type": "execute_result"
    }
   ],
   "source": [
    "# check for missing dates in the timeseries\n",
    "pd.date_range(start = \"2021-01-13\", end = \"2021-09-04\").difference(df.index)"
   ]
  },
  {
   "cell_type": "markdown",
   "id": "f4a53209-b05f-4e1f-96cc-8ba8a4ea53fe",
   "metadata": {},
   "source": [
    "There are no remaining missing datapoints in the data!"
   ]
  },
  {
   "cell_type": "code",
   "execution_count": 17,
   "id": "e8fd9605-0070-4a04-b5e0-6b05ae71cfe7",
   "metadata": {},
   "outputs": [],
   "source": [
    "# # save clean csv\n",
    "# df.to_csv(\"../data/massachusetts_vaccinations_09_04_21_clean.csv\", index=False)"
   ]
  },
  {
   "cell_type": "markdown",
   "id": "7fab530f-3c9c-4eda-b0bd-9a8cc2432556",
   "metadata": {
    "tags": []
   },
   "source": [
    "## Exploratory Data Analysis\n",
    "\n",
    "### Plotting features of interest to evaluate trend"
   ]
  },
  {
   "cell_type": "code",
   "execution_count": 18,
   "id": "e3149682-5958-4a5d-9199-ce77db459ce7",
   "metadata": {},
   "outputs": [
    {
     "data": {
      "text/plain": [
       "Index(['daily_vaccinations', 'daily_vaccinations_per_million',\n",
       "       'daily_vaccinations_raw', 'date', 'distributed_per_hundred',\n",
       "       'people_fully_vaccinated', 'people_fully_vaccinated_per_hundred',\n",
       "       'people_vaccinated', 'people_vaccinated_per_hundred',\n",
       "       'share_doses_used', 'total_distributed', 'total_vaccinations',\n",
       "       'total_vaccinations_per_hundred'],\n",
       "      dtype='object')"
      ]
     },
     "execution_count": 18,
     "metadata": {},
     "output_type": "execute_result"
    }
   ],
   "source": [
    "# Look at each column\n",
    "df.columns"
   ]
  },
  {
   "cell_type": "code",
   "execution_count": 19,
   "id": "d771bc9d-f2eb-45da-9e7d-5fcd03cd8e18",
   "metadata": {},
   "outputs": [],
   "source": [
    "# create list of features of interest\n",
    "features = [\"total_distributed\", \"total_vaccinations\", \"people_vaccinated\", \"people_fully_vaccinated\", \"daily_vaccinations\"]"
   ]
  },
  {
   "cell_type": "code",
   "execution_count": 20,
   "id": "cde7ba22-d0f0-4847-8de3-5dc267aea1c8",
   "metadata": {},
   "outputs": [
    {
     "data": {
      "image/png": "[encoded data removed]",
      "text/plain": [
       "<Figure size 720x576 with 1 Axes>"
      ]
     },
     "metadata": {
      "needs_background": "light"
     },
     "output_type": "display_data"
    }
   ],
   "source": [
    "# plot features\n",
    "fig, ax = plt.subplots(figsize=(10,8))\n",
    "\n",
    "ax.yaxis.get_major_formatter().set_scientific(False)\n",
    "\n",
    "plt.title(\"Massachusetts Vaccine Data\")\n",
    "plt.xlabel('Date')\n",
    "plt.ylabel('Vaccines')\n",
    "for feature in features:\n",
    "    plt.plot(df[feature], label = feature)\n",
    "    plt.legend();"
   ]
  },
  {
   "cell_type": "markdown",
   "id": "9fd205d7-b1e9-405a-8e82-6c4d3d24d0c8",
   "metadata": {},
   "source": [
    "\"people_fully_vaccinated\", \"people_vaccinated\", \"total_vaccinations\", and \"total_distributed\" all have positive trends."
   ]
  },
  {
   "cell_type": "code",
   "execution_count": 21,
   "id": "460d5b94-1538-41ea-a16d-45be3816faeb",
   "metadata": {},
   "outputs": [
    {
     "data": {
      "text/html": [
       "<div>\n",
       "<style scoped>\n",
       "    .dataframe tbody tr th:only-of-type {\n",
       "        vertical-align: middle;\n",
       "    }\n",
       "\n",
       "    .dataframe tbody tr th {\n",
       "        vertical-align: top;\n",
       "    }\n",
       "\n",
       "    .dataframe thead th {\n",
       "        text-align: right;\n",
       "    }\n",
       "</style>\n",
       "<table border=\"1\" class=\"dataframe\">\n",
       "  <thead>\n",
       "    <tr style=\"text-align: right;\">\n",
       "      <th></th>\n",
       "      <th>total_distributed</th>\n",
       "      <th>total_vaccinations</th>\n",
       "      <th>people_vaccinated</th>\n",
       "      <th>people_fully_vaccinated</th>\n",
       "      <th>daily_vaccinations</th>\n",
       "    </tr>\n",
       "  </thead>\n",
       "  <tbody>\n",
       "    <tr>\n",
       "      <th>total_distributed</th>\n",
       "      <td>1.000000</td>\n",
       "      <td>0.998560</td>\n",
       "      <td>0.997387</td>\n",
       "      <td>0.992540</td>\n",
       "      <td>-0.303775</td>\n",
       "    </tr>\n",
       "    <tr>\n",
       "      <th>total_vaccinations</th>\n",
       "      <td>0.998560</td>\n",
       "      <td>1.000000</td>\n",
       "      <td>0.996374</td>\n",
       "      <td>0.996247</td>\n",
       "      <td>-0.331853</td>\n",
       "    </tr>\n",
       "    <tr>\n",
       "      <th>people_vaccinated</th>\n",
       "      <td>0.997387</td>\n",
       "      <td>0.996374</td>\n",
       "      <td>1.000000</td>\n",
       "      <td>0.985337</td>\n",
       "      <td>-0.251742</td>\n",
       "    </tr>\n",
       "    <tr>\n",
       "      <th>people_fully_vaccinated</th>\n",
       "      <td>0.992540</td>\n",
       "      <td>0.996247</td>\n",
       "      <td>0.985337</td>\n",
       "      <td>1.000000</td>\n",
       "      <td>-0.410823</td>\n",
       "    </tr>\n",
       "    <tr>\n",
       "      <th>daily_vaccinations</th>\n",
       "      <td>-0.303775</td>\n",
       "      <td>-0.331853</td>\n",
       "      <td>-0.251742</td>\n",
       "      <td>-0.410823</td>\n",
       "      <td>1.000000</td>\n",
       "    </tr>\n",
       "  </tbody>\n",
       "</table>\n",
       "</div>"
      ],
      "text/plain": [
       "                         total_distributed  total_vaccinations  \\\n",
       "total_distributed                 1.000000            0.998560   \n",
       "total_vaccinations                0.998560            1.000000   \n",
       "people_vaccinated                 0.997387            0.996374   \n",
       "people_fully_vaccinated           0.992540            0.996247   \n",
       "daily_vaccinations               -0.303775           -0.331853   \n",
       "\n",
       "                         people_vaccinated  people_fully_vaccinated  \\\n",
       "total_distributed                 0.997387                 0.992540   \n",
       "total_vaccinations                0.996374                 0.996247   \n",
       "people_vaccinated                 1.000000                 0.985337   \n",
       "people_fully_vaccinated           0.985337                 1.000000   \n",
       "daily_vaccinations               -0.251742                -0.410823   \n",
       "\n",
       "                         daily_vaccinations  \n",
       "total_distributed                 -0.303775  \n",
       "total_vaccinations                -0.331853  \n",
       "people_vaccinated                 -0.251742  \n",
       "people_fully_vaccinated           -0.410823  \n",
       "daily_vaccinations                 1.000000  "
      ]
     },
     "execution_count": 21,
     "metadata": {},
     "output_type": "execute_result"
    }
   ],
   "source": [
    "# check correlation of features of interest\n",
    "df[features].corr()"
   ]
  },
  {
   "cell_type": "code",
   "execution_count": 22,
   "id": "5d9e9942-5903-4236-ad28-0a99845f3a75",
   "metadata": {},
   "outputs": [
    {
     "data": {
      "image/png": "[encoded data removed]",
      "text/plain": [
       "<Figure size 576x576 with 2 Axes>"
      ]
     },
     "metadata": {
      "needs_background": "light"
     },
     "output_type": "display_data"
    }
   ],
   "source": [
    "# visualize correlation of the features\n",
    "plt.figure(figsize=(8,8))\n",
    "mask = np.triu(np.ones_like(df[features].corr(), dtype=bool))\n",
    "plt.title(\"Correlation of features\")\n",
    "sns.heatmap(df[features].corr(), mask=mask, annot=True, cmap=\"viridis\", center=0,\n",
    "            square=True, linewidths=.5);"
   ]
  },
  {
   "cell_type": "markdown",
   "id": "9acdad83-58f1-47a3-a1d0-c85fc44983b2",
   "metadata": {},
   "source": [
    "All features of interest other than \"daily_vaccinations\" are strongly correlated with each other. In time series, this may not hold any signifiance, as features with low correlation could be highly influential in the target of interest (assuming the time series isn't a random walk).\n",
    "\n",
    "Because \"people vaccinated\" and \"people_fully_vaccinated\" are affected by whether an individual is getting a single-dose or a double-dose vaccine, those features may be harder to model and predict since I don't have data regarding the proportion of single-dose and double-dose vaccines administered."
   ]
  },
  {
   "cell_type": "code",
   "execution_count": 23,
   "id": "f085d52c-1a83-41d9-84f3-827766557498",
   "metadata": {},
   "outputs": [
    {
     "data": {
      "image/png": "[encoded data removed]",
      "text/plain": [
       "<Figure size 432x288 with 4 Axes>"
      ]
     },
     "metadata": {
      "needs_background": "light"
     },
     "output_type": "display_data"
    }
   ],
   "source": [
    "# decompose total vaccinations into trend, seasonal, and residual components.\n",
    "decomp = seasonal_decompose(df['total_vaccinations'])\n",
    "\n",
    "# plot the decomposed time series\n",
    "decomp.plot();"
   ]
  },
  {
   "cell_type": "code",
   "execution_count": 24,
   "id": "25711a5e-ddb6-439e-b019-7d6797043f26",
   "metadata": {
    "tags": []
   },
   "outputs": [
    {
     "data": {
      "image/png": "[encoded data removed]",
      "text/plain": [
       "<Figure size 432x288 with 1 Axes>"
      ]
     },
     "metadata": {
      "needs_background": "light"
     },
     "output_type": "display_data"
    }
   ],
   "source": [
    "# plot autocorrelation function for total_vaccinations\n",
    "plot_acf(df['total_vaccinations'], lags=20)\n",
    "plt.title(\"Total Vaccinations Autocorrelation\")\n",
    "plt.show();"
   ]
  },
  {
   "cell_type": "code",
   "execution_count": 25,
   "id": "ebe3bb0e-4ab0-4d76-b2eb-4937ea993dd4",
   "metadata": {},
   "outputs": [
    {
     "name": "stderr",
     "output_type": "stream",
     "text": [
      "/Users/ericrodriguez/opt/anaconda3/lib/python3.8/site-packages/statsmodels/graphics/tsaplots.py:348: FutureWarning: The default method 'yw' can produce PACF values outside of the [-1,1] interval. After 0.13, the default will change tounadjusted Yule-Walker ('ywm'). You can use this method now by setting method='ywm'.\n",
      "  warnings.warn(\n"
     ]
    },
    {
     "data": {
      "image/png": "[encoded data removed]",
      "text/plain": [
       "<Figure size 432x288 with 1 Axes>"
      ]
     },
     "metadata": {
      "needs_background": "light"
     },
     "output_type": "display_data"
    }
   ],
   "source": [
    "# plot partial autocorrelation function for total_vaccinations\n",
    "plot_pacf(df['total_vaccinations'], lags=20);\n",
    "plt.title(\"Total Vaccinations Partial Autocorrelation\")\n",
    "plt.show();"
   ]
  },
  {
   "cell_type": "markdown",
   "id": "62aebc6c-effa-4db0-8b47-09d4db0552df",
   "metadata": {},
   "source": [
    "Autocorrelation plot confirms the positive trend for \"total_vaccinations\", and the partial autocorrelation plot shows that time T-1 is a significant predictor of time T."
   ]
  },
  {
   "cell_type": "code",
   "execution_count": 26,
   "id": "accad709-9154-4a53-8daf-3902b9e2b86f",
   "metadata": {},
   "outputs": [
    {
     "data": {
      "text/plain": [
       "Test Statistic                  -4.535360\n",
       "p-value                          0.001321\n",
       "#Lags Used                      14.000000\n",
       "Number of Observations Used    220.000000\n",
       "Critical Value (1%)             -4.000520\n",
       "Critical Value (5%)             -3.430637\n",
       "Critical Value (10%)            -3.138886\n",
       "dtype: float64"
      ]
     },
     "execution_count": 26,
     "metadata": {},
     "output_type": "execute_result"
    }
   ],
   "source": [
    "# Code written by Joseph Nelson.\n",
    "\n",
    "def interpret_dftest(dftest):\n",
    "    dfoutput = pd.Series(dftest[0:4], index=['Test Statistic','p-value', '#Lags Used', 'Number of Observations Used'])\n",
    "    for key,value in dftest[4].items():\n",
    "        dfoutput['Critical Value (%s)'%key] = value\n",
    "    return dfoutput\n",
    "\n",
    "# Run ADF test on original (non-differenced!) data using the \n",
    "# constant and trend regression pattern for total vaccinations\n",
    "interpret_dftest(adfuller(df['total_vaccinations'], regression = 'ct'))"
   ]
  },
  {
   "cell_type": "markdown",
   "id": "4bd6c9b2-ceb4-4e85-a9b7-8c07908c276f",
   "metadata": {},
   "source": [
    "Adjusted dickey-fuller test suggest that total vaccinations is stationary at an alpha level of 0.05 on original non-differenced data"
   ]
  },
  {
   "cell_type": "code",
   "execution_count": 27,
   "id": "07eab141-6601-43a7-961b-b75ab2b512f8",
   "metadata": {},
   "outputs": [
    {
     "data": {
      "text/plain": [
       "Test Statistic                  -0.780808\n",
       "p-value                          0.824695\n",
       "#Lags Used                      15.000000\n",
       "Number of Observations Used    218.000000\n",
       "Critical Value (1%)             -3.460708\n",
       "Critical Value (5%)             -2.874891\n",
       "Critical Value (10%)            -2.573886\n",
       "dtype: float64"
      ]
     },
     "execution_count": 27,
     "metadata": {},
     "output_type": "execute_result"
    }
   ],
   "source": [
    "# Run ADF test on differenced data using the regular regression pattern for total vaccinations\n",
    "interpret_dftest(adfuller(df['total_vaccinations'].diff().dropna()))"
   ]
  },
  {
   "cell_type": "code",
   "execution_count": 28,
   "id": "119c7567-bd4e-4a48-ac15-b13e62007595",
   "metadata": {},
   "outputs": [
    {
     "data": {
      "text/plain": [
       "Test Statistic                  -3.167787\n",
       "p-value                          0.021927\n",
       "#Lags Used                      15.000000\n",
       "Number of Observations Used    217.000000\n",
       "Critical Value (1%)             -3.460849\n",
       "Critical Value (5%)             -2.874953\n",
       "Critical Value (10%)            -2.573919\n",
       "dtype: float64"
      ]
     },
     "execution_count": 28,
     "metadata": {},
     "output_type": "execute_result"
    }
   ],
   "source": [
    "# Run ADF test on twice differenced data using the regular regression pattern for total vaccinations\n",
    "interpret_dftest(adfuller(df['total_vaccinations'].diff().diff().dropna()))"
   ]
  },
  {
   "cell_type": "markdown",
   "id": "a1b9e585-5640-4f1c-9375-dda8e2456130",
   "metadata": {},
   "source": [
    "Adjusted dickey-fuller test suggests that \"total_vaccinations\" is stationary at an alpha level of 0.05 on undifferenced data."
   ]
  },
  {
   "cell_type": "code",
   "execution_count": 29,
   "id": "249116f7-d2fc-4f14-aa84-e8770300cf14",
   "metadata": {},
   "outputs": [
    {
     "data": {
      "image/png": "[encoded data removed]",
      "text/plain": [
       "<Figure size 432x288 with 4 Axes>"
      ]
     },
     "metadata": {
      "needs_background": "light"
     },
     "output_type": "display_data"
    }
   ],
   "source": [
    "# decompose daily vaccinations into trend, seasonal, and residual components.\n",
    "decomp = seasonal_decompose(df['daily_vaccinations'])\n",
    "\n",
    "# Plot the decomposed time series.\n",
    "decomp.plot();"
   ]
  },
  {
   "cell_type": "code",
   "execution_count": 30,
   "id": "5a61a887-0ef7-42f1-b265-4cca5e9e612d",
   "metadata": {},
   "outputs": [
    {
     "data": {
      "image/png": "[encoded data removed]",
      "text/plain": [
       "<Figure size 432x288 with 1 Axes>"
      ]
     },
     "metadata": {
      "needs_background": "light"
     },
     "output_type": "display_data"
    }
   ],
   "source": [
    "# plot autocorrelation function for daily_vaccinations\n",
    "plot_acf(df['daily_vaccinations'], lags=20)\n",
    "plt.title(\"Daily Vaccinations Autocorrelation\")\n",
    "plt.show();"
   ]
  },
  {
   "cell_type": "code",
   "execution_count": 31,
   "id": "913e0b2b-594c-4528-8aba-ab7c1ffde86e",
   "metadata": {},
   "outputs": [
    {
     "name": "stderr",
     "output_type": "stream",
     "text": [
      "/Users/ericrodriguez/opt/anaconda3/lib/python3.8/site-packages/statsmodels/graphics/tsaplots.py:348: FutureWarning: The default method 'yw' can produce PACF values outside of the [-1,1] interval. After 0.13, the default will change tounadjusted Yule-Walker ('ywm'). You can use this method now by setting method='ywm'.\n",
      "  warnings.warn(\n"
     ]
    },
    {
     "data": {
      "image/png": "[encoded data removed]",
      "text/plain": [
       "<Figure size 432x288 with 1 Axes>"
      ]
     },
     "metadata": {
      "needs_background": "light"
     },
     "output_type": "display_data"
    }
   ],
   "source": [
    "# plot partial autocorrelation function for daily_vaccinations\n",
    "plot_pacf(df['daily_vaccinations'], lags=20);\n",
    "plt.title(\"Daily Vaccinations Partial Autocorrelation\")\n",
    "plt.show();"
   ]
  },
  {
   "cell_type": "markdown",
   "id": "c2bca9ea-4852-41a0-9bf6-10a7740833fc",
   "metadata": {},
   "source": [
    "Autocorrelation plot shows a positive trend for \"daily_vaccinations\", and partial autocorrelation plot may suggest some sort of seasonality, although this is most likely just a reflection of the variance in daily vaccinations."
   ]
  },
  {
   "cell_type": "code",
   "execution_count": 32,
   "id": "541b02f7-e9ff-42a4-9694-3f6df69fa21b",
   "metadata": {},
   "outputs": [
    {
     "data": {
      "text/plain": [
       "Test Statistic                  -2.412065\n",
       "p-value                          0.373224\n",
       "#Lags Used                      14.000000\n",
       "Number of Observations Used    220.000000\n",
       "Critical Value (1%)             -4.000520\n",
       "Critical Value (5%)             -3.430637\n",
       "Critical Value (10%)            -3.138886\n",
       "dtype: float64"
      ]
     },
     "execution_count": 32,
     "metadata": {},
     "output_type": "execute_result"
    }
   ],
   "source": [
    "# Run ADF test on original (non-differenced!) data using the \n",
    "# constant and trend regression pattern for daily vaccinations\n",
    "interpret_dftest(adfuller(df['daily_vaccinations'], regression=\"ct\"))"
   ]
  },
  {
   "cell_type": "code",
   "execution_count": 33,
   "id": "44ddb964-4123-4083-9d1f-98693383f1a1",
   "metadata": {},
   "outputs": [
    {
     "data": {
      "text/plain": [
       "Test Statistic                  -1.877032\n",
       "p-value                          0.342942\n",
       "#Lags Used                      15.000000\n",
       "Number of Observations Used    218.000000\n",
       "Critical Value (1%)             -3.460708\n",
       "Critical Value (5%)             -2.874891\n",
       "Critical Value (10%)            -2.573886\n",
       "dtype: float64"
      ]
     },
     "execution_count": 33,
     "metadata": {},
     "output_type": "execute_result"
    }
   ],
   "source": [
    "# Run ADF test on original (non-differenced!) data using the regular regression pattern for total vaccinations\n",
    "interpret_dftest(adfuller(df['daily_vaccinations'].diff().dropna()))"
   ]
  },
  {
   "cell_type": "code",
   "execution_count": 34,
   "id": "e988beee-71d5-4775-b44d-125209263174",
   "metadata": {},
   "outputs": [
    {
     "data": {
      "text/plain": [
       "Test Statistic                -7.981790e+00\n",
       "p-value                        2.611553e-12\n",
       "#Lags Used                     1.400000e+01\n",
       "Number of Observations Used    2.180000e+02\n",
       "Critical Value (1%)           -3.460708e+00\n",
       "Critical Value (5%)           -2.874891e+00\n",
       "Critical Value (10%)          -2.573886e+00\n",
       "dtype: float64"
      ]
     },
     "execution_count": 34,
     "metadata": {},
     "output_type": "execute_result"
    }
   ],
   "source": [
    "# Run ADF test on differenced data\n",
    "interpret_dftest(adfuller(df['daily_vaccinations'].diff().diff().dropna()))"
   ]
  },
  {
   "cell_type": "markdown",
   "id": "65c0dd11-4c56-423f-ae7f-b89c72b50635",
   "metadata": {},
   "source": [
    "Adjusted dickey-fuller test suggest that daily vaccinations is stationary at an alpha level of 0.05 on  twice-differenced data."
   ]
  }
 ],
 "metadata": {
  "kernelspec": {
   "display_name": "Python 3 (ipykernel)",
   "language": "python",
   "name": "python3"
  },
  "language_info": {
   "codemirror_mode": {
    "name": "ipython",
    "version": 3
   },
   "file_extension": ".py",
   "mimetype": "text/x-python",
   "name": "python",
   "nbconvert_exporter": "python",
   "pygments_lexer": "ipython3",
   "version": "3.8.5"
  }
 },
 "nbformat": 4,
 "nbformat_minor": 5
}
